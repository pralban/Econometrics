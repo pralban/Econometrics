{
 "cells": [
  {
   "cell_type": "markdown",
   "metadata": {},
   "source": [
    "# MODS202 - Econometrics Final Project"
   ]
  },
  {
   "cell_type": "markdown",
   "metadata": {},
   "source": [
    "## Authors:\n",
    "- **Gabriele Lorenzo**\n",
    "- **Aldo Pietromatera**"
   ]
  },
  {
   "cell_type": "markdown",
   "metadata": {},
   "source": [
    "### Import modules"
   ]
  },
  {
   "cell_type": "code",
   "execution_count": 133,
   "metadata": {},
   "outputs": [],
   "source": [
    "# imports\n",
    "import pandas as pd\n",
    "import numpy as np\n",
    "import matplotlib.pyplot as plt\n",
    "\n",
    "import statsmodels.api as sm\n",
    "from scipy.stats import t, f"
   ]
  },
  {
   "cell_type": "markdown",
   "metadata": {},
   "source": [
    "### Setup data for part 1"
   ]
  },
  {
   "cell_type": "code",
   "execution_count": 134,
   "metadata": {},
   "outputs": [
    {
     "data": {
      "text/html": [
       "<div>\n",
       "<style scoped>\n",
       "    .dataframe tbody tr th:only-of-type {\n",
       "        vertical-align: middle;\n",
       "    }\n",
       "\n",
       "    .dataframe tbody tr th {\n",
       "        vertical-align: top;\n",
       "    }\n",
       "\n",
       "    .dataframe thead th {\n",
       "        text-align: right;\n",
       "    }\n",
       "</style>\n",
       "<table border=\"1\" class=\"dataframe\">\n",
       "  <thead>\n",
       "    <tr style=\"text-align: right;\">\n",
       "      <th></th>\n",
       "      <th>price</th>\n",
       "      <th>crime</th>\n",
       "      <th>nox</th>\n",
       "      <th>rooms</th>\n",
       "      <th>dist</th>\n",
       "      <th>radial</th>\n",
       "      <th>proptax</th>\n",
       "      <th>stratio</th>\n",
       "      <th>lowstat</th>\n",
       "      <th>lprice</th>\n",
       "      <th>lnox</th>\n",
       "      <th>lproptax</th>\n",
       "    </tr>\n",
       "  </thead>\n",
       "  <tbody>\n",
       "    <tr>\n",
       "      <th>0</th>\n",
       "      <td>24000</td>\n",
       "      <td>0.006</td>\n",
       "      <td>5.38</td>\n",
       "      <td>6.57</td>\n",
       "      <td>4.09</td>\n",
       "      <td>1</td>\n",
       "      <td>29.6</td>\n",
       "      <td>15.3</td>\n",
       "      <td>4.98</td>\n",
       "      <td>10.085810</td>\n",
       "      <td>1.682688</td>\n",
       "      <td>5.690360</td>\n",
       "    </tr>\n",
       "    <tr>\n",
       "      <th>1</th>\n",
       "      <td>21599</td>\n",
       "      <td>0.027</td>\n",
       "      <td>4.69</td>\n",
       "      <td>6.42</td>\n",
       "      <td>4.97</td>\n",
       "      <td>2</td>\n",
       "      <td>24.2</td>\n",
       "      <td>17.8</td>\n",
       "      <td>9.14</td>\n",
       "      <td>9.980402</td>\n",
       "      <td>1.545433</td>\n",
       "      <td>5.488938</td>\n",
       "    </tr>\n",
       "    <tr>\n",
       "      <th>2</th>\n",
       "      <td>34700</td>\n",
       "      <td>0.027</td>\n",
       "      <td>4.69</td>\n",
       "      <td>7.18</td>\n",
       "      <td>4.97</td>\n",
       "      <td>2</td>\n",
       "      <td>24.2</td>\n",
       "      <td>17.8</td>\n",
       "      <td>4.03</td>\n",
       "      <td>10.454500</td>\n",
       "      <td>1.545433</td>\n",
       "      <td>5.488938</td>\n",
       "    </tr>\n",
       "    <tr>\n",
       "      <th>3</th>\n",
       "      <td>33400</td>\n",
       "      <td>0.032</td>\n",
       "      <td>4.58</td>\n",
       "      <td>7.00</td>\n",
       "      <td>6.06</td>\n",
       "      <td>3</td>\n",
       "      <td>22.2</td>\n",
       "      <td>18.7</td>\n",
       "      <td>2.94</td>\n",
       "      <td>10.416310</td>\n",
       "      <td>1.521699</td>\n",
       "      <td>5.402678</td>\n",
       "    </tr>\n",
       "    <tr>\n",
       "      <th>4</th>\n",
       "      <td>36199</td>\n",
       "      <td>0.069</td>\n",
       "      <td>4.58</td>\n",
       "      <td>7.15</td>\n",
       "      <td>6.06</td>\n",
       "      <td>3</td>\n",
       "      <td>22.2</td>\n",
       "      <td>18.7</td>\n",
       "      <td>5.33</td>\n",
       "      <td>10.496790</td>\n",
       "      <td>1.521699</td>\n",
       "      <td>5.402678</td>\n",
       "    </tr>\n",
       "  </tbody>\n",
       "</table>\n",
       "</div>"
      ],
      "text/plain": [
       "   price  crime   nox  rooms  dist  radial  proptax  stratio  lowstat  \\\n",
       "0  24000  0.006  5.38   6.57  4.09       1     29.6     15.3     4.98   \n",
       "1  21599  0.027  4.69   6.42  4.97       2     24.2     17.8     9.14   \n",
       "2  34700  0.027  4.69   7.18  4.97       2     24.2     17.8     4.03   \n",
       "3  33400  0.032  4.58   7.00  6.06       3     22.2     18.7     2.94   \n",
       "4  36199  0.069  4.58   7.15  6.06       3     22.2     18.7     5.33   \n",
       "\n",
       "      lprice      lnox  lproptax  \n",
       "0  10.085810  1.682688  5.690360  \n",
       "1   9.980402  1.545433  5.488938  \n",
       "2  10.454500  1.545433  5.488938  \n",
       "3  10.416310  1.521699  5.402678  \n",
       "4  10.496790  1.521699  5.402678  "
      ]
     },
     "execution_count": 134,
     "metadata": {},
     "output_type": "execute_result"
    }
   ],
   "source": [
    "# load data\n",
    "columns_name = [\n",
    "    \"price\",\n",
    "    \"crime\",\n",
    "    \"nox\",\n",
    "    \"rooms\",\n",
    "    \"dist\",\n",
    "    \"radial\",\n",
    "    \"proptax\",\n",
    "    \"stratio\",\n",
    "    \"lowstat\",\n",
    "    \"lprice\",\n",
    "    \"lnox\",\n",
    "    \"lproptax\",\n",
    "]\n",
    "raw_data = pd.read_csv(\n",
    "    \"./data/HPRICE2.raw\", delim_whitespace=True, header=None, names=columns_name\n",
    ")\n",
    "\n",
    "raw_data.head()"
   ]
  },
  {
   "cell_type": "markdown",
   "metadata": {},
   "source": [
    "Note that, in the following theoretical questions, we will refer to the dataset as the matrix $X$."
   ]
  },
  {
   "cell_type": "markdown",
   "metadata": {},
   "source": [
    "**<font color=\"#cf2626\" size=\"6\">\n",
    "    Part 1: Cross-Section Data\n",
    "</font>**"
   ]
  },
  {
   "cell_type": "markdown",
   "metadata": {},
   "source": [
    "**<font color=\"#0078D4\" size=\"5\">\n",
    "    Question 1: State the fundamental hypothesis under which the Ordinary Least Squares (OLS) estimators\n",
    "are unbiased.\n",
    "</font>**"
   ]
  },
  {
   "cell_type": "markdown",
   "metadata": {},
   "source": [
    "The fundamental hypothesis is that the disturbance/error term is of zero conditional mean, i.e. \n",
    "$$\n",
    "E(u|X) = E(u) = 0\n",
    "$$\n",
    "So, $X$ is uncorrelated with $u$.\n",
    "\n",
    "Where $u$, as said above, represents the error term in the linear model (you can see it in the next question).\n",
    "\n",
    "In other words, what you observe is independent from what you don't observe."
   ]
  },
  {
   "cell_type": "markdown",
   "metadata": {},
   "source": [
    "**<font color=\"#0078D4\" size=\"5\">\n",
    "    Question 2: Show that under this assumption the OLS estimators are indeed unbiased.\n",
    "</font>**"
   ]
  },
  {
   "cell_type": "markdown",
   "metadata": {},
   "source": [
    "Consider the linear model:\n",
    "\n",
    "$$\n",
    " y_i = \\beta_0 + x_{i1}\\beta_1 + x_{i2}\\beta_2 + \\ldots + x_{iK}\\beta_K + u_i\n",
    "$$\n",
    "\n",
    "Defining $ y = (y_1, \\ldots, y_n)^\\prime $, $ x_k = (x_{1k}, \\ldots, x_{nk})^\\prime $, $u = (u_1, \\ldots, u_n)^\\prime $, we can write the model in matrix notations:\n",
    "\n",
    "$$ y = X\\beta + u $$\n",
    "\n",
    "with $ \\beta = (\\beta_1, \\ldots, \\beta_K)^\\prime $ and $ X = [x_1, x_2, \\ldots, x_K] $. \n",
    "\n",
    "OLS estimates are obtained by solving the following minimization problem:\n",
    "\n",
    "$$ \\min_\\beta \\sum_{i=1}^{n} u_i^\\prime u_i = u^\\prime u = (y - X\\beta)^\\prime (y - X\\beta) $$\n",
    "\n",
    "The first-order condition is:\n",
    "\n",
    "$$ -2X^\\prime (y - X\\beta) = 0 $$\n",
    "\n",
    "This is known as an orthogonality condition between $ X $ and $ u = (y - X\\beta) $ by taking expectations. \n",
    "\n",
    "Re-arranging terms:\n",
    "\n",
    "$$ (X^\\prime X)\\beta = X^\\prime y $$\n",
    "\n",
    "If there is no multi-collinearity, then the matrix $ (X^\\prime X) $ can be inverted, and the OLS estimator is given by:\n",
    "\n",
    "$$ \\hat{\\beta} = (X^\\prime X)^{-1}X^\\prime y$$\n",
    "\n",
    "This estimator is unbiased if the fundamental assumption (in matrix form) $ E(X^\\prime u) = 0 $ is satisfied:\n",
    "\n",
    "$$ E \\hat{\\beta} = E((X^\\prime X)^{-1}X^\\prime(X\\beta + u)) = \\beta + E(X^\\prime u) = \\beta $$\n"
   ]
  },
  {
   "cell_type": "markdown",
   "metadata": {},
   "source": [
    "**<font color=\"#0078D4\" size=\"5\">\n",
    "    Question 3: Explain the sample selection bias with an example from the course.\n",
    "</font>**"
   ]
  },
  {
   "cell_type": "markdown",
   "metadata": {},
   "source": [
    "Sample selection bias occurs when the data points included in the analysis are not representative of the broader population. This non-random selection can lead to misleading conclusions and affect the generalizability of the study. \n",
    "\n",
    "Selection bias can arise in various ways, for example, in the course we introduced the **Survivor Bias** illustrating the examples of RAF planes returning from war zones.\n",
    "In this case, the data points are not representative of the broader population of planes, since the planes that were shot down are not included in the analysis.\n",
    "\n",
    "Is important to note that the sample selection bias is a broader concept than the survivor bias, since it can arise in many other ways."
   ]
  },
  {
   "cell_type": "markdown",
   "metadata": {},
   "source": [
    "**<font color=\"#0078D4\" size=\"5\">\n",
    "    Question 4: Explain the omitted variable bias with an example from the course.\n",
    "</font>**"
   ]
  },
  {
   "cell_type": "markdown",
   "metadata": {},
   "source": [
    "We have an omitted variable bias when we **omit** a variable that is correlated with the dependent variable.\n",
    "\n",
    "In other words, when we leave out a viariable that matters for the dependent variable $y$."
   ]
  },
  {
   "cell_type": "markdown",
   "metadata": {},
   "source": [
    "In the course we saw the example in which we were trying to compute the wage of a person observing how many years of education the person has and the innate ability of that person. So, our model should be like:\n",
    "\n",
    "$$ \n",
    "wage = \\beta_0 + \\beta_1 educ + \\beta_2 abil + u.\n",
    "$$\n",
    "\n",
    "This model obtains $\\beta_0$, $\\beta_1$ and $\\beta_2$ which are unbiased, i.e, we runned a regression in educ and abil and got these unbiased coeficients.\n",
    "\n",
    "Although, imagine we exclude $\\beta_2$, running a regression with only educ, that gives us the following model:\n",
    "\n",
    "$$\n",
    "wage = \\tilde{\\beta}_0 + \\tilde{\\beta}_1 educ + v\n",
    "$$\n",
    "\n",
    "In this new model we have that $v = \\beta_2 abil + u$, and that $\\tilde{\\beta}_1 \\neq \\beta_1$.\n",
    "\n",
    "In fact, when we don't include the other variable in our regression we obtain, in general, an biased estimator $\\tilde{\\beta}_1$.\n",
    "\n",
    "It can be shown that $ E(\\tilde{\\beta}_1) = \\beta_1 + \\tilde{\\beta}_2 \\tilde{\\delta}_1$, where $\\tilde{\\delta}_1$ is the sample covariance between educ and abil. So $\\tilde{\\beta}_1$ is unbiased only if $\\tilde{\\delta}_1=0$, which means that educ and abil are uncorrelated.\n",
    "\n",
    "In our example, in general, we believe that $educ$ and $abil$ are positive correlated and as more hability leads to higher productivity we have that $\\beta_2 > 0$, so we conclude that the OLS estimators for the equation $wage = \\tilde{\\beta}_0 + \\tilde{\\beta}_0 educ + v$ are on average too large."
   ]
  },
  {
   "cell_type": "markdown",
   "metadata": {},
   "source": [
    "**<font color=\"#0078D4\" size=\"5\">\n",
    "    Question 5: Explain the problem of multicollinearity. Is it a problem in this dataset?\n",
    "</font>**"
   ]
  },
  {
   "cell_type": "markdown",
   "metadata": {},
   "source": [
    "The multicollinearity problem arises when two or more columns of the matrix $ X $ are linearly dependent (or almost).\n",
    "\n",
    "If so, the determinant of the matrix $ (X^\\prime X) $ is zero or almost zero.\n",
    "\n",
    "$$\n",
    "det(X^\\prime X) = 0 \n",
    "$$\n",
    "\n",
    "\n",
    "In this case, the matrix $ (X^\\prime X) $ is not invertible, and the OLS estimator cannot be computed.\n",
    "\n",
    "A solution to this problem is to drop one of the linearly dependent columns or to add some observations to the dataset."
   ]
  },
  {
   "cell_type": "markdown",
   "metadata": {},
   "source": [
    "The dataset of the project does not have a multicollinearity problem because the determinant of the matrix $ (X^\\prime X) $ is not zero, as shown in the code below:"
   ]
  },
  {
   "cell_type": "code",
   "execution_count": 135,
   "metadata": {},
   "outputs": [
    {
     "name": "stdout",
     "output_type": "stream",
     "text": [
      "Determinant of the matrix (X'X):  4.0362932604729155e+42\n"
     ]
    }
   ],
   "source": [
    "# columns_name = [\"price\", \"crime\", \"nox\", \"rooms\", \"dist\", \"radial\", \"proptax\", \"stratio\", \"lowstat\", \"lprice\", \"lnox\", \"lproptax\"]\n",
    "X = raw_data[columns_name]\n",
    "\n",
    "print(\"Determinant of the matrix (X'X): \", np.linalg.det(X.T.dot(X)))"
   ]
  },
  {
   "cell_type": "markdown",
   "metadata": {},
   "source": [
    "**<font color=\"#0078D4\" size=\"5\">\n",
    "    Question 6: Create three categories of nox levels (low, medium, high), corresponding to the following\n",
    "    percentiles: 0-39%, 40%-60%, 61%-100%\n",
    "</font>**"
   ]
  },
  {
   "cell_type": "code",
   "execution_count": 136,
   "metadata": {},
   "outputs": [
    {
     "data": {
      "text/html": [
       "<div>\n",
       "<style scoped>\n",
       "    .dataframe tbody tr th:only-of-type {\n",
       "        vertical-align: middle;\n",
       "    }\n",
       "\n",
       "    .dataframe tbody tr th {\n",
       "        vertical-align: top;\n",
       "    }\n",
       "\n",
       "    .dataframe thead th {\n",
       "        text-align: right;\n",
       "    }\n",
       "</style>\n",
       "<table border=\"1\" class=\"dataframe\">\n",
       "  <thead>\n",
       "    <tr style=\"text-align: right;\">\n",
       "      <th></th>\n",
       "      <th>price</th>\n",
       "      <th>crime</th>\n",
       "      <th>nox</th>\n",
       "      <th>rooms</th>\n",
       "      <th>dist</th>\n",
       "      <th>radial</th>\n",
       "      <th>proptax</th>\n",
       "      <th>stratio</th>\n",
       "      <th>lowstat</th>\n",
       "      <th>lprice</th>\n",
       "      <th>lnox</th>\n",
       "      <th>lproptax</th>\n",
       "      <th>nox_cat</th>\n",
       "      <th>nox_cat_m_h</th>\n",
       "    </tr>\n",
       "  </thead>\n",
       "  <tbody>\n",
       "    <tr>\n",
       "      <th>0</th>\n",
       "      <td>24000</td>\n",
       "      <td>0.006</td>\n",
       "      <td>5.38</td>\n",
       "      <td>6.57</td>\n",
       "      <td>4.09</td>\n",
       "      <td>1</td>\n",
       "      <td>29.6</td>\n",
       "      <td>15.3</td>\n",
       "      <td>4.98</td>\n",
       "      <td>10.085810</td>\n",
       "      <td>1.682688</td>\n",
       "      <td>5.690360</td>\n",
       "      <td>medium</td>\n",
       "      <td>1</td>\n",
       "    </tr>\n",
       "    <tr>\n",
       "      <th>1</th>\n",
       "      <td>21599</td>\n",
       "      <td>0.027</td>\n",
       "      <td>4.69</td>\n",
       "      <td>6.42</td>\n",
       "      <td>4.97</td>\n",
       "      <td>2</td>\n",
       "      <td>24.2</td>\n",
       "      <td>17.8</td>\n",
       "      <td>9.14</td>\n",
       "      <td>9.980402</td>\n",
       "      <td>1.545433</td>\n",
       "      <td>5.488938</td>\n",
       "      <td>low</td>\n",
       "      <td>0</td>\n",
       "    </tr>\n",
       "    <tr>\n",
       "      <th>2</th>\n",
       "      <td>34700</td>\n",
       "      <td>0.027</td>\n",
       "      <td>4.69</td>\n",
       "      <td>7.18</td>\n",
       "      <td>4.97</td>\n",
       "      <td>2</td>\n",
       "      <td>24.2</td>\n",
       "      <td>17.8</td>\n",
       "      <td>4.03</td>\n",
       "      <td>10.454500</td>\n",
       "      <td>1.545433</td>\n",
       "      <td>5.488938</td>\n",
       "      <td>low</td>\n",
       "      <td>0</td>\n",
       "    </tr>\n",
       "    <tr>\n",
       "      <th>3</th>\n",
       "      <td>33400</td>\n",
       "      <td>0.032</td>\n",
       "      <td>4.58</td>\n",
       "      <td>7.00</td>\n",
       "      <td>6.06</td>\n",
       "      <td>3</td>\n",
       "      <td>22.2</td>\n",
       "      <td>18.7</td>\n",
       "      <td>2.94</td>\n",
       "      <td>10.416310</td>\n",
       "      <td>1.521699</td>\n",
       "      <td>5.402678</td>\n",
       "      <td>low</td>\n",
       "      <td>0</td>\n",
       "    </tr>\n",
       "    <tr>\n",
       "      <th>4</th>\n",
       "      <td>36199</td>\n",
       "      <td>0.069</td>\n",
       "      <td>4.58</td>\n",
       "      <td>7.15</td>\n",
       "      <td>6.06</td>\n",
       "      <td>3</td>\n",
       "      <td>22.2</td>\n",
       "      <td>18.7</td>\n",
       "      <td>5.33</td>\n",
       "      <td>10.496790</td>\n",
       "      <td>1.521699</td>\n",
       "      <td>5.402678</td>\n",
       "      <td>low</td>\n",
       "      <td>0</td>\n",
       "    </tr>\n",
       "  </tbody>\n",
       "</table>\n",
       "</div>"
      ],
      "text/plain": [
       "   price  crime   nox  rooms  dist  radial  proptax  stratio  lowstat  \\\n",
       "0  24000  0.006  5.38   6.57  4.09       1     29.6     15.3     4.98   \n",
       "1  21599  0.027  4.69   6.42  4.97       2     24.2     17.8     9.14   \n",
       "2  34700  0.027  4.69   7.18  4.97       2     24.2     17.8     4.03   \n",
       "3  33400  0.032  4.58   7.00  6.06       3     22.2     18.7     2.94   \n",
       "4  36199  0.069  4.58   7.15  6.06       3     22.2     18.7     5.33   \n",
       "\n",
       "      lprice      lnox  lproptax nox_cat  nox_cat_m_h  \n",
       "0  10.085810  1.682688  5.690360  medium            1  \n",
       "1   9.980402  1.545433  5.488938     low            0  \n",
       "2  10.454500  1.545433  5.488938     low            0  \n",
       "3  10.416310  1.521699  5.402678     low            0  \n",
       "4  10.496790  1.521699  5.402678     low            0  "
      ]
     },
     "execution_count": 136,
     "metadata": {},
     "output_type": "execute_result"
    }
   ],
   "source": [
    "percentiles = [0, 0.4, 0.6, 1]\n",
    "labels = [\"low\", \"medium\", \"high\"]\n",
    "raw_data[\"nox_cat\"] = pd.qcut(raw_data[\"nox\"], q=percentiles, labels=labels)\n",
    "\n",
    "# create a column in raw_data that is 0 if nox_cat is low and 1 otherwise\n",
    "raw_data[\"nox_cat_m_h\"] = np.where(raw_data[\"nox_cat\"] == \"low\", 0, 1)\n",
    "\n",
    "raw_data.head()"
   ]
  },
  {
   "cell_type": "markdown",
   "metadata": {},
   "source": [
    "**<font color=\"#0078D4\" size=\"5\">\n",
    "    Question 7: Compute for each category of nox level the average median price and comment on your\n",
    "    results\n",
    "</font>**"
   ]
  },
  {
   "cell_type": "code",
   "execution_count": 137,
   "metadata": {},
   "outputs": [
    {
     "data": {
      "text/html": [
       "<div>\n",
       "<style scoped>\n",
       "    .dataframe tbody tr th:only-of-type {\n",
       "        vertical-align: middle;\n",
       "    }\n",
       "\n",
       "    .dataframe tbody tr th {\n",
       "        vertical-align: top;\n",
       "    }\n",
       "\n",
       "    .dataframe thead th {\n",
       "        text-align: right;\n",
       "    }\n",
       "</style>\n",
       "<table border=\"1\" class=\"dataframe\">\n",
       "  <thead>\n",
       "    <tr style=\"text-align: right;\">\n",
       "      <th></th>\n",
       "      <th>nox_cat</th>\n",
       "      <th>avg_medianPrice</th>\n",
       "    </tr>\n",
       "  </thead>\n",
       "  <tbody>\n",
       "    <tr>\n",
       "      <th>0</th>\n",
       "      <td>low</td>\n",
       "      <td>27170.609524</td>\n",
       "    </tr>\n",
       "    <tr>\n",
       "      <th>1</th>\n",
       "      <td>medium</td>\n",
       "      <td>20661.824742</td>\n",
       "    </tr>\n",
       "    <tr>\n",
       "      <th>2</th>\n",
       "      <td>high</td>\n",
       "      <td>18496.477387</td>\n",
       "    </tr>\n",
       "  </tbody>\n",
       "</table>\n",
       "</div>"
      ],
      "text/plain": [
       "  nox_cat  avg_medianPrice\n",
       "0     low     27170.609524\n",
       "1  medium     20661.824742\n",
       "2    high     18496.477387"
      ]
     },
     "execution_count": 137,
     "metadata": {},
     "output_type": "execute_result"
    }
   ],
   "source": [
    "avg_medianPrice_per_noxCat = (\n",
    "    raw_data.groupby(\"nox_cat\", observed=False)[\"price\"]\n",
    "    .mean()\n",
    "    .reset_index()\n",
    "    .rename(columns={\"price\": \"avg_medianPrice\"})\n",
    ")\n",
    "\n",
    "avg_medianPrice_per_noxCat.head()"
   ]
  },
  {
   "cell_type": "markdown",
   "metadata": {},
   "source": [
    "**<font color=\"#0078D4\" size=\"5\">\n",
    "    Question 8: Produce a scatter plot with the variable price on the y-axis and the variable nox on the x-axis.\n",
    "</font>**"
   ]
  },
  {
   "cell_type": "code",
   "execution_count": 138,
   "metadata": {},
   "outputs": [
    {
     "data": {
      "image/png": "[encoded data removed]",
      "text/plain": [
       "<Figure size 640x480 with 1 Axes>"
      ]
     },
     "metadata": {},
     "output_type": "display_data"
    }
   ],
   "source": [
    "plt.scatter(raw_data[\"nox\"], raw_data[\"price\"])\n",
    "plt.xlabel(\"nox\")\n",
    "plt.ylabel(\"price\")\n",
    "plt.show()"
   ]
  },
  {
   "cell_type": "markdown",
   "metadata": {},
   "source": [
    "**<font color=\"#0078D4\" size=\"5\">\n",
    "    Is this a Ceteris Paribus effect?\n",
    "</font>**"
   ]
  },
  {
   "cell_type": "markdown",
   "metadata": {},
   "source": [
    "Ceteris paribus is a concept used in statistical analysis where the effect of a single variable is examined while keeping all other variables constant. \n",
    "\n",
    "A scatter plot alone cannot demonstrate a ceteris paribus effect, because, a scatter plot shows the relationship between two variables, such as 'price' and 'nox', but it doesn't account for the influence of other variables. To assess the ceteris paribus effect, you would typically use regression analysis, where you can control for the impact of other variables and isolate the specific effect of 'nox' on 'price' while holding other factors constant.\n",
    "\n",
    "So, what we can do is to ensure that the relationship between the variable of interest and the dependent variable appears linear in the scatterplot. \n",
    "\n",
    "If the relationship is non-linear, the ceteris paribus assumption might be violated, like in our case."
   ]
  },
  {
   "cell_type": "markdown",
   "metadata": {},
   "source": [
    "**<font color=\"#0078D4\" size=\"5\">\n",
    "    Question 9: Run a regression of price on a constant, crime, nox, rooms, proptax.\n",
    "    Comment on the histogram of the residuals.\n",
    "    Interpret all coefficients.\n",
    "</font>**"
   ]
  },
  {
   "cell_type": "code",
   "execution_count": 139,
   "metadata": {},
   "outputs": [
    {
     "name": "stdout",
     "output_type": "stream",
     "text": [
      "                            OLS Regression Results                            \n",
      "==============================================================================\n",
      "Dep. Variable:                  price   R-squared:                       0.575\n",
      "Model:                            OLS   Adj. R-squared:                  0.572\n",
      "Method:                 Least Squares   F-statistic:                     169.6\n",
      "Date:                Tue, 12 Dec 2023   Prob (F-statistic):           1.06e-91\n",
      "Time:                        23:43:54   Log-Likelihood:                -5119.6\n",
      "No. Observations:                 506   AIC:                         1.025e+04\n",
      "Df Residuals:                     501   BIC:                         1.027e+04\n",
      "Df Model:                           4                                         \n",
      "Covariance Type:            nonrobust                                         \n",
      "==============================================================================\n",
      "                 coef    std err          t      P>|t|      [0.025      0.975]\n",
      "------------------------------------------------------------------------------\n",
      "const      -1.868e+04   3215.205     -5.811      0.000    -2.5e+04   -1.24e+04\n",
      "crime       -136.5438     38.529     -3.544      0.000    -212.241     -60.846\n",
      "nox         -660.4672    314.634     -2.099      0.036   -1278.632     -42.303\n",
      "rooms       7797.9286    404.345     19.285      0.000    7003.507    8592.350\n",
      "proptax      -89.4144     23.966     -3.731      0.000    -136.500     -42.329\n",
      "==============================================================================\n",
      "Omnibus:                      264.796   Durbin-Watson:                   0.752\n",
      "Prob(Omnibus):                  0.000   Jarque-Bera (JB):             2348.397\n",
      "Skew:                           2.111   Prob(JB):                         0.00\n",
      "Kurtosis:                      12.673   Cond. No.                         546.\n",
      "==============================================================================\n",
      "\n",
      "Notes:\n",
      "[1] Standard Errors assume that the covariance matrix of the errors is correctly specified.\n"
     ]
    },
    {
     "data": {
      "image/png": "[encoded data removed]",
      "text/plain": [
       "<Figure size 640x480 with 1 Axes>"
      ]
     },
     "metadata": {},
     "output_type": "display_data"
    }
   ],
   "source": [
    "# create X and y\n",
    "X = raw_data[[\"crime\", \"nox\", \"rooms\", \"proptax\"]]\n",
    "y = raw_data[\"price\"]\n",
    "\n",
    "# add constant\n",
    "X = sm.add_constant(X)\n",
    "\n",
    "# fit model\n",
    "model = sm.OLS(y, X).fit()\n",
    "\n",
    "# print summary\n",
    "print(model.summary())\n",
    "\n",
    "# plot residuals\n",
    "plt.hist(model.resid)\n",
    "plt.show()"
   ]
  },
  {
   "cell_type": "markdown",
   "metadata": {},
   "source": [
    "**<font color=\"#0078D4\" size=\"5\">\n",
    "    Comment on the histogram of the residuals.\n",
    "</font>**\n",
    "\n",
    "The histogram of the residuals is not normally distributed. It is skewed to the right.\n",
    "This means that the model is not a good fit."
   ]
  },
  {
   "cell_type": "markdown",
   "metadata": {},
   "source": [
    "**<font color=\"#0078D4\" size=\"5\">\n",
    "    Interpret all coefficients.\n",
    "</font>**\n",
    "\n",
    "- The coefficient of crime is negative, which means that the higher the crime rate, the lower the price.\n",
    "- The coefficient of nox is negative, which means that the higher the nox, the lower the price.\n",
    "- The coefficient of rooms is positive, which means that the higher the number of rooms, the higher the price.\n",
    "- The coefficient of proptax is negative, which means that the higher the proptax, the lower the price."
   ]
  },
  {
   "cell_type": "markdown",
   "metadata": {},
   "source": [
    "**<font color=\"#0078D4\" size=\"5\">\n",
    "    Question 10: Run a regression of lprice on a constant, crime, nox, rooms, proptax. \n",
    "</font>**"
   ]
  },
  {
   "cell_type": "code",
   "execution_count": 140,
   "metadata": {},
   "outputs": [
    {
     "name": "stdout",
     "output_type": "stream",
     "text": [
      "                            OLS Regression Results                            \n",
      "==============================================================================\n",
      "Dep. Variable:                 lprice   R-squared:                       0.611\n",
      "Model:                            OLS   Adj. R-squared:                  0.608\n",
      "Method:                 Least Squares   F-statistic:                     196.9\n",
      "Date:                Tue, 12 Dec 2023   Prob (F-statistic):          2.50e-101\n",
      "Time:                        23:43:54   Log-Likelihood:                -26.367\n",
      "No. Observations:                 506   AIC:                             62.73\n",
      "Df Residuals:                     501   BIC:                             83.87\n",
      "Df Model:                           4                                         \n",
      "Covariance Type:            nonrobust                                         \n",
      "==============================================================================\n",
      "                 coef    std err          t      P>|t|      [0.025      0.975]\n",
      "------------------------------------------------------------------------------\n",
      "const          8.6550      0.137     63.320      0.000       8.386       8.924\n",
      "crime         -0.0125      0.002     -7.641      0.000      -0.016      -0.009\n",
      "nox           -0.0476      0.013     -3.557      0.000      -0.074      -0.021\n",
      "rooms          0.2816      0.017     16.379      0.000       0.248       0.315\n",
      "proptax       -0.0043      0.001     -4.184      0.000      -0.006      -0.002\n",
      "==============================================================================\n",
      "Omnibus:                      118.409   Durbin-Watson:                   0.764\n",
      "Prob(Omnibus):                  0.000   Jarque-Bera (JB):              730.140\n",
      "Skew:                           0.859   Prob(JB):                    2.83e-159\n",
      "Kurtosis:                       8.629   Cond. No.                         546.\n",
      "==============================================================================\n",
      "\n",
      "Notes:\n",
      "[1] Standard Errors assume that the covariance matrix of the errors is correctly specified.\n",
      "SSR0= 32.8804322572134\n"
     ]
    },
    {
     "data": {
      "image/png": "[encoded data removed]",
      "text/plain": [
       "<Figure size 640x480 with 1 Axes>"
      ]
     },
     "metadata": {},
     "output_type": "display_data"
    }
   ],
   "source": [
    "# the only difference is that we use lprice instead of price\n",
    "X0 = X\n",
    "y = raw_data[\"lprice\"]\n",
    "\n",
    "# fit model\n",
    "model = sm.OLS(y, X).fit()\n",
    "\n",
    "# print summary\n",
    "print(model.summary())\n",
    "\n",
    "df_u = model.df_resid\n",
    "u = model.resid\n",
    "SSR0 = model.ssr\n",
    "print(\"SSR0=\", SSR0)\n",
    "\n",
    "# plot residuals\n",
    "plt.hist(model.resid)\n",
    "plt.show()"
   ]
  },
  {
   "cell_type": "markdown",
   "metadata": {},
   "source": [
    "**<font color=\"#0078D4\" size=\"5\">\n",
    "    Comment on the histogram of the residuals.\n",
    "</font>**\n",
    "\n",
    "The histogram of the residuals is more normal than the one from the previous question.\n",
    "This is because we used the log of the price instead of the price itself.\n",
    "This is a common transformation to do when the distribution of the dependent variable is skewed.\n",
    "In this case, the distribution of the dependent variable is skewed to the right."
   ]
  },
  {
   "cell_type": "markdown",
   "metadata": {},
   "source": [
    "**<font color=\"#0078D4\" size=\"5\">\n",
    "    Interpret all coefficients.\n",
    "</font>**\n",
    "- The coefficient of crime is negative and significant. This means that the higher the crime rate, the lower the price of the house.\n",
    "- The coefficient of nox is negative and significant. This means that the higher the nox, the lower the price of the house.\n",
    "- The coefficient of rooms is positive and significant. This means that the more rooms, the higher the price of the house.\n",
    "- The coefficient of proptax is negative and significant. This means that the higher the proptax, the lower the price of the house.\n",
    "- The coefficient of the constant is positive and significant. This means that the price of the house is positive even when all the other variables are 0."
   ]
  },
  {
   "cell_type": "markdown",
   "metadata": {},
   "source": [
    "**<font color=\"#0078D4\" size=\"5\">\n",
    "    Question 11: Run a regression of lprice on a constant, crime, lnox, rooms, lproptax.\n",
    "</font>**"
   ]
  },
  {
   "cell_type": "code",
   "execution_count": 141,
   "metadata": {},
   "outputs": [
    {
     "name": "stdout",
     "output_type": "stream",
     "text": [
      "                            OLS Regression Results                            \n",
      "==============================================================================\n",
      "Dep. Variable:                 lprice   R-squared:                       0.612\n",
      "Model:                            OLS   Adj. R-squared:                  0.609\n",
      "Method:                 Least Squares   F-statistic:                     197.4\n",
      "Date:                Tue, 12 Dec 2023   Prob (F-statistic):          1.77e-101\n",
      "Time:                        23:43:54   Log-Likelihood:                -26.021\n",
      "No. Observations:                 506   AIC:                             62.04\n",
      "Df Residuals:                     501   BIC:                             83.18\n",
      "Df Model:                           4                                         \n",
      "Covariance Type:            nonrobust                                         \n",
      "==============================================================================\n",
      "                 coef    std err          t      P>|t|      [0.025      0.975]\n",
      "------------------------------------------------------------------------------\n",
      "const          9.7505      0.253     38.476      0.000       9.253      10.248\n",
      "crime         -0.0128      0.002     -8.002      0.000      -0.016      -0.010\n",
      "lnox          -0.2769      0.077     -3.591      0.000      -0.428      -0.125\n",
      "rooms          0.2802      0.017     16.282      0.000       0.246       0.314\n",
      "lproptax      -0.1779      0.042     -4.215      0.000      -0.261      -0.095\n",
      "==============================================================================\n",
      "Omnibus:                      116.110   Durbin-Watson:                   0.768\n",
      "Prob(Omnibus):                  0.000   Jarque-Bera (JB):              716.737\n",
      "Skew:                           0.838   Prob(JB):                    2.30e-156\n",
      "Kurtosis:                       8.585   Cond. No.                         241.\n",
      "==============================================================================\n",
      "\n",
      "Notes:\n",
      "[1] Standard Errors assume that the covariance matrix of the errors is correctly specified.\n"
     ]
    },
    {
     "data": {
      "image/png": "[encoded data removed]",
      "text/plain": [
       "<Figure size 640x480 with 1 Axes>"
      ]
     },
     "metadata": {},
     "output_type": "display_data"
    }
   ],
   "source": [
    "# create X and y\n",
    "X = raw_data[[\"crime\", \"lnox\", \"rooms\", \"lproptax\"]]\n",
    "y = raw_data[\"lprice\"]\n",
    "\n",
    "# add constant\n",
    "X = sm.add_constant(X)\n",
    "\n",
    "# fit model\n",
    "model = sm.OLS(y, X).fit()\n",
    "\n",
    "# print summary\n",
    "print(model.summary())\n",
    "\n",
    "# plot residuals\n",
    "plt.hist(model.resid)\n",
    "plt.show()"
   ]
  },
  {
   "cell_type": "markdown",
   "metadata": {},
   "source": [
    "**<font color=\"#0078D4\" size=\"5\">\n",
    "    Comment on the histogram of the residuals.\n",
    "</font>**\n",
    "\n",
    "The histogram of the residuals is more symmetric than the previous one.\n",
    "The mean is close to zero and the variance is constant."
   ]
  },
  {
   "cell_type": "markdown",
   "metadata": {},
   "source": [
    "**<font color=\"#0078D4\" size=\"5\">\n",
    "    Interpret all coefficients.\n",
    "</font>**\n",
    "- The coefficient of crime is negative and significant. This means that the higher the crime rate, the lower the price of the house.\n",
    "- The coefficient of lnox is negative and significant. This means that the higher the nox, the lower the price of the house.\n",
    "- The coefficient of rooms is positive and significant. This means that the more rooms, the higher the price of the house.\n",
    "- The coefficient of lproptax is negative and significant. This means that the higher the proptax, the lower the price of the house."
   ]
  },
  {
   "cell_type": "markdown",
   "metadata": {},
   "source": [
    "**<font color=\"#0078D4\" size=\"5\">\n",
    "    Question 12: In the specification of question 10, test the hypothesis $H_0$: $\\beta_{nox} >0$ vs. $H_1$: $\\beta_{nox} < 0$ at the 10%\n",
    "    level\n",
    "</font>**"
   ]
  },
  {
   "cell_type": "markdown",
   "metadata": {},
   "source": [
    "When we state the alternative like H1: $\\beta_{nox} < 0$, we are doing a one-tailed test and we are really saying that the null hypothesis is $\\beta_{nox} >= 0$. We only care about detecting that $\\beta_j$ is different from zero when $\\beta_j$ is actually negative. In other words, if we reject $\\beta_j = 0$, then we automatically reject $\\beta_j > 0$.\n",
    "\n",
    "Therefore, it suffices to act as if we are testing H0: $\\beta_{nox} = 0$ vs. H1: $\\beta_{nox} < 0$.\n",
    "\n",
    "That is a one-tailed test."
   ]
  },
  {
   "cell_type": "code",
   "execution_count": 142,
   "metadata": {},
   "outputs": [
    {
     "name": "stdout",
     "output_type": "stream",
     "text": [
      "t_nox= -3.557029010007289\n",
      "critical_value= -1.2832436320111769\n",
      "Reject H0?   True\n"
     ]
    }
   ],
   "source": [
    "alpha = 0.1\n",
    "\n",
    "# re-create X and y for question 10\n",
    "X = raw_data[[\"crime\", \"nox\", \"rooms\", \"proptax\"]]\n",
    "y = raw_data[\"lprice\"]\n",
    "\n",
    "# add constant\n",
    "X = sm.add_constant(X)\n",
    "\n",
    "# fit model\n",
    "model = sm.OLS(y, X).fit()\n",
    "\n",
    "# t-statistic for nox\n",
    "t_Bnox = model.tvalues[\"nox\"]\n",
    "df = model.df_resid\n",
    "print(\"t_nox=\", t_Bnox)\n",
    "\n",
    "# critical value for t-distribution\n",
    "critical_value = t.ppf(\n",
    "    alpha, df\n",
    ")  # We are using alpha (instead of 1-alpha) because the test is t_nox < -c  with c > 0\n",
    "print(\"critical_value=\", critical_value)\n",
    "\n",
    "print(\"Reject H0?  \", t_Bnox < critical_value)"
   ]
  },
  {
   "cell_type": "markdown",
   "metadata": {},
   "source": [
    "**<font color=\"#0078D4\" size=\"5\">\n",
    "    Question 13: In the specification of question 10, test the hypothesis $H_0: \\beta_{nox} = 0 $ vs. $H_1: \\beta_{nox} ≠ 0 $ at the 10% level using the p-value of the test\n",
    "</font>**"
   ]
  },
  {
   "cell_type": "markdown",
   "metadata": {},
   "source": [
    "In this case we are testing the null hypothesis $H_0$ against a two-sided alternative hypothesis $H_1$.\n",
    "\n",
    "The rejection rule is:\n",
    "$$\n",
    "    |{t}| > c\n",
    "$$\n",
    "\n",
    "where c is the critical value of the t-distribution with n-k-1 degrees of freedom and a significance level of 10% (5% each side).\n",
    "\n",
    "OSS. We are using the summary of the question 12 above."
   ]
  },
  {
   "cell_type": "code",
   "execution_count": 143,
   "metadata": {},
   "outputs": [
    {
     "name": "stdout",
     "output_type": "stream",
     "text": [
      "p-value:  0.0004106959052589233\n",
      "Reject H0? :  True\n"
     ]
    }
   ],
   "source": [
    "# with the p-value method\n",
    "alpha = 0.1\n",
    "\n",
    "p_value = model.pvalues[\"nox\"]\n",
    "print(\"p-value: \", p_value)\n",
    "\n",
    "# compare p-value and alpha\n",
    "print(\"Reject H0? : \", p_value < alpha)"
   ]
  },
  {
   "cell_type": "markdown",
   "metadata": {},
   "source": [
    "Or, with the t-statistic method... (just to verify)"
   ]
  },
  {
   "cell_type": "code",
   "execution_count": 144,
   "metadata": {},
   "outputs": [
    {
     "name": "stdout",
     "output_type": "stream",
     "text": [
      "t-statistic:  3.557029010007289\n",
      "critical value:  1.647900748316425\n",
      "Reject H0? :  True\n"
     ]
    }
   ],
   "source": [
    "# compute t-statistic\n",
    "t_statistic_abs = np.abs(model.tvalues[\"nox\"])\n",
    "print(\"t-statistic: \", t_statistic_abs)\n",
    "\n",
    "# compute critical value\n",
    "critical_value = t.ppf(1 - alpha / 2, df=model.df_resid)\n",
    "print(\"critical value: \", critical_value)\n",
    "\n",
    "# compare t-statistic and critical value\n",
    "print(\"Reject H0? : \", t_statistic_abs > critical_value)"
   ]
  },
  {
   "cell_type": "markdown",
   "metadata": {},
   "source": [
    "**<font color=\"#0078D4\" size=\"5\">\n",
    "    Question 14: In the specification of question 10, test the hypothesis $H_0$: $\\beta_{crime} = \\beta_{proptax} $ at the 1% level\n",
    "</font>**"
   ]
  },
  {
   "cell_type": "markdown",
   "metadata": {},
   "source": [
    "In order to perform this test, we define the variable $\\theta = \\beta_{crime} - \\beta_{proptax}$. Then, we test the hypothesis H0: $\\theta = 0$ vs. H1: $\\theta ≠ 0$ at the 1% level.\n",
    "\n",
    "Starting from the X of question 10:\n",
    "$$\n",
    "X_{question10} = \\beta_0 + \\beta_{crime} * crime + \\beta_{nox} * nox + \\beta_{rooms} * rooms + \\beta_{proptax} * proptax + \\epsilon\n",
    "$$\n",
    "$$\n",
    "\\theta = \\beta_{crime} - \\beta_{proptax}\n",
    "$$\n",
    "and so:\n",
    "$$\n",
    "\\beta_{crime} = \\theta + \\beta_{proptax}\n",
    "$$\n",
    "Rewriting $X_{question10}$ in terms of $\\theta$:\n",
    "$$\n",
    "X_{question10} = \\beta_0 + (\\theta + \\beta_{proptax}) * crime + \\beta_{nox} * nox + \\beta_{rooms} * rooms + \\beta_{proptax} * proptax + \\epsilon\n",
    "$$\n",
    "$$\n",
    "X_{question10} = \\beta_0 + \\theta * crime + \\beta_{proptax} * crime + \\beta_{nox} * nox + \\beta_{rooms} * rooms + \\beta_{proptax} * proptax + \\epsilon\n",
    "$$\n",
    "Finally, we can rewrite $X_{question10}$ in order to answer the question:\n",
    "$$\n",
    "X = \\beta_0 + \\theta * crime + \\beta_{nox} * nox + \\beta_{rooms} * rooms + \\beta_{proptax} * (crime + proptax) + \\epsilon\n",
    "$$"
   ]
  },
  {
   "cell_type": "code",
   "execution_count": 145,
   "metadata": {},
   "outputs": [
    {
     "name": "stdout",
     "output_type": "stream",
     "text": [
      "                            OLS Regression Results                            \n",
      "==============================================================================\n",
      "Dep. Variable:                 lprice   R-squared:                       0.611\n",
      "Model:                            OLS   Adj. R-squared:                  0.608\n",
      "Method:                 Least Squares   F-statistic:                     196.9\n",
      "Date:                Tue, 12 Dec 2023   Prob (F-statistic):          2.50e-101\n",
      "Time:                        23:43:55   Log-Likelihood:                -26.367\n",
      "No. Observations:                 506   AIC:                             62.73\n",
      "Df Residuals:                     501   BIC:                             83.87\n",
      "Df Model:                           4                                         \n",
      "Covariance Type:            nonrobust                                         \n",
      "==============================================================================\n",
      "                 coef    std err          t      P>|t|      [0.025      0.975]\n",
      "------------------------------------------------------------------------------\n",
      "const          8.6550      0.137     63.320      0.000       8.386       8.924\n",
      "x1            -0.0083      0.002     -3.624      0.000      -0.013      -0.004\n",
      "x2            -0.0476      0.013     -3.557      0.000      -0.074      -0.021\n",
      "x3             0.2816      0.017     16.379      0.000       0.248       0.315\n",
      "x4            -0.0043      0.001     -4.184      0.000      -0.006      -0.002\n",
      "==============================================================================\n",
      "Omnibus:                      118.409   Durbin-Watson:                   0.764\n",
      "Prob(Omnibus):                  0.000   Jarque-Bera (JB):              730.140\n",
      "Skew:                           0.859   Prob(JB):                    2.83e-159\n",
      "Kurtosis:                       8.629   Cond. No.                         617.\n",
      "==============================================================================\n",
      "\n",
      "Notes:\n",
      "[1] Standard Errors assume that the covariance matrix of the errors is correctly specified.\n"
     ]
    }
   ],
   "source": [
    "# create X and y\n",
    "crime = raw_data[\"crime\"]\n",
    "proptax = raw_data[\"proptax\"]\n",
    "nox = raw_data[\"nox\"]\n",
    "rooms = raw_data[\"rooms\"]\n",
    "lprice = raw_data[\"lprice\"]\n",
    "\n",
    "X = np.column_stack((crime, nox, rooms, proptax + crime))\n",
    "y = lprice\n",
    "\n",
    "# add constant\n",
    "X = sm.add_constant(X)\n",
    "\n",
    "# fit model\n",
    "model = sm.OLS(y, X).fit()\n",
    "\n",
    "# print summary\n",
    "print(model.summary())"
   ]
  },
  {
   "cell_type": "markdown",
   "metadata": {},
   "source": [
    "If the p-value is less than 0.01, you would reject the null hypothesis at the 1% level of significance."
   ]
  },
  {
   "cell_type": "code",
   "execution_count": 146,
   "metadata": {},
   "outputs": [
    {
     "name": "stdout",
     "output_type": "stream",
     "text": [
      "p_value:  0.0003202080646092541\n",
      "Reject H_0 ? True\n"
     ]
    }
   ],
   "source": [
    "alpha = 0.01\n",
    "variable = \"x1\"  # this will be our theta\n",
    "\n",
    "print(\"p_value: \", model.pvalues[variable])\n",
    "\n",
    "print(\"Reject H_0 ?\", model.pvalues[variable] < alpha)"
   ]
  },
  {
   "cell_type": "markdown",
   "metadata": {},
   "source": [
    "**<font color=\"#0078D4\" size=\"5\">\n",
    "    Question 15: In the specification of question 10, test the hypothesis $H_0: \\beta_{nox} = 0, \\beta_{proptax} = 0$ at the 1% level\n",
    "</font>**"
   ]
  },
  {
   "cell_type": "code",
   "execution_count": 147,
   "metadata": {},
   "outputs": [
    {
     "name": "stdout",
     "output_type": "stream",
     "text": [
      "                            OLS Regression Results                            \n",
      "==============================================================================\n",
      "Dep. Variable:                 lprice   R-squared:                       0.560\n",
      "Model:                            OLS   Adj. R-squared:                  0.558\n",
      "Method:                 Least Squares   F-statistic:                     319.5\n",
      "Date:                Tue, 12 Dec 2023   Prob (F-statistic):           2.82e-90\n",
      "Time:                        23:43:55   Log-Likelihood:                -57.988\n",
      "No. Observations:                 506   AIC:                             122.0\n",
      "Df Residuals:                     503   BIC:                             134.7\n",
      "Df Model:                           2                                         \n",
      "Covariance Type:            nonrobust                                         \n",
      "==============================================================================\n",
      "                 coef    std err          t      P>|t|      [0.025      0.975]\n",
      "------------------------------------------------------------------------------\n",
      "const          8.0219      0.113     71.041      0.000       7.800       8.244\n",
      "crime         -0.0195      0.001    -13.472      0.000      -0.022      -0.017\n",
      "rooms          0.3166      0.018     17.921      0.000       0.282       0.351\n",
      "==============================================================================\n",
      "Omnibus:                       53.012   Durbin-Watson:                   0.868\n",
      "Prob(Omnibus):                  0.000   Jarque-Bera (JB):              316.066\n",
      "Skew:                           0.141   Prob(JB):                     2.33e-69\n",
      "Kurtosis:                       6.862   Cond. No.                         92.2\n",
      "==============================================================================\n",
      "\n",
      "Notes:\n",
      "[1] Standard Errors assume that the covariance matrix of the errors is correctly specified.\n",
      "F= 33.348835962831544\n",
      "p_val= 5.058752845122452e-14\n",
      "\n",
      "Reject H_0 ? True\n"
     ]
    }
   ],
   "source": [
    "alpha = 0.01\n",
    "\n",
    "X = raw_data[[\"crime\", \"rooms\"]]\n",
    "y = raw_data[\"lprice\"]\n",
    "\n",
    "# add constant\n",
    "X = sm.add_constant(X)\n",
    "\n",
    "# fit model\n",
    "model = sm.OLS(y, X).fit()\n",
    "\n",
    "# print summary\n",
    "print(model.summary())\n",
    "\n",
    "# degrees of freedom of the restricted model\n",
    "df_r = model.df_resid\n",
    "\n",
    "q = df_r - df_u\n",
    "\n",
    "SSR1 = model.ssr\n",
    "\n",
    "# df_r and df_u are the degrees of freedom of the restricted (this one) and unrestricted (question 10) model respectively\n",
    "F = ((SSR1 - SSR0) / q) / (SSR0 / df_u)\n",
    "print(\"F=\", F)\n",
    "\n",
    "p_val = f.sf(F, q, df_u) * 2\n",
    "print(\"p_val=\", p_val)\n",
    "\n",
    "print(\"\\nReject H_0 ?\", p_val < alpha)"
   ]
  },
  {
   "cell_type": "markdown",
   "metadata": {},
   "source": [
    "**<font color=\"#0078D4\" size=\"5\">\n",
    "    Question 16: In the specification of question 10, test the hypothesis $H_0: \\beta_{nox} = -500$, $\\beta_{proptax} = -100$ at the 1% level using the p-value of the test\n",
    "</font>**"
   ]
  },
  {
   "cell_type": "code",
   "execution_count": 148,
   "metadata": {},
   "outputs": [
    {
     "name": "stdout",
     "output_type": "stream",
     "text": [
      "                            OLS Regression Results                            \n",
      "==============================================================================\n",
      "Dep. Variable:                      y   R-squared:                       0.373\n",
      "Model:                            OLS   Adj. R-squared:                  0.371\n",
      "Method:                 Least Squares   F-statistic:                     149.7\n",
      "Date:                Tue, 12 Dec 2023   Prob (F-statistic):           9.89e-52\n",
      "Time:                        23:43:55   Log-Likelihood:                -4473.9\n",
      "No. Observations:                 506   AIC:                             8954.\n",
      "Df Residuals:                     503   BIC:                             8966.\n",
      "Df Model:                           2                                         \n",
      "Covariance Type:            nonrobust                                         \n",
      "==============================================================================\n",
      "                 coef    std err          t      P>|t|      [0.025      0.975]\n",
      "------------------------------------------------------------------------------\n",
      "const       1.014e+04    696.468     14.560      0.000    8772.076    1.15e+04\n",
      "crime        132.0377      8.912     14.816      0.000     114.529     149.546\n",
      "rooms       -596.7609    108.959     -5.477      0.000    -810.832    -382.690\n",
      "==============================================================================\n",
      "Omnibus:                       11.181   Durbin-Watson:                   0.514\n",
      "Prob(Omnibus):                  0.004   Jarque-Bera (JB):               12.762\n",
      "Skew:                           0.272   Prob(JB):                      0.00169\n",
      "Kurtosis:                       3.556   Cond. No.                         92.2\n",
      "==============================================================================\n",
      "\n",
      "Notes:\n",
      "[1] Standard Errors assume that the covariance matrix of the errors is correctly specified.\n",
      "\n",
      "F= 10798305112.262833\n",
      "\n",
      "p_val= 0.0\n",
      "\n",
      "Reject H_0 ? True\n"
     ]
    }
   ],
   "source": [
    "# X = raw_data[[\"crime\", \"rooms\"]]  # same as question 15\n",
    "y = raw_data[\"lprice\"] + 500 * raw_data[\"nox\"] + 100 * raw_data[\"proptax\"]\n",
    "\n",
    "# add constant\n",
    "X = sm.add_constant(X)\n",
    "\n",
    "# fit model\n",
    "model = sm.OLS(y, X).fit()\n",
    "\n",
    "# print summary\n",
    "print(model.summary())\n",
    "\n",
    "# degrees of freedom of the restricted model\n",
    "df_r = model.df_resid\n",
    "\n",
    "SSR1 = model.ssr\n",
    "\n",
    "# df_r and df_u are the degrees of freedom of the restricted (this one) and unrestricted (question 10) model respectively\n",
    "q = df_r - df_u\n",
    "\n",
    "F = ((SSR1 - SSR0) / q) / (SSR0 / df_u)\n",
    "print(\"\\nF=\", F)\n",
    "\n",
    "p_val = f.sf(F, q, df_u) * 2\n",
    "print(\"\\np_val=\", p_val)\n",
    "\n",
    "print(\"\\nReject H_0 ?\", p_val < alpha)"
   ]
  },
  {
   "cell_type": "markdown",
   "metadata": {},
   "source": [
    "**<font color=\"#0078D4\" size=\"5\">\n",
    "    Question 17: In the specification of question 10, test the hypothesis $H_0: \\beta_{nox} + \\beta_{proptax} = -1000$ at the 1% \n",
    "level using the p-value of the test\n",
    "</font>**"
   ]
  },
  {
   "cell_type": "markdown",
   "metadata": {},
   "source": [
    "We can rewrite the null hypothesis as:\n",
    "\n",
    "$$\n",
    "H_0:  -1000 - \\beta_{proptax} - \\beta_{nox} = 0\n",
    "$$\n",
    "\n",
    "Then, we can define $\\theta = -1000 - \\beta_{proptax} - \\beta_{nox}$ and test the hypothesis $H_0: \\theta = 0$\n",
    "\n",
    "$$  \n",
    "    \\beta_{nox} = -1000 - \\beta_{proptax} - \\theta\n",
    "$$\n",
    "\n",
    "We can rewrite the X of question 10 as:\n",
    "\n",
    "$$\n",
    "X = \\beta_0 + \\beta_{crime} * crime + (-1000 - \\beta_{proptax} - \\theta) * nox + \\beta_{rooms} * rooms + \\beta_{proptax} * proptax + \\epsilon\n",
    "$$\n",
    "\n",
    "$$\n",
    "X = \\beta_0 + \\beta_{crime} * crime - 1000 * nox - \\theta * nox + \\beta_{rooms} * rooms + \\beta_{proptax} * (proptax - nox) + \\epsilon\n",
    "$$\n",
    "\n",
    "$$\n",
    "X = \\beta_0 + \\beta_{crime} * crime - \\theta * nox + \\beta_{rooms} * rooms + \\beta_{proptax} * (proptax - nox) + \\epsilon\n",
    "$$\n",
    "\n",
    "And the y will become:\n",
    "\n",
    "$$\n",
    "    y = log(price) + 1000 * nox\n",
    "$$\n"
   ]
  },
  {
   "cell_type": "code",
   "execution_count": 149,
   "metadata": {},
   "outputs": [
    {
     "name": "stdout",
     "output_type": "stream",
     "text": [
      "                            OLS Regression Results                            \n",
      "==============================================================================\n",
      "Dep. Variable:                      y   R-squared:                       1.000\n",
      "Model:                            OLS   Adj. R-squared:                  1.000\n",
      "Method:                 Least Squares   F-statistic:                 2.580e+09\n",
      "Date:                Tue, 12 Dec 2023   Prob (F-statistic):               0.00\n",
      "Time:                        23:43:55   Log-Likelihood:                -26.367\n",
      "No. Observations:                 506   AIC:                             62.73\n",
      "Df Residuals:                     501   BIC:                             83.87\n",
      "Df Model:                           4                                         \n",
      "Covariance Type:            nonrobust                                         \n",
      "==============================================================================\n",
      "                 coef    std err          t      P>|t|      [0.025      0.975]\n",
      "------------------------------------------------------------------------------\n",
      "const          8.6550      0.137     63.320      0.000       8.386       8.924\n",
      "x1            -0.0125      0.002     -7.641      0.000      -0.016      -0.009\n",
      "x2           999.9482      0.013   7.79e+04      0.000     999.923     999.973\n",
      "x3             0.2816      0.017     16.379      0.000       0.248       0.315\n",
      "x4            -0.0043      0.001     -4.184      0.000      -0.006      -0.002\n",
      "==============================================================================\n",
      "Omnibus:                      118.409   Durbin-Watson:                   0.764\n",
      "Prob(Omnibus):                  0.000   Jarque-Bera (JB):              730.140\n",
      "Skew:                           0.859   Prob(JB):                    2.83e-159\n",
      "Kurtosis:                       8.629   Cond. No.                         483.\n",
      "==============================================================================\n",
      "\n",
      "Notes:\n",
      "[1] Standard Errors assume that the covariance matrix of the errors is correctly specified.\n"
     ]
    }
   ],
   "source": [
    "# create X and y\n",
    "crime = raw_data[\"crime\"]\n",
    "proptax = raw_data[\"proptax\"]\n",
    "nox = raw_data[\"nox\"]\n",
    "rooms = raw_data[\"rooms\"]\n",
    "\n",
    "X = np.column_stack((crime, nox, rooms, proptax - nox))\n",
    "y = raw_data[\"lprice\"] + 1000 * raw_data[\"nox\"]\n",
    "\n",
    "# add constant\n",
    "X = sm.add_constant(X)\n",
    "\n",
    "# fit model\n",
    "model = sm.OLS(y, X).fit()\n",
    "\n",
    "# print summary\n",
    "print(model.summary())"
   ]
  },
  {
   "cell_type": "code",
   "execution_count": 150,
   "metadata": {},
   "outputs": [
    {
     "name": "stdout",
     "output_type": "stream",
     "text": [
      "p_val= 0.0\n",
      "Reject H_0 ? True\n"
     ]
    }
   ],
   "source": [
    "alpha = 0.01\n",
    "variable = \"x2\"  # this will be our theta\n",
    "\n",
    "print(\"p_val=\", model.pvalues[variable])\n",
    "print(\"Reject H_0 ?\", model.pvalues[variable] < alpha)"
   ]
  },
  {
   "cell_type": "markdown",
   "metadata": {},
   "source": [
    "**<font color=\"#0078D4\" size=\"5\">\n",
    "    Question 18: In the specification of question 10, test the hypothesis that all coefficients are the same for \n",
    "observations with low levels of nox vs. medium and high levels of nox.\n",
    "</font>**"
   ]
  },
  {
   "cell_type": "markdown",
   "metadata": {},
   "source": [
    "For questions 18 and 19, we will assume $\\alpha = 5\\%$"
   ]
  },
  {
   "cell_type": "code",
   "execution_count": 151,
   "metadata": {},
   "outputs": [],
   "source": [
    "mask = raw_data[\"nox_cat_m_h\"] == 0  # mask in order to retrieve low nox"
   ]
  },
  {
   "cell_type": "markdown",
   "metadata": {},
   "source": [
    "*Unrestricted model*\n",
    "$$lprice = \\beta_0 + \\beta_1 * crime + \\beta_2 * nox + \\beta_3 * rooms + \\beta_4 * proptax + u$$\n",
    "\n",
    "*Restricted model*\n",
    "$$lprice - \\beta1 * crime - \\beta2 * nox - \\beta3 * rooms - \\beta4 * proptax + = \\beta0 + u$$\n",
    "\n",
    "where $\\beta_n$ is the result of the unrestricted model $\\forall n$."
   ]
  },
  {
   "cell_type": "code",
   "execution_count": 152,
   "metadata": {},
   "outputs": [
    {
     "name": "stdout",
     "output_type": "stream",
     "text": [
      "F Statistic: 2284.0159417043687\n",
      "Critical Value: 2.3897311892176356\n",
      "Reject H_0 ? True\n"
     ]
    }
   ],
   "source": [
    "# estimate the coefficient for low levels of nox\n",
    "x_unrestricted = raw_data[mask][[\"crime\", \"nox\", \"rooms\", \"proptax\"]]\n",
    "x_unrestricted = sm.add_constant(x_unrestricted)\n",
    "\n",
    "y_unrestricted = raw_data[mask][\"lprice\"]\n",
    "\n",
    "model = sm.OLS(y_unrestricted, x_unrestricted)\n",
    "results_unrestricted = model.fit()\n",
    "\n",
    "x_medium_high = raw_data[~mask][[\"crime\", \"nox\", \"rooms\", \"proptax\"]]\n",
    "y_medium_high = raw_data[~mask][\"lprice\"]\n",
    "\n",
    "x_restricted = sm.add_constant(x_medium_high)[[\"const\"]]\n",
    "y_restricted = (\n",
    "    y_medium_high\n",
    "    - results_unrestricted.params[\"crime\"] * x_medium_high[\"crime\"]\n",
    "    - results_unrestricted.params[\"nox\"] * x_medium_high[\"nox\"]\n",
    "    - results_unrestricted.params[\"rooms\"] * x_medium_high[\"rooms\"]\n",
    "    - results_unrestricted.params[\"proptax\"] * x_medium_high[\"proptax\"]\n",
    ")\n",
    "\n",
    "model_restricted = sm.OLS(y_restricted, x_restricted)\n",
    "results_restricted = model_restricted.fit()\n",
    "\n",
    "# Hypothesis test:\n",
    "SSR_unrestricted = results_unrestricted.ssr\n",
    "SSR_restricted = results_restricted.ssr\n",
    "\n",
    "k_unrestricted = x_unrestricted.shape[1] - 1\n",
    "k_restricted = x_restricted.shape[1] - 1\n",
    "\n",
    "q = k_unrestricted - k_restricted  # numerator degrees of freedom\n",
    "\n",
    "n = len(y)\n",
    "ddf = n - k_unrestricted - 1  # denominator degrees of freedom\n",
    "\n",
    "F_statistic = ((SSR_restricted - SSR_unrestricted) / q) / (SSR_unrestricted / ddf)\n",
    "\n",
    "alpha = 0.05  # 5% significance level\n",
    "critical_value = f.ppf(1 - alpha, q, ddf)\n",
    "\n",
    "print(f\"F Statistic: {F_statistic}\")\n",
    "print(f\"Critical Value: {critical_value}\")\n",
    "\n",
    "print(\"Reject H_0 ?\", F_statistic > critical_value)"
   ]
  },
  {
   "cell_type": "markdown",
   "metadata": {},
   "source": [
    "**<font color=\"#0078D4\" size=\"5\">\n",
    "    Question 19: Repeat the test of question 18 but now assuming that only the coefficients of nox and\n",
    "proptax can change between the two groups of observations. State and test $H_0$.\n",
    "</font>**"
   ]
  },
  {
   "cell_type": "markdown",
   "metadata": {},
   "source": [
    "Our null hypoteshis will be:\n",
    "\n",
    "$$\n",
    "    H_0: \\beta_{i_{low}} = \\beta_{i_{highMmedium}} \\forall i \\in \\{2, 4\\}\n",
    "$$\n",
    "\n",
    "and the alternative hypoteshis will be:\n",
    "\n",
    "$$\n",
    "       H_1: \\beta_{i_{low}} != \\beta_{i_{highMedium}} \\exists i \\in \\{2,4\\}\n",
    "$$"
   ]
  },
  {
   "cell_type": "code",
   "execution_count": 153,
   "metadata": {},
   "outputs": [
    {
     "name": "stdout",
     "output_type": "stream",
     "text": [
      "F Statistic: 2535.861576291274\n",
      "Critical Value: 3.013716892515854\n",
      "Reject H_0 ? True\n"
     ]
    }
   ],
   "source": [
    "# estimate the coefficient for low levels of nox\n",
    "x_unrestricted = raw_data[mask][[\"crime\", \"nox\", \"rooms\", \"proptax\"]]\n",
    "x_unrestricted = sm.add_constant(x_unrestricted)\n",
    "\n",
    "y_unrestricted = raw_data[mask][\"lprice\"]\n",
    "\n",
    "model = sm.OLS(y_unrestricted, x_unrestricted)\n",
    "results_unrestricted = model.fit()\n",
    "\n",
    "# estimate the restricted model for medium and high levels of nox\n",
    "\n",
    "x_medium_high = raw_data[~mask][[\"crime\", \"nox\", \"rooms\", \"proptax\"]]\n",
    "x_restricted = x_medium_high[[\"crime\", \"rooms\"]]\n",
    "x_restricted = sm.add_constant(x_restricted)\n",
    "\n",
    "y_medium_high = raw_data[~mask][\"lprice\"]\n",
    "y_restricted = (\n",
    "    y_medium_high\n",
    "    - results_unrestricted.params[\"nox\"] * x_medium_high[\"nox\"]\n",
    "    - results_unrestricted.params[\"proptax\"] * x_medium_high[\"proptax\"]\n",
    ")\n",
    "\n",
    "model_restricted = sm.OLS(y_restricted, x_restricted)\n",
    "results_restricted = model_restricted.fit()\n",
    "\n",
    "# Hypothesis test:\n",
    "SSR_unrestricted = results_unrestricted.ssr\n",
    "SSR_restricted = results_restricted.ssr\n",
    "\n",
    "k_unrestricted = x_unrestricted.shape[1] - 1\n",
    "k_restricted = x_restricted.shape[1] - 1\n",
    "\n",
    "q = k_unrestricted - k_restricted  # numerator degrees of freedom\n",
    "\n",
    "n = len(y)\n",
    "ddf = n - k_unrestricted - 1  # denominator degrees of freedom\n",
    "\n",
    "F_statistic = ((SSR_restricted - SSR_unrestricted) / q) / (SSR_unrestricted / ddf)\n",
    "\n",
    "alpha = 0.05  # 5% significance level\n",
    "critical_value = f.ppf(1 - alpha, q, ddf)\n",
    "\n",
    "print(f\"F Statistic: {F_statistic}\")\n",
    "print(f\"Critical Value: {critical_value}\")\n",
    "\n",
    "print(\"Reject H_0 ?\", F_statistic > critical_value)"
   ]
  },
  {
   "cell_type": "markdown",
   "metadata": {},
   "source": [
    "### Setup data for part 2:"
   ]
  },
  {
   "cell_type": "code",
   "execution_count": 154,
   "metadata": {},
   "outputs": [],
   "source": [
    "# price     crime     nox       rooms     dist      radial\n",
    "# proptax   stratio   lowstat   lprice    lnox      lproptax\n",
    "\n",
    "df = pd.read_csv(\"./data/HPRICE2.raw\", delim_whitespace=True, header=None)\n",
    "\n",
    "price = df[0]\n",
    "crime = df[1]\n",
    "nox = df[2]\n",
    "rooms = df[3]\n",
    "proptax = df[6]\n",
    "lprice = df[9]\n",
    "lnox = df[10]\n",
    "lproptax = df[11]\n",
    "\n",
    "const = np.ones(len(price))"
   ]
  },
  {
   "cell_type": "markdown",
   "metadata": {},
   "source": [
    "**<font color=\"#cf2626\" size=\"6\">\n",
    "    Part 2: HETEROSKEDASTICITY\n",
    "</font>**"
   ]
  },
  {
   "cell_type": "markdown",
   "metadata": {},
   "source": [
    "**<font color=\"#0078D4\" size=\"5\">\n",
    "    Question 20: Explain the problem of heteroskedasticity with an example of the course.\n",
    "</font>**"
   ]
  },
  {
   "cell_type": "markdown",
   "metadata": {},
   "source": [
    "Following the definition of heteroskedasticity, we can say that it is a problem that occurs when the variance of the error term is not constant. In other words, the variance of the error term is not the same for all observations. This is a problem because it violates the assumption of homoskedasticity, which is one of the assumptions of the classical linear regression model.\n",
    "In particular we can't say anymore that the OLS estimator is BLUE (Best Linear Unbiased Estimator).\n",
    "\n",
    "\n",
    "In one of our class examples, we looked at how house prices relate to different things. Imagine trying to predict house prices using a model. Well, sometimes the difference between our predicted prices and the actual prices can change a lot, especially when houses get bigger. Smaller houses have more consistent predictions, but as houses get larger, the difference between predicted and actual prices can vary a lot. This makes it tricky to use the usual method, Ordinary Least Squares (OLS), which assumes that these differences stay about the same for all houses."
   ]
  },
  {
   "cell_type": "markdown",
   "metadata": {},
   "source": [
    "**<font color=\"#0078D4\" size=\"5\">\n",
    "    Question 21: Suppose that $E[uu]' = \\sigma^2 \\Omega$. Show that the GLS estimator is the best linear unbiased estimator\n",
    "</font>**"
   ]
  },
  {
   "cell_type": "markdown",
   "metadata": {},
   "source": [
    "Fistly, considering the model $y = X \\beta + u$, where $E(u|X) = 0$, we derive the expression of the OLS estimator of $\\beta$, called $b$. Considering a set of $n$ i.i.d. observations, the collected data is represented by the following esquation:\n",
    "\n",
    "$$\n",
    "y = X b + u\n",
    "$$\n",
    "\n",
    "In order to derive an expression for $b$, we minimize sum of the squared residuals.\n",
    "\n",
    "To do that, it is first necessary to isolate the expression of $u$ and then, compute its transpose, so that the product $u' u$ can be minimized.\n",
    "\n",
    "$$\n",
    "u = y - X b \\Rightarrow u' = (y - X b)' = y' - b' X'\n",
    "$$\n",
    "\n",
    "Thus, the product to be minimized is:\n",
    "\n",
    "$$\n",
    "u' u = (y' - b' X')(y - X b) = y'y - y'Xb - b'X'y + b'X'Xb \n",
    "$$\n",
    "\n",
    "By noting that $b'X'y = (b'X'y)' = y'Xb$, we arrive in the following expression:\n",
    "\n",
    "$$\n",
    "\\text{min } u'u = y'y - 2b'X'y + b'X'Xb\n",
    "$$\n",
    "\n",
    "Finally, what is necessary to do is to take the partial derivative of the equation above with respect to $b$ and solve it when it is equal to zero. To that, we use the two following results:\n",
    "\n",
    "$$\n",
    "\\left\\{\\begin{matrix}\n",
    "\\frac{\\partial}{\\partial b} (b'X'y) = X'y \\\\ \n",
    "\\frac{\\partial}{\\partial b} (b'X'Xb) = 2X'Xb \n",
    "\\end{matrix}\\right.\n",
    "$$\n",
    "\n",
    "With the above, the equation to be solved for $b$ will be:\n",
    "\n",
    "$$\n",
    "\\frac{\\partial}{\\partial b} (u'u) = 0 \\iff -2X'y + 2X'Xb = 0 \\iff X'Xb = X'y \\iff b = (X'X)^{-1}X'y\n",
    "$$\n",
    "\n",
    "Now that the estimator has been computed, to show that it is the best linear unbiased estimator (BLUE), we first check that it is linear. Indeed, the linearity is checked immediately by seeing the linear relatioship between $b$ and the dependent variable $y$. The second step is to show its unbiasedness. To do that, we compute its expected value.\n",
    "\n",
    "$$\n",
    "E(b) = E\\left((X'X)^{-1}X'y\\right) = (X'X)^{-1}X'E(y)\n",
    "$$\n",
    "\n",
    "Since the assumption $E(u|X) = 0$ holds, then $E(y) = X \\beta$ and we can rewrite the equation for $E(b)$  as follows:\n",
    "$$\n",
    "E(b) = (X'X)^{-1}(X'X) \\beta \\iff E(b) = \\beta\n",
    "$$\n",
    "\n",
    "That means that the estimator $b$ is unbiased.\n",
    "\n",
    "Now, for the next steps, it is useful to rewrite the expression of $b$ as follows:\n",
    "\n",
    "$$\n",
    "\\left.\\begin{matrix}\n",
    "y = X \\beta + u \\\\ \n",
    "b = (X'X)^{-1}X'y\n",
    "\\end{matrix}\\right\\}\\Rightarrow \n",
    "b = \\beta + (X'X)^{-1}X'u\n",
    "$$\n",
    "\n",
    "We can compute the variance of the estimator considering the Heteroskedasticity supposition that $Var(u) = E(uu') = \\sigma^{2}\\Omega$.\n",
    "\n",
    "$$\n",
    "\\begin{align*}\n",
    "Var(b) &= Var\\left(\\beta + (X'X)^{-1}X'u\\right) \\\\\n",
    "       &= Var\\left((X'X)^{-1}X'u\\right) \\\\\n",
    "       &= (X'X)^{-1}X' Var(u) X(X'X)^{-1} \\\\\n",
    "       &= (X'X)^{-1}X' \\sigma^{2} \\Omega X(X'X)^{-1}\\\\\n",
    "\\end{align*}\n",
    "$$\n",
    "\n",
    "Therefore, the following equation contains the result of the variance of the estimator, considering Heteroskedasticity.\n",
    "\n",
    "$$\n",
    "Var(b) = \\sigma^{2} (X'X)^{-1}X' \\Omega X(X'X)^{-1}\n",
    "$$\n",
    "\n",
    "Using the Aitken's Theorem that states that \"The GLS estimator is BLUE\", we can conclude the proof."
   ]
  },
  {
   "cell_type": "markdown",
   "metadata": {},
   "source": [
    "**<font color=\"#0078D4\" size=\"5\">\n",
    "    Question 22:  In the specification of question 10, test the hypothesis of no heteroskedasticity of linear form, i.e. in the regression of $u^2$ on constant, crime, nox, rooms, proptax, test $H_0: \\delta_{crime}, \\delta_{nox}, \\delta_{room}, \\delta_{proptax}=0$, where the coefficients $\\delta_k$ (k=crime, nox, rooms, proptax) are associated with the corresponding explanatory variables.\n",
    "</font>**"
   ]
  },
  {
   "cell_type": "code",
   "execution_count": 155,
   "metadata": {},
   "outputs": [
    {
     "name": "stdout",
     "output_type": "stream",
     "text": [
      "                            OLS Regression Results                            \n",
      "==============================================================================\n",
      "Dep. Variable:                      y   R-squared:                       0.051\n",
      "Model:                            OLS   Adj. R-squared:                  0.044\n",
      "Method:                 Least Squares   F-statistic:                     6.799\n",
      "Date:                Tue, 12 Dec 2023   Prob (F-statistic):           2.47e-05\n",
      "Time:                        23:43:55   Log-Likelihood:                -10130.\n",
      "No. Observations:                 506   AIC:                         2.027e+04\n",
      "Df Residuals:                     501   BIC:                         2.029e+04\n",
      "Df Model:                           4                                         \n",
      "Covariance Type:            nonrobust                                         \n",
      "==============================================================================\n",
      "                 coef    std err          t      P>|t|      [0.025      0.975]\n",
      "------------------------------------------------------------------------------\n",
      "const      -5.885e+07   6.41e+07     -0.917      0.359   -1.85e+08    6.72e+07\n",
      "x1         -9.687e+05   7.69e+05     -1.260      0.208   -2.48e+06    5.42e+05\n",
      "x2          9.091e+05   6.28e+06      0.145      0.885   -1.14e+07    1.32e+07\n",
      "x3           2.63e+06   8.07e+06      0.326      0.745   -1.32e+07    1.85e+07\n",
      "x4           1.88e+06   4.78e+05      3.931      0.000     9.4e+05    2.82e+06\n",
      "==============================================================================\n",
      "Omnibus:                      760.905   Durbin-Watson:                   0.777\n",
      "Prob(Omnibus):                  0.000   Jarque-Bera (JB):           159893.659\n",
      "Skew:                           8.299   Prob(JB):                         0.00\n",
      "Kurtosis:                      88.489   Cond. No.                         546.\n",
      "==============================================================================\n",
      "\n",
      "Notes:\n",
      "[1] Standard Errors assume that the covariance matrix of the errors is correctly specified.\n",
      "F-statistic:  5.428258086300428\n",
      "p-value:  7.107200279283561e-05\n",
      "---------\n",
      "Reject H0, there is heteroskedasticity\n"
     ]
    }
   ],
   "source": [
    "# IMPORTANT\n",
    "# we used specifications from question 9\n",
    "\n",
    "from scipy.stats import f\n",
    "from statsmodels.stats.diagnostic import het_breuschpagan, het_white\n",
    "\n",
    "y = price\n",
    "X = np.column_stack((const, crime, nox, rooms, proptax))\n",
    "\n",
    "model_0 = sm.OLS(y, X).fit()\n",
    "u = model_0.resid\n",
    "u2 = u**2\n",
    "\n",
    "y = u2\n",
    "model_1 = sm.OLS(y, X).fit()\n",
    "print(model_1.summary())  # reject H0 p-value < 0.05\n",
    "\n",
    "R2_1 = model_1.rsquared\n",
    "n, k = X.shape\n",
    "F = (R2_1 / k) / ((1 - R2_1) / (n - k - 1))\n",
    "p_value = f.sf(F, k, n - k - 1)\n",
    "\n",
    "print(\"F-statistic: \", F)\n",
    "print(\"p-value: \", p_value)\n",
    "print(\"---------\")\n",
    "\n",
    "if p_value < 0.05:\n",
    "    print(\"Reject H0, there is heteroskedasticity\")\n",
    "else:\n",
    "    print(\"Fail to reject H0, there is no heteroskedasticity\")"
   ]
  },
  {
   "cell_type": "markdown",
   "metadata": {},
   "source": [
    "In order to verify the correctness of our solution (following the guideline in the TP), we compered the magnitude of our p_value with the ones obtained using library functions from statsmodel."
   ]
  },
  {
   "cell_type": "code",
   "execution_count": 156,
   "metadata": {},
   "outputs": [
    {
     "name": "stdout",
     "output_type": "stream",
     "text": [
      "F-statistic:  4.356640145974687\n",
      "p-value:  0.0017958275801663627\n",
      "---------\n",
      "F-statistic:  3.260206661330142\n",
      "p-value:  5.552933562690138e-05\n",
      "---------\n"
     ]
    }
   ],
   "source": [
    "_, _, F, p_value = het_breuschpagan(model_1.resid, model_1.model.exog)\n",
    "\n",
    "print(\"F-statistic: \", F)\n",
    "print(\"p-value: \", p_value)\n",
    "print(\"---------\")\n",
    "\n",
    "_, _, F, p_value = het_white(model_1.resid, model_1.model.exog)\n",
    "\n",
    "print(\"F-statistic: \", F)\n",
    "print(\"p-value: \", p_value)\n",
    "print(\"---------\")"
   ]
  },
  {
   "cell_type": "markdown",
   "metadata": {},
   "source": [
    "**<font color=\"#0078D4\" size=\"5\">\n",
    "    Question 23: In the specification of question 11, test the hypothesis of no heteroskedasticity of linear form.\n",
    "</font>**"
   ]
  },
  {
   "cell_type": "code",
   "execution_count": 157,
   "metadata": {},
   "outputs": [
    {
     "name": "stdout",
     "output_type": "stream",
     "text": [
      "                            OLS Regression Results                            \n",
      "==============================================================================\n",
      "Dep. Variable:                      y   R-squared:                       0.126\n",
      "Model:                            OLS   Adj. R-squared:                  0.119\n",
      "Method:                 Least Squares   F-statistic:                     17.98\n",
      "Date:                Tue, 12 Dec 2023   Prob (F-statistic):           8.33e-14\n",
      "Time:                        23:43:55   Log-Likelihood:                 185.10\n",
      "No. Observations:                 506   AIC:                            -360.2\n",
      "Df Residuals:                     501   BIC:                            -339.1\n",
      "Df Model:                           4                                         \n",
      "Covariance Type:            nonrobust                                         \n",
      "==============================================================================\n",
      "                 coef    std err          t      P>|t|      [0.025      0.975]\n",
      "------------------------------------------------------------------------------\n",
      "const          0.0757      0.090      0.842      0.400      -0.101       0.253\n",
      "x1         -3.794e-05      0.001     -0.035      0.972      -0.002       0.002\n",
      "x2             0.0001      0.009      0.017      0.986      -0.017       0.017\n",
      "x3            -0.0237      0.011     -2.096      0.037      -0.046      -0.001\n",
      "x4             0.0034      0.001      5.026      0.000       0.002       0.005\n",
      "==============================================================================\n",
      "Omnibus:                      612.530   Durbin-Watson:                   0.914\n",
      "Prob(Omnibus):                  0.000   Jarque-Bera (JB):            48787.030\n",
      "Skew:                           5.865   Prob(JB):                         0.00\n",
      "Kurtosis:                      49.652   Cond. No.                         546.\n",
      "==============================================================================\n",
      "\n",
      "Notes:\n",
      "[1] Standard Errors assume that the covariance matrix of the errors is correctly specified.\n",
      "F-statistic:  14.352401254541318\n",
      "p-value:  3.812174867556947e-13\n",
      "---------\n",
      "Reject H0, there is heteroskedasticity\n"
     ]
    }
   ],
   "source": [
    "# IMPORTANT\n",
    "# we used specifications from question 10\n",
    "\n",
    "y = lprice\n",
    "X = np.column_stack((const, crime, nox, rooms, proptax))\n",
    "\n",
    "model_0 = sm.OLS(y, X).fit()\n",
    "u = model_0.resid\n",
    "u2 = u**2\n",
    "\n",
    "y = u2\n",
    "model_1 = sm.OLS(y, X).fit()\n",
    "print(model_1.summary())  # reject H0 p-value < 0.05\n",
    "\n",
    "R2_1 = model_1.rsquared\n",
    "n, k = X.shape\n",
    "F = (R2_1 / k) / ((1 - R2_1) / (n - k - 1))\n",
    "p_value = f.sf(F, k, n - k - 1)\n",
    "\n",
    "print(\"F-statistic: \", F)\n",
    "print(\"p-value: \", p_value)\n",
    "print(\"---------\")\n",
    "\n",
    "if p_value < 0.05:\n",
    "    print(\"Reject H0, there is heteroskedasticity\")\n",
    "else:\n",
    "    print(\"Fail to reject H0, there is no heteroskedasticity\")"
   ]
  },
  {
   "cell_type": "markdown",
   "metadata": {},
   "source": [
    "In order to verify the correctness of our solution (following the guideline in the TP), we compered the magnitude of our p_value with the ones obtained using library functions from statsmodel."
   ]
  },
  {
   "cell_type": "code",
   "execution_count": 158,
   "metadata": {},
   "outputs": [
    {
     "name": "stdout",
     "output_type": "stream",
     "text": [
      "F-statistic:  7.894896673424933\n",
      "p-value:  3.5494000856709975e-06\n",
      "---------\n",
      "F-statistic:  6.731126751811877\n",
      "p-value:  1.256942581520943e-12\n",
      "---------\n"
     ]
    }
   ],
   "source": [
    "_, _, F, p_value = het_breuschpagan(model_1.resid, model_1.model.exog)\n",
    "\n",
    "print(\"F-statistic: \", F)\n",
    "print(\"p-value: \", p_value)\n",
    "print(\"---------\")\n",
    "\n",
    "_, _, F, p_value = het_white(model_1.resid, model_1.model.exog)\n",
    "\n",
    "print(\"F-statistic: \", F)\n",
    "print(\"p-value: \", p_value)\n",
    "print(\"---------\")"
   ]
  },
  {
   "cell_type": "markdown",
   "metadata": {},
   "source": [
    "**<font color=\"#0078D4\" size=\"5\">\n",
    "    Question 24: In the specification of question 12, test the hypothesis of no heteroskedasticity of linear form.\n",
    "</font>**"
   ]
  },
  {
   "cell_type": "code",
   "execution_count": 159,
   "metadata": {},
   "outputs": [
    {
     "name": "stdout",
     "output_type": "stream",
     "text": [
      "                            OLS Regression Results                            \n",
      "==============================================================================\n",
      "Dep. Variable:                      y   R-squared:                       0.116\n",
      "Model:                            OLS   Adj. R-squared:                  0.109\n",
      "Method:                 Least Squares   F-statistic:                     16.51\n",
      "Date:                Tue, 12 Dec 2023   Prob (F-statistic):           1.02e-12\n",
      "Time:                        23:43:55   Log-Likelihood:                 184.66\n",
      "No. Observations:                 506   AIC:                            -359.3\n",
      "Df Residuals:                     501   BIC:                            -338.2\n",
      "Df Model:                           4                                         \n",
      "Covariance Type:            nonrobust                                         \n",
      "==============================================================================\n",
      "                 coef    std err          t      P>|t|      [0.025      0.975]\n",
      "------------------------------------------------------------------------------\n",
      "const         -0.5496      0.167     -3.289      0.001      -0.878      -0.221\n",
      "x1             0.0006      0.001      0.577      0.564      -0.001       0.003\n",
      "x2             0.0404      0.051      0.794      0.427      -0.060       0.140\n",
      "x3            -0.0219      0.011     -1.928      0.054      -0.044       0.000\n",
      "x4             0.1149      0.028      4.128      0.000       0.060       0.170\n",
      "==============================================================================\n",
      "Omnibus:                      614.102   Durbin-Watson:                   0.913\n",
      "Prob(Omnibus):                  0.000   Jarque-Bera (JB):            48743.795\n",
      "Skew:                           5.895   Prob(JB):                         0.00\n",
      "Kurtosis:                      49.615   Cond. No.                         241.\n",
      "==============================================================================\n",
      "\n",
      "Notes:\n",
      "[1] Standard Errors assume that the covariance matrix of the errors is correctly specified.\n",
      "F-statistic:  13.18153528036565\n",
      "p-value:  4.481758310179018e-12\n",
      "---------\n",
      "Reject H0, there is heteroskedasticity\n"
     ]
    }
   ],
   "source": [
    "# IMPORTANT\n",
    "# we used specifications from question 11\n",
    "\n",
    "y = lprice\n",
    "X = np.column_stack((const, crime, lnox, rooms, lproptax))\n",
    "model_0 = sm.OLS(y, X).fit()\n",
    "\n",
    "u = model_0.resid\n",
    "u2 = u**2\n",
    "\n",
    "y = u2\n",
    "model_1 = sm.OLS(y, X).fit()\n",
    "print(model_1.summary())  # reject H0 p-value < 0.05\n",
    "\n",
    "R2_1 = model_1.rsquared\n",
    "n, k = X.shape\n",
    "F = (R2_1 / k) / ((1 - R2_1) / (n - k - 1))\n",
    "p_value = f.sf(F, k, n - k - 1)\n",
    "\n",
    "print(\"F-statistic: \", F)\n",
    "print(\"p-value: \", p_value)\n",
    "print(\"---------\")\n",
    "\n",
    "if p_value < 0.05:\n",
    "    print(\"Reject H0, there is heteroskedasticity\")\n",
    "else:\n",
    "    print(\"Fail to reject H0, there is no heteroskedasticity\")"
   ]
  },
  {
   "cell_type": "markdown",
   "metadata": {},
   "source": [
    "In order to verify the correctness of our solution (following the guideline in the TP), we compered the magnitude of our p_value with the ones obtained using library functions from statsmodel."
   ]
  },
  {
   "cell_type": "code",
   "execution_count": 160,
   "metadata": {},
   "outputs": [
    {
     "name": "stdout",
     "output_type": "stream",
     "text": [
      "F-statistic:  6.881800535355378\n",
      "p-value:  2.1308678532705283e-05\n",
      "---------\n",
      "F-statistic:  6.367690840074395\n",
      "p-value:  8.163351511935848e-12\n",
      "---------\n"
     ]
    }
   ],
   "source": [
    "_, _, F, p_value = het_breuschpagan(model_1.resid, model_1.model.exog)\n",
    "print(\"F-statistic: \", F)\n",
    "print(\"p-value: \", p_value)\n",
    "print(\"---------\")\n",
    "\n",
    "_, _, F, p_value = het_white(model_1.resid, model_1.model.exog)\n",
    "print(\"F-statistic: \", F)\n",
    "print(\"p-value: \", p_value)\n",
    "print(\"---------\")"
   ]
  },
  {
   "cell_type": "markdown",
   "metadata": {},
   "source": [
    "**<font color=\"#0078D4\" size=\"5\">\n",
    "   Question 25: Comment on the differences between your results of questions 22, 23, 24.\n",
    "</font>**"
   ]
  },
  {
   "cell_type": "markdown",
   "metadata": {},
   "source": [
    "Heteroscedasticity is evident across all questions addressed.\n",
    "\n",
    "The transformations applied from one question to another primarily involved taking the logarithm of a variable, whether it was independent or not. This approach aimed to mitigate the overall impact of heteroscedasticity. However, it didn't yield a model free of this issue. Consequently, we can infer that the disparities persist in the variables used, despite yielding largely similar outcomes."
   ]
  },
  {
   "cell_type": "markdown",
   "metadata": {},
   "source": [
    "**<font color=\"#0078D4\" size=\"5\">\n",
    "    Question 26: Regardless of the results of the test of question 22, identify the most significant variable causing heteroskedasticity using the student statistics and run a WLS regression with the identified variable as weight.\n",
    "</font>**"
   ]
  },
  {
   "cell_type": "code",
   "execution_count": 161,
   "metadata": {},
   "outputs": [
    {
     "name": "stdout",
     "output_type": "stream",
     "text": [
      "                            OLS Regression Results                            \n",
      "==============================================================================\n",
      "Dep. Variable:                      y   R-squared:                       0.051\n",
      "Model:                            OLS   Adj. R-squared:                  0.044\n",
      "Method:                 Least Squares   F-statistic:                     6.799\n",
      "Date:                Tue, 12 Dec 2023   Prob (F-statistic):           2.47e-05\n",
      "Time:                        23:43:55   Log-Likelihood:                -10130.\n",
      "No. Observations:                 506   AIC:                         2.027e+04\n",
      "Df Residuals:                     501   BIC:                         2.029e+04\n",
      "Df Model:                           4                                         \n",
      "Covariance Type:            nonrobust                                         \n",
      "==============================================================================\n",
      "                 coef    std err          t      P>|t|      [0.025      0.975]\n",
      "------------------------------------------------------------------------------\n",
      "const      -5.885e+07   6.41e+07     -0.917      0.359   -1.85e+08    6.72e+07\n",
      "x1         -9.687e+05   7.69e+05     -1.260      0.208   -2.48e+06    5.42e+05\n",
      "x2          9.091e+05   6.28e+06      0.145      0.885   -1.14e+07    1.32e+07\n",
      "x3           2.63e+06   8.07e+06      0.326      0.745   -1.32e+07    1.85e+07\n",
      "x4           1.88e+06   4.78e+05      3.931      0.000     9.4e+05    2.82e+06\n",
      "==============================================================================\n",
      "Omnibus:                      760.905   Durbin-Watson:                   0.777\n",
      "Prob(Omnibus):                  0.000   Jarque-Bera (JB):           159893.659\n",
      "Skew:                           8.299   Prob(JB):                         0.00\n",
      "Kurtosis:                      88.489   Cond. No.                         546.\n",
      "==============================================================================\n",
      "\n",
      "Notes:\n",
      "[1] Standard Errors assume that the covariance matrix of the errors is correctly specified.\n",
      "                            WLS Regression Results                            \n",
      "==============================================================================\n",
      "Dep. Variable:                      y   R-squared:                       0.628\n",
      "Model:                            WLS   Adj. R-squared:                  0.625\n",
      "Method:                 Least Squares   F-statistic:                     211.2\n",
      "Date:                Tue, 12 Dec 2023   Prob (F-statistic):          4.82e-106\n",
      "Time:                        23:43:55   Log-Likelihood:                -5087.7\n",
      "No. Observations:                 506   AIC:                         1.019e+04\n",
      "Df Residuals:                     501   BIC:                         1.021e+04\n",
      "Df Model:                           4                                         \n",
      "Covariance Type:            nonrobust                                         \n",
      "==============================================================================\n",
      "                 coef    std err          t      P>|t|      [0.025      0.975]\n",
      "------------------------------------------------------------------------------\n",
      "const      -2.483e+04   3013.539     -8.241      0.000   -3.08e+04   -1.89e+04\n",
      "x1          -125.1360     41.299     -3.030      0.003    -206.277     -43.995\n",
      "x2          -475.0555    295.809     -1.606      0.109   -1056.234     106.123\n",
      "x3          8645.5416    376.315     22.974      0.000    7906.191    9384.892\n",
      "x4           -95.2123     23.544     -4.044      0.000    -141.470     -48.955\n",
      "==============================================================================\n",
      "Omnibus:                      223.900   Durbin-Watson:                   0.799\n",
      "Prob(Omnibus):                  0.000   Jarque-Bera (JB):             1477.171\n",
      "Skew:                           1.811   Prob(JB):                         0.00\n",
      "Kurtosis:                      10.546   Cond. No.                         510.\n",
      "==============================================================================\n",
      "\n",
      "Notes:\n",
      "[1] Standard Errors assume that the covariance matrix of the errors is correctly specified.\n"
     ]
    }
   ],
   "source": [
    "# first perform a normal OLS regression, then regress the squared residuals on the same variables as the original regression\n",
    "\n",
    "y_0 = price\n",
    "X = np.column_stack((const, crime, nox, rooms, proptax))\n",
    "\n",
    "model_0 = sm.OLS(y_0, X).fit()\n",
    "u = model_0.resid\n",
    "u2 = u**2\n",
    "\n",
    "y = u2\n",
    "model_ols = sm.OLS(y, X).fit()\n",
    "print(model_ols.summary())\n",
    "\n",
    "# find the variable with the lowest p-value\n",
    "p_values = model_ols.pvalues\n",
    "p_values = p_values[1:]  # remove the constant\n",
    "\n",
    "for i in range(len(p_values)):\n",
    "    if p_values.iloc[i] == p_values.min():\n",
    "        significant_var = X[:, i + 1]\n",
    "\n",
    "h = np.sqrt(significant_var)\n",
    "model_wls = sm.WLS(y_0, X, weights=1 / h).fit()\n",
    "print(model_wls.summary())"
   ]
  },
  {
   "cell_type": "markdown",
   "metadata": {},
   "source": [
    "We can see in the first OLS summary that the variable with the lowest student statistics, hence the most responsible for heteroskedasticity is the variable 'proptax'. We than used it as a weight in the WLS regression.\n",
    "\n",
    "In the summary of the WLS regression we can see an increase in the R-squared, which means that the model is better than the OLS model."
   ]
  },
  {
   "cell_type": "markdown",
   "metadata": {},
   "source": [
    "**<font color=\"#cf2626\" size=\"6\">\n",
    "    Part 3: Time Series Data\n",
    "</font>**"
   ]
  },
  {
   "cell_type": "markdown",
   "metadata": {},
   "source": [
    "### Setup data for part 3:"
   ]
  },
  {
   "cell_type": "code",
   "execution_count": 162,
   "metadata": {},
   "outputs": [],
   "source": [
    "df = pd.read_excel(\n",
    "    \"./data/threecenturies_v2.3.xlsx\",\n",
    "    sheet_name=\"A1. Headline series\",\n",
    "    usecols=[1, 15, 28],\n",
    ")\n",
    "\n",
    "realGDP = df.iloc[246:347, 0].reset_index(drop=True)\n",
    "unemployment = df.iloc[246:347, 1].reset_index(drop=True)\n",
    "inflation = df.iloc[246:347, 2].reset_index(drop=True)\n",
    "\n",
    "df = pd.DataFrame(\n",
    "    {\"realGDP\": realGDP, \"unemployment\": unemployment, \"inflation\": inflation}\n",
    ")"
   ]
  },
  {
   "cell_type": "markdown",
   "metadata": {},
   "source": [
    "**<font color=\"#0078D4\" size=\"5\">\n",
    "    Question 27:  Define strict and weak stationarity. \n",
    "</font>**"
   ]
  },
  {
   "cell_type": "markdown",
   "metadata": {},
   "source": [
    "In the context of time series, a process is said to be strictly stationary if the joint distribution of $X_{t_1}, X_{t_2}, \\dots, X_{t_k}$ is the same as the joint distribution of $X_{t_1+h}, X_{t_2+h}, \\dots, X_{t_k+h}$ for all $k$ and all $h>=1$.\n",
    "\n",
    "A weaker assumption of stationarity is that of weakly stationarity. A process is said to be weakly stationary if the mean and variance of $X_t$ are constant over time and the covariance between $X_t$ and $X_{t+h}$ is only a function of $h$ (i.e. the covariance is only a function of the time distance between the two distinct observations).\n",
    "\n",
    "In other words, it doesn't depend on the time at which the observations are taken.\n",
    "\n",
    "In addition, for a weakly stationary process, the second moment must exists."
   ]
  },
  {
   "cell_type": "markdown",
   "metadata": {},
   "source": [
    "**<font color=\"#0078D4\" size=\"5\">\n",
    "    Question 28: Explain ergodicity and state the ergodic theorem. Illustrate with an example. \n",
    "</font>**"
   ]
  },
  {
   "cell_type": "markdown",
   "metadata": {},
   "source": [
    "**Ergodicity:**\n",
    "In mathematical terms, ergodicity characterizes the behavior of a system evolving over time. Essentially, it means that, given enough time, a point in the system will explore all parts of its space in a uniform and random way. This randomness allows us to understand the average behavior of the entire system based on the path of just one representative point.\n",
    "\n",
    "**Ergodic Theorem:**\n",
    "If we have a series of data points over time (a time series), and these data points are consistently random and explore all possibilities (ergodic), then as we collect more and more data, the average behavior over time will match the average behavior across all possibilities. In simpler terms,what happens on average over time is the same as what happens on average across all possibilities.\n",
    "\n",
    "**Example:**\n",
    "Imagine rolling a regular six-sided die many times. According to ergodicity, as you roll more and more, the proportions of each number (1 through 6) will eventually settle down to match what we'd expect from a fair die. Even though each individual roll is random, the overall trend will end up matching what we think should happen with a fair die."
   ]
  },
  {
   "cell_type": "markdown",
   "metadata": {},
   "source": [
    "**<font color=\"#0078D4\" size=\"5\">\n",
    "    Question 29: Why do we need both stationarity and ergodicity?\n",
    "</font>**"
   ]
  },
  {
   "cell_type": "markdown",
   "metadata": {},
   "source": [
    "\n",
    "We need these conditions to be true, since they are the basic assumptions needed to perform time series analysis. They are also needed to apply the ergodic theorem, which allows us to estimate the expectation of the process given the average of a sufficiently large sample."
   ]
  },
  {
   "cell_type": "markdown",
   "metadata": {},
   "source": [
    "**<font color=\"#0078D4\" size=\"5\">\n",
    "    Question 30: Explain “spurious regression”. \n",
    "</font>**"
   ]
  },
  {
   "cell_type": "markdown",
   "metadata": {},
   "source": [
    "The phenomenon of finding a relationship between two or more trending variables simply because each is growing over\n",
    "time is an example of a **spurious regression problem**.\n",
    "\n",
    "In a few words, there is no sense in which y and x are related, but an OLS regression using the\n",
    "usual t statistics will often indicate a relationship.\n",
    "\n",
    "The possibility of spurious regression is quite important and has\n",
    "led economists to reexamine many aggregate time series regressions whose t statistics\n",
    "were very significant and whose R-squareds were extremely high."
   ]
  },
  {
   "cell_type": "markdown",
   "metadata": {},
   "source": [
    "**<font color=\"#0078D4\" size=\"5\">\n",
    "    Question 31: Define a moving average and explain the trade-off involved in the choice of the size of the window and of whether to center or not the moving average. \n",
    "</font>**"
   ]
  },
  {
   "cell_type": "markdown",
   "metadata": {},
   "source": [
    "A moving average helps make sense of data patterns over time by smoothing out the short-term ups and downs.\n",
    "It's a window that slides along a series of numbers, calculating the average of a between of them.\n",
    "\n",
    "Trade-offs are: if you use a bigger window, your results are smoother, but it takes longer to catch up when things change. On the other hand, a smaller window reacts faster to changes but might include more random ups and downs.\n",
    "\n",
    "There are two types of moving averages. One cares about accuracy but can be a bit slow (centered). The other one wants to be fast, focusing on recent data, but might miss some of the overall trends (non-centered)."
   ]
  },
  {
   "cell_type": "markdown",
   "metadata": {},
   "source": [
    "**<font color=\"#0078D4\" size=\"5\">\n",
    "    Quesion 32:  Make all time series stationary by computing the difference between the original variable and a moving average of order 5. \n",
    "</font>**"
   ]
  },
  {
   "cell_type": "code",
   "execution_count": 163,
   "metadata": {},
   "outputs": [
    {
     "name": "stdout",
     "output_type": "stream",
     "text": [
      "           realGDP unemployment inflation\n",
      "0    181160.264436     3.679865  4.058273\n",
      "1    184974.529384     4.877351      -0.3\n",
      "2    187756.550527     5.145694       0.0\n",
      "3     186015.76815     5.603507   1.10331\n",
      "4      2543.024907     1.670574 -1.289777\n",
      "..             ...          ...       ...\n",
      "96         65790.8    -1.210873 -0.360351\n",
      "97         70372.0    -1.740327 -0.448665\n",
      "98         74371.0    -1.633017 -0.526053\n",
      "99         81059.2    -1.207814 -0.624785\n",
      "100        91176.6     -1.09303 -0.785039\n",
      "\n",
      "[101 rows x 3 columns]\n"
     ]
    }
   ],
   "source": [
    "df_mva_5 = df.rolling(window=5).mean()\n",
    "df_mva_5.loc[:3] = 0  # first 4 rows are NaN, so we set them to 0\n",
    "df_stationary_5 = df - df_mva_5\n",
    "\n",
    "print(df_stationary_5)"
   ]
  },
  {
   "cell_type": "markdown",
   "metadata": {},
   "source": [
    "**<font color=\"#0078D4\" size=\"5\">\n",
    "    Question 33: Compute the difference between the resulting time series of question 32 and a moving average of order 10. Give the exact formula for the weights after the two transformations.\n",
    "</font>**"
   ]
  },
  {
   "cell_type": "markdown",
   "metadata": {},
   "source": [
    "The first moving average with a window size of 5 is given by this formula:\n",
    "\n",
    "$$Y_t = \\frac{1}{5} \\sum_{i=0}^{4} X_{t-i}$$\n",
    "\n",
    "The second moving average with a window size of 10 is given by this formula:\n",
    "\n",
    "$$Z_t = \\frac{1}{10} \\sum_{j=0}^{9} X_{t-j}$$\n",
    "\n",
    "Finally, the difference between the moving average of size 5 and the moving average of size 10 is:\n",
    "\n",
    "$$W_t = \\frac{1}{5} \\left(\\sum_{i=0}^{4} X_{t-i} - \\frac{1}{2}\\sum_{j=0}^{9} X_{t-j}\\right)$$"
   ]
  },
  {
   "cell_type": "code",
   "execution_count": 164,
   "metadata": {},
   "outputs": [
    {
     "name": "stdout",
     "output_type": "stream",
     "text": [
      "           realGDP unemployment inflation\n",
      "0    181160.264436     3.679865  4.058273\n",
      "1    184974.529384     4.877351      -0.3\n",
      "2    187756.550527     5.145694       0.0\n",
      "3     186015.76815     5.603507   1.10331\n",
      "4      2543.024907     1.670574 -1.289777\n",
      "..             ...          ...       ...\n",
      "96      -1067792.2   -10.079318 -4.411388\n",
      "97      -1089036.6   -10.262643 -4.361668\n",
      "98      -1109027.4    -9.923436 -4.218876\n",
      "99      -1127875.7    -9.373775 -3.926719\n",
      "100     -1147617.2    -9.095105 -3.469351\n",
      "\n",
      "[101 rows x 3 columns]\n"
     ]
    }
   ],
   "source": [
    "df_mva_10 = df.rolling(window=10).mean()\n",
    "df_mva_10.loc[:8] = 0  # first 9 rows are NaN, so we set them to 0\n",
    "df_diff = df_stationary_5 - df_mva_10\n",
    "\n",
    "print(df_diff)"
   ]
  },
  {
   "cell_type": "markdown",
   "metadata": {},
   "source": [
    "**<font color=\"#0078D4\" size=\"5\">\n",
    "    Question 34: Using the original dataset, test the unit root hypothesis for all variables.\n",
    "</font>**"
   ]
  },
  {
   "cell_type": "code",
   "execution_count": 165,
   "metadata": {},
   "outputs": [
    {
     "name": "stdout",
     "output_type": "stream",
     "text": [
      "Test for realGDP:\n",
      "ADF Statistic: -3.7862421043764893\n",
      "Critical Value at 5%: -3.893439799803978\n",
      "Failed to Reject H0 - Time Series is Non-Stationary\n",
      "\n",
      "Test for unemployment:\n",
      "ADF Statistic: -2.3632029316185594\n",
      "Critical Value at 5%: -2.891208211860468\n",
      "Failed to Reject H0 - Time Series is Non-Stationary\n",
      "\n",
      "Test for inflation:\n",
      "ADF Statistic: -4.0503591672558334\n",
      "Critical Value at 5%: -2.891208211860468\n",
      "Reject H0 - Time Series is Stationary\n",
      "\n"
     ]
    }
   ],
   "source": [
    "from statsmodels.tsa.stattools import adfuller\n",
    "\n",
    "# realGDP has a time trend, while unemployment and inflation do not\n",
    "\n",
    "# Loop through each column in the DataFrame and perform the ADF test\n",
    "for column in df.columns:\n",
    "    if column == \"realGDP\":\n",
    "        # ctt = constant + time trend\n",
    "        result = adfuller(df[column], maxlag=1, regression=\"ctt\")\n",
    "        crit = result[4][\"5%\"]\n",
    "    else:\n",
    "        # c = constant\n",
    "        result = adfuller(df[column], maxlag=1, regression=\"c\")\n",
    "        crit = result[4][\"5%\"]\n",
    "\n",
    "    print(f\"Test for {column}:\")\n",
    "    print(\"ADF Statistic:\", result[0])\n",
    "    print(\"Critical Value at 5%:\", crit)\n",
    "\n",
    "    if result[0] < crit:\n",
    "        print(\"Reject H0 - Time Series is Stationary\\n\")\n",
    "    else:\n",
    "        print(\"Failed to Reject H0 - Time Series is Non-Stationary\\n\")"
   ]
  },
  {
   "cell_type": "markdown",
   "metadata": {},
   "source": [
    "**<font color=\"#0078D4\" size=\"5\">\n",
    "    Question 35: Transform all variables so that they are stationary using either your answers to questions 32-33 or to question 34.\n",
    "</font>**"
   ]
  },
  {
   "cell_type": "code",
   "execution_count": 166,
   "metadata": {},
   "outputs": [
    {
     "name": "stdout",
     "output_type": "stream",
     "text": [
      "Test for realGDP:\n",
      "ADF Statistic: -4.612330316899267\n",
      "Critical Value at 5%: -2.891208211860468\n",
      "Reject H0 - Time Series is Stationary\n",
      "\n",
      "Test for unemployment:\n",
      "ADF Statistic: -8.563654592418079\n",
      "Critical Value at 5%: -2.891208211860468\n",
      "Reject H0 - Time Series is Stationary\n",
      "\n",
      "Test for inflation:\n",
      "ADF Statistic: -9.69038042121503\n",
      "Critical Value at 5%: -2.891208211860468\n",
      "Reject H0 - Time Series is Stationary\n",
      "\n"
     ]
    }
   ],
   "source": [
    "df_diff = df.diff().dropna()\n",
    "\n",
    "# We check with the ADF test if the time series are stationary after differencing\n",
    "for column in df_diff.columns:\n",
    "    result = adfuller(df_diff[column], maxlag=1, regression=\"c\")\n",
    "    crit = result[4][\"5%\"]\n",
    "\n",
    "    print(f\"Test for {column}:\")\n",
    "    print(\"ADF Statistic:\", result[0])\n",
    "    print(\"Critical Value at 5%:\", crit)\n",
    "\n",
    "    if result[0] < crit:\n",
    "        print(\"Reject H0 - Time Series is Stationary\\n\")\n",
    "    else:\n",
    "        print(\"Failed to Reject H0 - Time Series is Non-Stationary\\n\")"
   ]
  },
  {
   "cell_type": "markdown",
   "metadata": {},
   "source": [
    "**<font color=\"#0078D4\" size=\"5\">\n",
    "    Question 36: Explain the difference between ACF and PACF.\n",
    "</font>**"
   ]
  },
  {
   "cell_type": "markdown",
   "metadata": {},
   "source": [
    "The Autocorrelation Function (ACF) gauges how a time series relates to its own past values at different time intervals.\n",
    "On the other hand, the Partial Autocorrelation Function (PACF) assesses this relationship while accounting for the impact of intervening time lags.\n",
    "\n",
    "In simpler terms, ACF gives us a broad picture of how each time point relates to all its previous points, considering both direct and indirect connections. PACF, however, narrows its focus to the direct link between a data point and its specific past point, excluding the influence of in-between steps."
   ]
  },
  {
   "cell_type": "markdown",
   "metadata": {},
   "source": [
    "**<font color=\"#0078D4\" size=\"5\">\n",
    "    Question 37: Plot and comment on the ACF and PACF of all variables.\n",
    "</font>**"
   ]
  },
  {
   "cell_type": "code",
   "execution_count": 167,
   "metadata": {},
   "outputs": [
    {
     "data": {
      "image/png": "[encoded data removed]",
      "text/plain": [
       "<Figure size 1200x1000 with 6 Axes>"
      ]
     },
     "metadata": {},
     "output_type": "display_data"
    }
   ],
   "source": [
    "from statsmodels.graphics.tsaplots import plot_acf\n",
    "from statsmodels.graphics.tsaplots import plot_pacf\n",
    "\n",
    "dl_GDP = np.diff(df[\"realGDP\"])\n",
    "dl_unemployment = np.diff(df[\"unemployment\"])\n",
    "dl_inflation = np.diff(df[\"inflation\"])\n",
    "\n",
    "fig, axes = plt.subplots(nrows=3, ncols=2, figsize=(12, 10))\n",
    "\n",
    "plot_acf(dl_GDP, title=\"ACF of GDP\", ax=axes[0, 0])\n",
    "plot_pacf(dl_GDP, title=\"PACF of GDP\", ax=axes[0, 1])\n",
    "\n",
    "plot_acf(dl_unemployment, title=\"ACF of unemployment\", ax=axes[1, 0])\n",
    "plot_pacf(dl_unemployment, title=\"PACF of unemployment\", ax=axes[1, 1])\n",
    "\n",
    "plot_acf(dl_inflation, title=\"ACF of inflation\", ax=axes[2, 0])\n",
    "plot_pacf(dl_inflation, title=\"PACF of inflation\", ax=axes[2, 1])\n",
    "\n",
    "plt.tight_layout()\n",
    "plt.show()"
   ]
  },
  {
   "cell_type": "markdown",
   "metadata": {},
   "source": [
    "#### GDP:\n",
    "\n",
    "Upon examining the ACF (AutoCorrelation Function) plot of GDP, it is evident that the significance of the lag 1 value is notable. Lag 2, lag 10, and lag 11 also exhibit significance, albeit being extremely close to the significance threshold.\n",
    "We can also see a slite seasonal pattern in the ACF plot.\n",
    "\n",
    "The PACF (Partial AutoCorrelation Function) plot reveals that lag 1 holds the highest significance, while lag 5 and lag 9 also exhibit significance, though they are in close proximity to the significance threshold.\n",
    "\n",
    "Consequently, it can be deduced that considering the close alignment with the expected behavior, employing an MA(1) model is a plausible choice. Alternatively, an ARMA(1,1) model might be suitable for modeling the GDP.\n",
    "\n",
    "#### Unemployment:\n",
    "\n",
    "Examining the graphs, it is evident that the 'Unemployment Rate' data series displays negligible autocorrelation based on the ACF plot. This suggests that the series demonstrates characteristics akin to white noise or a stationary random walk. Consequently, employing models like AutoRegressive (AR) or Moving Average (MA) for predicting the data series is not feasible.\n",
    "\n",
    "#### Inflation:\n",
    "\n",
    "Looking at the charts for the 'Inflation Rate,' just like we did for the 'Unemployment Rate,' we see that the data doesn't really connect much in the ACF plot. This means the inflation rate acts a bit like random noise or a steady walk, similar to what we saw with the unemployment rate. So, just like with unemployment, it doesn't make sense to use models like AutoRegressive (AR) or Moving Average (MA) to guess where the inflation rate is going."
   ]
  },
  {
   "cell_type": "markdown",
   "metadata": {},
   "source": [
    "**<font color=\"#0078D4\" size=\"5\">\n",
    "    Question 38: Explain the principle of parsimony and its relationship with Ockham’s razor using the theory of information criterion. \n",
    "</font>**"
   ]
  },
  {
   "cell_type": "markdown",
   "metadata": {},
   "source": [
    "Parsimony and Ockham's razor say, \"Keep it simple.\"\n",
    "\n",
    "When explaining things, choose the simplest idea that makes sense. Ockham's razor helps cut out unnecessary details.\n",
    "\n",
    "Information criterion measures how well you're keeping things simple and powerful. It's like aiming for a straightforward and effective explanation."
   ]
  },
  {
   "cell_type": "markdown",
   "metadata": {},
   "source": [
    "**<font color=\"#0078D4\" size=\"5\">\n",
    "    Question 39: Explain the problem of auto-correlation of the errors.  \n",
    "</font>**"
   ]
  },
  {
   "cell_type": "markdown",
   "metadata": {},
   "source": [
    "Autocorrelation of errors happens when the mistakes in a regression model are connected to each other. This means that the errors in one period are influenced by the errors in earlier times, going against the assumption that errors are independent.\n",
    "\n",
    "Autocorrelation creates issues for ordinary least squares (OLS) estimation. While the estimated regression coefficients are still okay, they lose the advantage of being the most efficient. Also, the Mean Squared Error (MSE)\n",
    "might not show the true error variance correctly, and the standard error of regression coefficients might not give the right idea about how spread out the values are.\n",
    "When this happens, the usual statistical methods and confidence intervals can't be trusted."
   ]
  },
  {
   "cell_type": "markdown",
   "metadata": {},
   "source": [
    "**<font color=\"#0078D4\" size=\"5\">\n",
    "    Question 40:  Using only stationary variables, run a regression of GDP on constant, unemployment and inflation and test the hypothesis of no-autocorrelation of errors. \n",
    "</font>**"
   ]
  },
  {
   "cell_type": "code",
   "execution_count": 168,
   "metadata": {},
   "outputs": [
    {
     "name": "stdout",
     "output_type": "stream",
     "text": [
      "Reject H0 - There is serial correlation in the residuals\n",
      "p-value: 1.8834347632718846e-10\n"
     ]
    }
   ],
   "source": [
    "# We have to difference the time series in order to make them stationary\n",
    "realGDP_diff = np.array(np.diff(df[\"realGDP\"]), dtype=float)\n",
    "unemployment_diff = np.array(np.diff(df[\"unemployment\"]), dtype=float)\n",
    "inf_diff = np.array(np.diff(df[\"inflation\"]), dtype=float)\n",
    "\n",
    "y = realGDP_diff\n",
    "const = np.ones(len(y))\n",
    "X = np.column_stack((const, unemployment_diff, inf_diff))\n",
    "\n",
    "# We first perform a regression with all variables\n",
    "model = sm.OLS(y, X).fit()\n",
    "residuals = model.resid\n",
    "\n",
    "n = len(residuals)\n",
    "u = residuals[1:n]\n",
    "u_1 = residuals[0 : n - 1]\n",
    "\n",
    "# Now we perform a regression on the residuals and the lagged residuals\n",
    "y = u\n",
    "const = np.ones(len(y))\n",
    "X = np.column_stack((const, u_1))\n",
    "\n",
    "model = sm.OLS(y, X).fit()\n",
    "p_value = model.pvalues[1]\n",
    "\n",
    "if p_value < 0.05:\n",
    "    print(\"Reject H0 - There is serial correlation in the residuals\\np-value:\", p_value)\n",
    "else:\n",
    "    print(\n",
    "        \"Failed to reject H0 - There is no serial correlation in the residuals\\np-value:\",\n",
    "        p_value,\n",
    "    )"
   ]
  },
  {
   "cell_type": "markdown",
   "metadata": {},
   "source": [
    "We can use the Durbin-Watson test provided by statsmodel, to test the hypothesis of no-autocorrelation of errors and check if our conclusion is correct."
   ]
  },
  {
   "cell_type": "code",
   "execution_count": 169,
   "metadata": {},
   "outputs": [
    {
     "name": "stdout",
     "output_type": "stream",
     "text": [
      "Durbin-Watson statistic: 0.8053000430343396\n",
      "There is positive autocorrelation in the residuals\n"
     ]
    }
   ],
   "source": [
    "from statsmodels.stats.stattools import durbin_watson\n",
    "\n",
    "dw = durbin_watson(residuals)\n",
    "\n",
    "print(\"Durbin-Watson statistic:\", dw)\n",
    "\n",
    "if dw < 2:\n",
    "    print(\"There is positive autocorrelation in the residuals\")\n",
    "elif dw > 2:\n",
    "    print(\"There is negative autocorrelation in the residuals\")\n",
    "else:\n",
    "    print(\"There is no autocorrelation in the residuals\")"
   ]
  },
  {
   "cell_type": "markdown",
   "metadata": {},
   "source": [
    "As we can see, even the Durbin-Watson test rejects the null hypothesis of no-autocorrelation of errors. This means that we have to use a model that takes into account the autocorrelation of the errors."
   ]
  },
  {
   "cell_type": "markdown",
   "metadata": {},
   "source": [
    "**<font color=\"#0078D4\" size=\"5\">\n",
    "    Question 41: Regardless of your answer to question 40, correct auto-correlation with GLS. Comment on the difference with question 40.\n",
    "</font>**"
   ]
  },
  {
   "cell_type": "code",
   "execution_count": 170,
   "metadata": {},
   "outputs": [
    {
     "name": "stdout",
     "output_type": "stream",
     "text": [
      "                            GLS Regression Results                            \n",
      "==============================================================================\n",
      "Dep. Variable:                      y   R-squared:                       0.253\n",
      "Model:                            GLS   Adj. R-squared:                  0.238\n",
      "Method:                 Least Squares   F-statistic:                     16.45\n",
      "Date:                Tue, 12 Dec 2023   Prob (F-statistic):           7.07e-07\n",
      "Time:                        23:43:57   Log-Likelihood:                -1078.5\n",
      "No. Observations:                 100   AIC:                             2163.\n",
      "Df Residuals:                      97   BIC:                             2171.\n",
      "Df Model:                           2                                         \n",
      "Covariance Type:            nonrobust                                         \n",
      "==============================================================================\n",
      "                 coef    std err          t      P>|t|      [0.025      0.975]\n",
      "------------------------------------------------------------------------------\n",
      "const       1.286e+04   2936.673      4.380      0.000    7033.037    1.87e+04\n",
      "x1         -4982.4478    869.715     -5.729      0.000   -6708.591   -3256.305\n",
      "x2          -872.4919    288.252     -3.027      0.003   -1444.592    -300.391\n",
      "==============================================================================\n",
      "Omnibus:                       11.992   Durbin-Watson:                   1.963\n",
      "Prob(Omnibus):                  0.002   Jarque-Bera (JB):               20.527\n",
      "Skew:                          -0.473   Prob(JB):                     3.49e-05\n",
      "Kurtosis:                       5.008   Cond. No.                         12.6\n",
      "==============================================================================\n",
      "\n",
      "Notes:\n",
      "[1] Standard Errors assume that the covariance matrix of the errors is correctly specified.\n"
     ]
    }
   ],
   "source": [
    "from scipy.linalg import toeplitz\n",
    "\n",
    "y = realGDP_diff\n",
    "const = np.ones(len(y))\n",
    "X_0 = np.column_stack((const, unemployment_diff, inf_diff))\n",
    "\n",
    "# We first perform a regression with all variables\n",
    "model = sm.OLS(y, X_0).fit()\n",
    "residuals = model.resid\n",
    "\n",
    "n = len(residuals)\n",
    "y = residuals[1:n]\n",
    "lagged_residuals = residuals[0 : n - 1]\n",
    "const = np.ones(len(y))\n",
    "X_1 = np.column_stack((const, lagged_residuals))\n",
    "model = sm.OLS(y, X_1).fit()\n",
    "rho = model.params[1]\n",
    "\n",
    "# X_tilde = X - rho * np.column_stack((unemployment_diff, inf_diff)) # X_tilde = (1 - rho) * X\n",
    "order = toeplitz(range(len(residuals)))\n",
    "sigma = rho**order\n",
    "\n",
    "# We perform a regression with the transformed variables (Feasible GLS of the AR(1) model)\n",
    "y = realGDP_diff\n",
    "model = sm.GLS(y, X_0, sigma=sigma).fit()\n",
    "print(model.summary())\n",
    "residuals_gls = model.resid"
   ]
  },
  {
   "cell_type": "markdown",
   "metadata": {},
   "source": [
    "As we can see, the Durbin-Watson statistic is now close to 2, which means that the autocorrelation of the errors has been corrected."
   ]
  },
  {
   "cell_type": "markdown",
   "metadata": {},
   "source": [
    "**<font color=\"#0078D4\" size=\"5\">\n",
    "    Question 42: For all variables, construct their lag 1 and lag 2 variables.\n",
    "</font>**"
   ]
  },
  {
   "cell_type": "code",
   "execution_count": 171,
   "metadata": {},
   "outputs": [
    {
     "name": "stdout",
     "output_type": "stream",
     "text": [
      "lag 1:  [[ 1.84974529e+05  4.87735081e+00 -3.00000000e-01]\n",
      " [ 1.87756551e+05  5.14569424e+00  0.00000000e+00]\n",
      " [ 1.86015768e+05  5.60350698e+00  1.10330993e+00]\n",
      " [ 1.88155559e+05  6.91482147e+00 -3.96825397e-01]\n",
      " [ 1.93665734e+05  6.48319831e+00  3.98406375e-01]\n",
      " [ 1.98524153e+05  5.18036906e+00 -9.92063492e-02]\n",
      " [ 2.02300112e+05  4.40135579e+00  1.58887786e+00]\n",
      " [ 1.94777086e+05  7.10573704e+00  1.27077224e+00]\n",
      " [ 1.99383307e+05  7.54128620e+00  1.93050193e-01]\n",
      " [ 2.04633217e+05  5.79390638e+00  2.11946050e+00]\n",
      " [ 2.11384784e+05  4.74742084e+00  2.83018868e-01]\n",
      " [ 2.14508404e+05  3.96671031e+00  2.82220132e+00]\n",
      " [ 2.23344587e+05  3.62057245e+00  6.40439158e-01]\n",
      " [ 2.27790457e+05  3.15638451e+00  2.54545455e+00]\n",
      " [ 2.40295540e+05  9.48316738e-01  1.25000000e+01]\n",
      " [ 2.42999513e+05  3.29102022e-01  1.81000000e+01]\n",
      " [ 2.41402923e+05  4.66200466e-01  2.52000000e+01]\n",
      " [ 2.46001108e+05  6.47249191e-01  2.20000000e+01]\n",
      " [ 2.26744357e+05  3.02474794e+00  1.01000000e+01]\n",
      " [ 2.13407661e+05  1.95454545e+00  1.54000000e+01]\n",
      " [ 1.92683863e+05  1.10237823e+01 -8.60000000e+00]\n",
      " [ 2.02913931e+05  9.67571486e+00 -1.40000000e+01]\n",
      " [ 2.08925415e+05  7.98751845e+00 -6.00000000e+00]\n",
      " [ 2.18786357e+05  7.11740762e+00 -7.00000000e-01]\n",
      " [ 2.26485274e+05  7.75982983e+00  3.00000000e-01]\n",
      " [ 2.19419144e+05  8.66688967e+00 -8.00000000e-01]\n",
      " [ 2.36293484e+05  6.71361293e+00 -2.40000000e+00]\n",
      " [ 2.38402776e+05  7.42682717e+00 -3.00000000e-01]\n",
      " [ 2.45205244e+05  7.18350100e+00 -9.00000000e-01]\n",
      " [ 2.43254149e+05  1.10981272e+01 -2.80000000e+00]\n",
      " [ 2.31969434e+05  1.48762055e+01 -4.30000000e+00]\n",
      " [ 2.32127631e+05  1.53872984e+01 -2.60000000e+00]\n",
      " [ 2.39510155e+05  1.39273721e+01 -2.10000000e+00]\n",
      " [ 2.53800611e+05  1.17341114e+01  0.00000000e+00]\n",
      " [ 2.63186962e+05  1.08730308e+01  7.00000000e-01]\n",
      " [ 2.75737252e+05  9.24811309e+00  7.00000000e-01]\n",
      " [ 2.85387265e+05  7.69656442e+00  3.40000000e+00]\n",
      " [ 2.87602022e+05  9.20182774e+00  1.60000000e+00]\n",
      " [ 3.00257776e+05  5.68461587e+00  2.80000000e+00]\n",
      " [ 3.30051532e+05  2.99073700e+00  1.68000000e+01]\n",
      " [ 3.58790641e+05  1.03403039e+00  1.08000000e+01]\n",
      " [ 3.65223983e+05  4.42926614e-01  7.10000000e+00]\n",
      " [ 3.71499128e+05  3.19946153e-01  3.40000000e+00]\n",
      " [ 3.55152112e+05  2.83456847e-01  2.70000000e+00]\n",
      " [ 3.38910560e+05  4.12768875e-01  2.80000000e+00]\n",
      " [ 3.30578855e+05  1.71451074e+00  3.10000000e+00]\n",
      " [ 3.26360270e+05  1.28589976e+00  7.00000000e+00]\n",
      " [ 3.36854000e+05  1.28788104e+00  7.70000000e+00]\n",
      " [ 3.48243000e+05  1.15929593e+00  2.80000000e+00]\n",
      " [ 3.59774000e+05  1.44696668e+00  3.91849530e+00]\n",
      " [ 3.73254000e+05  1.17941008e+00  9.04977376e+00]\n",
      " [ 3.79199000e+05  1.92487779e+00  1.06500692e+01]\n",
      " [ 4.00153000e+05  1.57952407e+00  3.62500000e+00]\n",
      " [ 4.17347000e+05  1.30618890e+00  2.29191797e+00]\n",
      " [ 4.33302000e+05  1.07797492e+00  5.07075472e+00]\n",
      " [ 4.40315000e+05  1.15882385e+00  5.16273850e+00]\n",
      " [ 4.48743000e+05  1.39638576e+00  3.84204909e+00]\n",
      " [ 4.54426000e+05  2.02357918e+00  2.87769784e+00]\n",
      " [ 4.73093000e+05  2.11202089e+00  5.99400599e-01]\n",
      " [ 5.02799000e+05  1.59998886e+00  7.94438928e-01]\n",
      " [ 5.16253000e+05  1.51887220e+00  3.25123153e+00]\n",
      " [ 5.21906000e+05  1.99117374e+00  4.19847328e+00]\n",
      " [ 5.47364000e+05  2.42522286e+00  2.10622711e+00]\n",
      " [ 5.77677000e+05  1.63160865e+00  3.22869955e+00]\n",
      " [ 5.89975000e+05  1.40854508e+00  4.25716768e+00]\n",
      " [ 5.99211000e+05  1.51988632e+00  4.00000000e+00]\n",
      " [ 6.15879000e+05  2.34347372e+00  2.24358974e+00]\n",
      " [ 6.49439000e+05  2.36583501e+00  3.99686520e+00]\n",
      " [ 6.61919000e+05  2.28596779e+00  5.19969857e+00]\n",
      " [ 6.79900000e+05  2.43837319e+00  6.51862464e+00]\n",
      " [ 7.03556000e+05  4.13847057e+00  9.41492939e+00]\n",
      " [ 7.33770000e+05  4.34325744e+00  7.19114935e+00]\n",
      " [ 7.81583000e+05  3.65095905e+00  9.34633028e+00]\n",
      " [ 7.62257000e+05  3.64938215e+00  1.57315155e+01]\n",
      " [ 7.50912000e+05  4.49687823e+00  2.27004984e+01]\n",
      " [ 7.72852000e+05  5.39694656e+00  1.56573117e+01]\n",
      " [ 7.91889000e+05  5.59382016e+00  1.49425287e+01]\n",
      " [ 8.25111000e+05  5.50524760e+00  7.47222222e+00]\n",
      " [ 8.55933000e+05  5.37799977e+00  1.13724477e+01]\n",
      " [ 8.38462000e+05  6.80931684e+00  1.51543282e+01]\n",
      " [ 8.31931000e+05  9.64902548e+00  1.18097541e+01]\n",
      " [ 8.48700000e+05  1.07172146e+01  8.11103100e+00]\n",
      " [ 8.84520000e+05  1.14722967e+01  4.93497833e+00]\n",
      " [ 9.04639000e+05  1.17743225e+01  4.25802351e+00]\n",
      " [ 9.42519000e+05  1.13578200e+01  4.92227979e+00]\n",
      " [ 9.72239000e+05  1.13237297e+01  3.32607117e+00]\n",
      " [ 1.02434600e+06  1.04333014e+01  3.20494799e+00]\n",
      " [ 1.08362900e+06  8.57443451e+00  3.75919368e+00]\n",
      " [ 1.11161800e+06  7.22139364e+00  5.23759517e+00]\n",
      " [ 1.11958700e+06  7.09791177e+00  6.97268305e+00]\n",
      " [ 1.10705900e+06  8.81778893e+00  7.53264925e+00]\n",
      " [ 1.11104300e+06  9.94993301e+00  4.26154847e+00]\n",
      " [ 1.13889700e+06  1.03747521e+01  2.50650026e+00]\n",
      " [ 1.18314400e+06  9.49609652e+00  1.97849026e+00]\n",
      " [ 1.21279800e+06  8.62178807e+00  2.65645209e+00]\n",
      " [ 1.24370900e+06  8.09705177e+00  2.40030843e+00]\n",
      " [ 1.28260200e+06  6.97201375e+00  1.82460627e+00]\n",
      " [ 1.32352700e+06  6.25546654e+00  1.55739752e+00]\n",
      " [ 1.36698300e+06  5.97681260e+00  1.32871031e+00]]\n",
      "lag 2:  [[ 1.81160264e+05  3.67986480e+00  4.05827263e+00]\n",
      " [ 1.84974529e+05  4.87735081e+00 -3.00000000e-01]\n",
      " [ 1.87756551e+05  5.14569424e+00  0.00000000e+00]\n",
      " [ 1.86015768e+05  5.60350698e+00  1.10330993e+00]\n",
      " [ 1.88155559e+05  6.91482147e+00 -3.96825397e-01]\n",
      " [ 1.93665734e+05  6.48319831e+00  3.98406375e-01]\n",
      " [ 1.98524153e+05  5.18036906e+00 -9.92063492e-02]\n",
      " [ 2.02300112e+05  4.40135579e+00  1.58887786e+00]\n",
      " [ 1.94777086e+05  7.10573704e+00  1.27077224e+00]\n",
      " [ 1.99383307e+05  7.54128620e+00  1.93050193e-01]\n",
      " [ 2.04633217e+05  5.79390638e+00  2.11946050e+00]\n",
      " [ 2.11384784e+05  4.74742084e+00  2.83018868e-01]\n",
      " [ 2.14508404e+05  3.96671031e+00  2.82220132e+00]\n",
      " [ 2.23344587e+05  3.62057245e+00  6.40439158e-01]\n",
      " [ 2.27790457e+05  3.15638451e+00  2.54545455e+00]\n",
      " [ 2.40295540e+05  9.48316738e-01  1.25000000e+01]\n",
      " [ 2.42999513e+05  3.29102022e-01  1.81000000e+01]\n",
      " [ 2.41402923e+05  4.66200466e-01  2.52000000e+01]\n",
      " [ 2.46001108e+05  6.47249191e-01  2.20000000e+01]\n",
      " [ 2.26744357e+05  3.02474794e+00  1.01000000e+01]\n",
      " [ 2.13407661e+05  1.95454545e+00  1.54000000e+01]\n",
      " [ 1.92683863e+05  1.10237823e+01 -8.60000000e+00]\n",
      " [ 2.02913931e+05  9.67571486e+00 -1.40000000e+01]\n",
      " [ 2.08925415e+05  7.98751845e+00 -6.00000000e+00]\n",
      " [ 2.18786357e+05  7.11740762e+00 -7.00000000e-01]\n",
      " [ 2.26485274e+05  7.75982983e+00  3.00000000e-01]\n",
      " [ 2.19419144e+05  8.66688967e+00 -8.00000000e-01]\n",
      " [ 2.36293484e+05  6.71361293e+00 -2.40000000e+00]\n",
      " [ 2.38402776e+05  7.42682717e+00 -3.00000000e-01]\n",
      " [ 2.45205244e+05  7.18350100e+00 -9.00000000e-01]\n",
      " [ 2.43254149e+05  1.10981272e+01 -2.80000000e+00]\n",
      " [ 2.31969434e+05  1.48762055e+01 -4.30000000e+00]\n",
      " [ 2.32127631e+05  1.53872984e+01 -2.60000000e+00]\n",
      " [ 2.39510155e+05  1.39273721e+01 -2.10000000e+00]\n",
      " [ 2.53800611e+05  1.17341114e+01  0.00000000e+00]\n",
      " [ 2.63186962e+05  1.08730308e+01  7.00000000e-01]\n",
      " [ 2.75737252e+05  9.24811309e+00  7.00000000e-01]\n",
      " [ 2.85387265e+05  7.69656442e+00  3.40000000e+00]\n",
      " [ 2.87602022e+05  9.20182774e+00  1.60000000e+00]\n",
      " [ 3.00257776e+05  5.68461587e+00  2.80000000e+00]\n",
      " [ 3.30051532e+05  2.99073700e+00  1.68000000e+01]\n",
      " [ 3.58790641e+05  1.03403039e+00  1.08000000e+01]\n",
      " [ 3.65223983e+05  4.42926614e-01  7.10000000e+00]\n",
      " [ 3.71499128e+05  3.19946153e-01  3.40000000e+00]\n",
      " [ 3.55152112e+05  2.83456847e-01  2.70000000e+00]\n",
      " [ 3.38910560e+05  4.12768875e-01  2.80000000e+00]\n",
      " [ 3.30578855e+05  1.71451074e+00  3.10000000e+00]\n",
      " [ 3.26360270e+05  1.28589976e+00  7.00000000e+00]\n",
      " [ 3.36854000e+05  1.28788104e+00  7.70000000e+00]\n",
      " [ 3.48243000e+05  1.15929593e+00  2.80000000e+00]\n",
      " [ 3.59774000e+05  1.44696668e+00  3.91849530e+00]\n",
      " [ 3.73254000e+05  1.17941008e+00  9.04977376e+00]\n",
      " [ 3.79199000e+05  1.92487779e+00  1.06500692e+01]\n",
      " [ 4.00153000e+05  1.57952407e+00  3.62500000e+00]\n",
      " [ 4.17347000e+05  1.30618890e+00  2.29191797e+00]\n",
      " [ 4.33302000e+05  1.07797492e+00  5.07075472e+00]\n",
      " [ 4.40315000e+05  1.15882385e+00  5.16273850e+00]\n",
      " [ 4.48743000e+05  1.39638576e+00  3.84204909e+00]\n",
      " [ 4.54426000e+05  2.02357918e+00  2.87769784e+00]\n",
      " [ 4.73093000e+05  2.11202089e+00  5.99400599e-01]\n",
      " [ 5.02799000e+05  1.59998886e+00  7.94438928e-01]\n",
      " [ 5.16253000e+05  1.51887220e+00  3.25123153e+00]\n",
      " [ 5.21906000e+05  1.99117374e+00  4.19847328e+00]\n",
      " [ 5.47364000e+05  2.42522286e+00  2.10622711e+00]\n",
      " [ 5.77677000e+05  1.63160865e+00  3.22869955e+00]\n",
      " [ 5.89975000e+05  1.40854508e+00  4.25716768e+00]\n",
      " [ 5.99211000e+05  1.51988632e+00  4.00000000e+00]\n",
      " [ 6.15879000e+05  2.34347372e+00  2.24358974e+00]\n",
      " [ 6.49439000e+05  2.36583501e+00  3.99686520e+00]\n",
      " [ 6.61919000e+05  2.28596779e+00  5.19969857e+00]\n",
      " [ 6.79900000e+05  2.43837319e+00  6.51862464e+00]\n",
      " [ 7.03556000e+05  4.13847057e+00  9.41492939e+00]\n",
      " [ 7.33770000e+05  4.34325744e+00  7.19114935e+00]\n",
      " [ 7.81583000e+05  3.65095905e+00  9.34633028e+00]\n",
      " [ 7.62257000e+05  3.64938215e+00  1.57315155e+01]\n",
      " [ 7.50912000e+05  4.49687823e+00  2.27004984e+01]\n",
      " [ 7.72852000e+05  5.39694656e+00  1.56573117e+01]\n",
      " [ 7.91889000e+05  5.59382016e+00  1.49425287e+01]\n",
      " [ 8.25111000e+05  5.50524760e+00  7.47222222e+00]\n",
      " [ 8.55933000e+05  5.37799977e+00  1.13724477e+01]\n",
      " [ 8.38462000e+05  6.80931684e+00  1.51543282e+01]\n",
      " [ 8.31931000e+05  9.64902548e+00  1.18097541e+01]\n",
      " [ 8.48700000e+05  1.07172146e+01  8.11103100e+00]\n",
      " [ 8.84520000e+05  1.14722967e+01  4.93497833e+00]\n",
      " [ 9.04639000e+05  1.17743225e+01  4.25802351e+00]\n",
      " [ 9.42519000e+05  1.13578200e+01  4.92227979e+00]\n",
      " [ 9.72239000e+05  1.13237297e+01  3.32607117e+00]\n",
      " [ 1.02434600e+06  1.04333014e+01  3.20494799e+00]\n",
      " [ 1.08362900e+06  8.57443451e+00  3.75919368e+00]\n",
      " [ 1.11161800e+06  7.22139364e+00  5.23759517e+00]\n",
      " [ 1.11958700e+06  7.09791177e+00  6.97268305e+00]\n",
      " [ 1.10705900e+06  8.81778893e+00  7.53264925e+00]\n",
      " [ 1.11104300e+06  9.94993301e+00  4.26154847e+00]\n",
      " [ 1.13889700e+06  1.03747521e+01  2.50650026e+00]\n",
      " [ 1.18314400e+06  9.49609652e+00  1.97849026e+00]\n",
      " [ 1.21279800e+06  8.62178807e+00  2.65645209e+00]\n",
      " [ 1.24370900e+06  8.09705177e+00  2.40030843e+00]\n",
      " [ 1.28260200e+06  6.97201375e+00  1.82460627e+00]\n",
      " [ 1.32352700e+06  6.25546654e+00  1.55739752e+00]]\n"
     ]
    }
   ],
   "source": [
    "n = df.shape[0]\n",
    "\n",
    "df_1 = np.array(df[1 : n - 1], dtype=float)\n",
    "df_2 = np.array(df[0 : n - 2], dtype=float)\n",
    "\n",
    "print(\"lag 1: \", df_1)\n",
    "print(\"lag 2: \", df_2)"
   ]
  },
  {
   "cell_type": "markdown",
   "metadata": {},
   "source": [
    "**<font color=\"#0078D4\" size=\"5\">\n",
    "    Question 43: Run a regression of GDP on constant, lag 1 unemployment, lag 2 unemployment, lag 1 inflation, lag 2 inflation. What is the number of observations and why? \n",
    "</font>**"
   ]
  },
  {
   "cell_type": "code",
   "execution_count": 172,
   "metadata": {},
   "outputs": [
    {
     "name": "stdout",
     "output_type": "stream",
     "text": [
      "                            OLS Regression Results                            \n",
      "==============================================================================\n",
      "Dep. Variable:                      y   R-squared:                       0.184\n",
      "Model:                            OLS   Adj. R-squared:                  0.149\n",
      "Method:                 Least Squares   F-statistic:                     5.302\n",
      "Date:                Tue, 12 Dec 2023   Prob (F-statistic):           0.000679\n",
      "Time:                        23:43:57   Log-Likelihood:                -1393.3\n",
      "No. Observations:                  99   AIC:                             2797.\n",
      "Df Residuals:                      94   BIC:                             2810.\n",
      "Df Model:                           4                                         \n",
      "Covariance Type:            nonrobust                                         \n",
      "==============================================================================\n",
      "                 coef    std err          t      P>|t|      [0.025      0.975]\n",
      "------------------------------------------------------------------------------\n",
      "const       2.279e+05   7.49e+04      3.040      0.003    7.91e+04    3.77e+05\n",
      "x1         -7161.6755   2.62e+04     -0.273      0.785   -5.92e+04    4.49e+04\n",
      "x2          7013.9974   9370.422      0.749      0.456   -1.16e+04    2.56e+04\n",
      "x3          4.446e+04   2.63e+04      1.688      0.095   -7833.843    9.68e+04\n",
      "x4          1.602e+04   9676.956      1.656      0.101   -3192.086    3.52e+04\n",
      "==============================================================================\n",
      "Omnibus:                        6.008   Durbin-Watson:                   0.048\n",
      "Prob(Omnibus):                  0.050   Jarque-Bera (JB):                5.931\n",
      "Skew:                           0.599   Prob(JB):                       0.0515\n",
      "Kurtosis:                       2.984   Cond. No.                         26.5\n",
      "==============================================================================\n",
      "\n",
      "Notes:\n",
      "[1] Standard Errors assume that the covariance matrix of the errors is correctly specified.\n",
      "\n",
      "Number of observations: 99\n"
     ]
    }
   ],
   "source": [
    "y = np.array(realGDP[2:n].values, dtype=float)\n",
    "un_1 = df_1[:, 1]\n",
    "un_2 = df_1[:, 2]\n",
    "inf_1 = df_2[:, 1]\n",
    "inf_2 = df_2[:, 2]\n",
    "\n",
    "const = np.ones(len(y))\n",
    "X = np.column_stack((const, un_1, un_2, inf_1, inf_2))\n",
    "\n",
    "model = sm.OLS(y, X).fit()\n",
    "print(model.summary())\n",
    "print(\"\\nNumber of observations:\", int(model.nobs))"
   ]
  },
  {
   "cell_type": "markdown",
   "metadata": {},
   "source": [
    "The number of observations is 99, beacause we have to drop the first two observations, since we don't have the lagged values for them."
   ]
  },
  {
   "cell_type": "markdown",
   "metadata": {},
   "source": [
    "**<font color=\"#0078D4\" size=\"5\">\n",
    "    Question 44: State and test the no-Granger causality hypothesis of inflation on GDP at the 10% level.\n",
    "</font>**"
   ]
  },
  {
   "cell_type": "markdown",
   "metadata": {},
   "source": [
    "If we have a model defined as:\n",
    "$$y_t = \\delta{_0} + \\alpha{_1} y_{t-1} + + \\alpha{_2} y_{t-2} + \\gamma{_1} z_{t-1} + \\gamma{_2} z_{t-2}$$\n",
    "\n",
    "Where $y_t$ is the GDP and $z_t$ is the inflation, then the no-Granger causality hypothesis of inflation on GDP is:\n",
    "\n",
    "$$H_0: \\gamma{_1} = \\gamma{_2} = 0$$"
   ]
  },
  {
   "cell_type": "code",
   "execution_count": 173,
   "metadata": {},
   "outputs": [
    {
     "name": "stdout",
     "output_type": "stream",
     "text": [
      "F: 1.9765913064730172\n",
      "p-value: 0.1442571036794863\n",
      "\n",
      "Failed to Reject H0 - inflation does not Granger cause real GDP\n",
      "\n"
     ]
    }
   ],
   "source": [
    "from scipy.stats import f\n",
    "\n",
    "n = len(df)\n",
    "\n",
    "# unrestricted model\n",
    "y = np.array(df[\"realGDP\"][2:n], dtype=float)\n",
    "y_1 = np.array(df[\"realGDP\"][1 : n - 1], dtype=float)\n",
    "y_2 = np.array(df[\"realGDP\"][0 : n - 2], dtype=float)\n",
    "inf_1 = np.array(df[\"inflation\"][1 : n - 1], dtype=float)\n",
    "inf_2 = np.array(df[\"inflation\"][0 : n - 2], dtype=float)\n",
    "const = np.ones(n - 2)\n",
    "X = np.column_stack((const, y_1, y_2, inf_1, inf_2))\n",
    "\n",
    "model = sm.OLS(y, X)\n",
    "results = model.fit()\n",
    "\n",
    "k_ur = X.shape[1]\n",
    "SSR_ur = results.ssr\n",
    "\n",
    "# restricted model\n",
    "X = np.column_stack((const, y_1, y_2))\n",
    "\n",
    "model = sm.OLS(y, X)\n",
    "results = model.fit()\n",
    "\n",
    "k_r = X.shape[1]\n",
    "SSR_r = results.ssr\n",
    "\n",
    "# k_ur - k_r = number of restrictions\n",
    "# n - 2 = number of observations\n",
    "# k_ur = number of parameters in unrestricted model\n",
    "# k_r = number of parameters in restricted model\n",
    "\n",
    "F = ((SSR_r - SSR_ur) / SSR_ur) * ((n - 2 - k_ur) / (k_ur - k_r))\n",
    "\n",
    "p_value = 1 - f.cdf(F, k_ur - k_r, n - 2 - k_ur)\n",
    "print(f\"F: {F}\\np-value: {p_value}\\n\")\n",
    "\n",
    "if p_value < 0.1:\n",
    "    print(\"Reject H0 - inflation Granger causes real GDP\\n\")\n",
    "else:\n",
    "    print(\"Failed to Reject H0 - inflation does not Granger cause real GDP\\n\")"
   ]
  },
  {
   "cell_type": "markdown",
   "metadata": {},
   "source": [
    "To check if the previous way of testing for Granger causality is correct, we also use the statsmodels library to check for Granger causality."
   ]
  },
  {
   "cell_type": "code",
   "execution_count": 174,
   "metadata": {},
   "outputs": [
    {
     "name": "stdout",
     "output_type": "stream",
     "text": [
      "\n",
      "Granger Causality\n",
      "number of lags (no zero) 1\n",
      "ssr based F test:         F=6.1783  , p=0.0146  , df_denom=97, df_num=1\n",
      "ssr based chi2 test:   chi2=6.3694  , p=0.0116  , df=1\n",
      "likelihood ratio test: chi2=6.1747  , p=0.0130  , df=1\n",
      "parameter F test:         F=6.1783  , p=0.0146  , df_denom=97, df_num=1\n",
      "\n",
      "Granger Causality\n",
      "number of lags (no zero) 2\n",
      "ssr based F test:         F=1.9766  , p=0.1443  , df_denom=94, df_num=2\n",
      "ssr based chi2 test:   chi2=4.1635  , p=0.1247  , df=2\n",
      "likelihood ratio test: chi2=4.0783  , p=0.1301  , df=2\n",
      "parameter F test:         F=1.9766  , p=0.1443  , df_denom=94, df_num=2\n",
      "F: 1.9765913064731617\n",
      "p-value: 0.14425710367946593\n",
      "\n"
     ]
    }
   ],
   "source": [
    "from statsmodels.tsa.stattools import grangercausalitytests\n",
    "\n",
    "F, p_value, _, _ = grangercausalitytests(df[[\"realGDP\", \"inflation\"]], maxlag=2)[2][0][\n",
    "    \"ssr_ftest\"\n",
    "]\n",
    "print(f\"F: {F}\\np-value: {p_value}\\n\")"
   ]
  },
  {
   "cell_type": "markdown",
   "metadata": {},
   "source": [
    "As we can see the F-statistic and the p-value are the same as the ones we calculated before."
   ]
  },
  {
   "cell_type": "markdown",
   "metadata": {},
   "source": [
    "**<font color=\"#0078D4\" size=\"5\">\n",
    "    Question 45: Divide the sample in two groups: 1900-1950 and 1951-2000. Test the stability of coefficients between the two periods.\n",
    "</font>**"
   ]
  },
  {
   "cell_type": "markdown",
   "metadata": {},
   "source": [
    "To answer this question we will use the Chow test."
   ]
  },
  {
   "cell_type": "code",
   "execution_count": 175,
   "metadata": {},
   "outputs": [
    {
     "name": "stdout",
     "output_type": "stream",
     "text": [
      "Chow Statistic: 140.46716783543891\n",
      "Critical Value: 2.700409062969801\n",
      "P-value: 1.1102230246251565e-16\n",
      "Reject the null hypothesis. Coefficients are significantly different in the two sub-samples.\n"
     ]
    }
   ],
   "source": [
    "from scipy.stats import f\n",
    "\n",
    "n = len(df)\n",
    "\n",
    "# We devide the sample in two periods\n",
    "realGDP = np.array(df[\"realGDP\"], dtype=float)\n",
    "unemployment = np.array(df[\"unemployment\"], dtype=float)\n",
    "inflation = np.array(df[\"inflation\"], dtype=float)\n",
    "\n",
    "df_p1 = df[0:51].reset_index(drop=True)\n",
    "realGDP_1 = np.array(df_p1[\"realGDP\"], dtype=float)\n",
    "unemployment_1 = np.array(df_p1[\"unemployment\"], dtype=float)\n",
    "inflation_1 = np.array(df_p1[\"inflation\"], dtype=float)\n",
    "\n",
    "df_p2 = df[51:n].reset_index(drop=True)\n",
    "realGDP_2 = np.array(df_p2[\"realGDP\"], dtype=float)\n",
    "unemployment_2 = np.array(df_p2[\"unemployment\"], dtype=float)\n",
    "inflation_2 = np.array(df_p2[\"inflation\"], dtype=float)\n",
    "\n",
    "X = np.column_stack((unemployment, inflation))\n",
    "X = sm.add_constant(X)\n",
    "y = realGDP\n",
    "\n",
    "model_full = sm.OLS(y, X).fit()\n",
    "SSR_full = model_full.ssr\n",
    "k = model_full.df_model + 1\n",
    "\n",
    "X_1 = np.column_stack((unemployment_1, inflation_1))\n",
    "X_1 = sm.add_constant(X_1)\n",
    "y_1 = realGDP_1\n",
    "\n",
    "model_period1 = sm.OLS(y_1, X_1).fit()\n",
    "SSR_period1 = model_period1.ssr\n",
    "n_period1 = model_period1.nobs\n",
    "\n",
    "X_2 = np.column_stack((unemployment_2, inflation_2))\n",
    "X_2 = sm.add_constant(X_2)\n",
    "y_2 = realGDP_2\n",
    "\n",
    "model_period2 = sm.OLS(y_2, X_2).fit()\n",
    "SSR_period2 = model_period2.ssr\n",
    "n_period2 = model_period2.nobs\n",
    "\n",
    "alpha = 0.05\n",
    "\n",
    "# After performing regression on the full sample and the two sub-samples, we can compute the Chow statistic (F-statistic with SSRs)\n",
    "chow_statistic = (\n",
    "    (SSR_full - (SSR_period1 + SSR_period2))\n",
    "    / (SSR_period1 + SSR_period2)\n",
    "    * (n_period1 + n_period2 - 2 * k)\n",
    "    / k\n",
    ")\n",
    "critical_value = f.ppf(1 - alpha, k, n_period1 + n_period2 - 2 * k)\n",
    "p_value = 1 - f.cdf(chow_statistic, k, n_period1 + n_period2 - 2 * k)\n",
    "\n",
    "print(\"Chow Statistic:\", chow_statistic)\n",
    "print(\"Critical Value:\", critical_value)\n",
    "print(\"P-value:\", p_value)\n",
    "\n",
    "if p_value < 0.05:\n",
    "    print(\n",
    "        \"Reject the null hypothesis. Coefficients are significantly different in the two sub-samples.\"\n",
    "    )\n",
    "else:\n",
    "    print(\n",
    "        \"Fail to reject the null hypothesis. Coefficients are not significantly different in the two sub-samples.\"\n",
    "    )"
   ]
  },
  {
   "cell_type": "markdown",
   "metadata": {},
   "source": [
    "**<font color=\"#0078D4\" size=\"5\">\n",
    "    Question 46: Test the structural breakpoint using a trim ratio of 25% at the 10% level.\n",
    "</font>**"
   ]
  },
  {
   "cell_type": "code",
   "execution_count": 176,
   "metadata": {},
   "outputs": [
    {
     "name": "stdout",
     "output_type": "stream",
     "text": [
      "Breakpoint year: 1959\n",
      "Higher Chow statistic: 1757.1965374200697\n",
      "Critical value: 2.816465816565682\n",
      "P-value: 1.1102230246251565e-16\n",
      "\n",
      "Reject the null hypothesis. Coefficients are significantly different in the two sub-samples.\n"
     ]
    }
   ],
   "source": [
    "n = len(df)\n",
    "trim = n * 0.25\n",
    "\n",
    "# We trim the original sample by removing the first and last 25% of the observations\n",
    "df_25 = df[int(trim) : int(n - trim)].reset_index(drop=True)\n",
    "\n",
    "realGDP_25 = np.array(df_25[\"realGDP\"], dtype=float)\n",
    "unemployment_25 = np.array(df_25[\"unemployment\"], dtype=float)\n",
    "inflation_25 = np.array(df_25[\"inflation\"], dtype=float)\n",
    "\n",
    "X = np.column_stack((unemployment, inflation))\n",
    "X = sm.add_constant(X)\n",
    "y = realGDP\n",
    "\n",
    "model_full = sm.OLS(y, X).fit()\n",
    "SSR_full = model_full.ssr\n",
    "k = model_full.df_model + 1\n",
    "\n",
    "best_chow = 0\n",
    "best_t = 0\n",
    "best_crit = 0\n",
    "best_p_value = 0\n",
    "\n",
    "# To answer this question, we perform the Chow test for each possible split of the sample (Quandt likelihood ratio (QLR) test)\n",
    "for t in range(1, len(df_25)):\n",
    "    realGDP_25_period1 = realGDP_25[0:t]\n",
    "    unemployment_25_period1 = unemployment_25[0:t]\n",
    "    inflation_25_period1 = inflation_25[0:t]\n",
    "\n",
    "    realGDP_25_period2 = realGDP_25[t:]\n",
    "    unemployment_25_period2 = unemployment_25[t:]\n",
    "    inflation_25_period2 = inflation_25[t:]\n",
    "\n",
    "    y_1 = realGDP_25_period1\n",
    "    const = np.ones(len(y_1))\n",
    "    X_1 = np.column_stack((const, unemployment_25_period1, inflation_25_period1))\n",
    "\n",
    "    model_period1 = sm.OLS(y_1, X_1).fit()\n",
    "    SSR_period1 = model_period1.ssr\n",
    "    n_period1 = model_period1.nobs\n",
    "\n",
    "    y_2 = realGDP_25_period2\n",
    "    const = np.ones(len(y_2))\n",
    "    X_2 = np.column_stack((const, unemployment_25_period2, inflation_25_period2))\n",
    "\n",
    "    model_period2 = sm.OLS(y_2, X_2).fit()\n",
    "    SSR_period2 = model_period2.ssr\n",
    "    n_period2 = model_period2.nobs\n",
    "\n",
    "    chow_statistic = (\n",
    "        (SSR_full - (SSR_period1 + SSR_period2))\n",
    "        / (SSR_period1 + SSR_period2)\n",
    "        * (n_period1 + n_period2 - 2 * k)\n",
    "        / k\n",
    "    )\n",
    "\n",
    "    if chow_statistic > best_chow:\n",
    "        best_chow = chow_statistic\n",
    "        best_t = t\n",
    "        best_crit = f.ppf(1 - alpha, k, n_period1 + n_period2 - 2 * k)\n",
    "        best_p_value = 1 - f.cdf(chow_statistic, k, n_period1 + n_period2 - 2 * k)\n",
    "\n",
    "print(\"Breakpoint year:\", 1925 + best_t)\n",
    "print(\"Higher Chow statistic:\", best_chow)\n",
    "print(\"Critical value:\", best_crit)\n",
    "print(\"P-value:\", best_p_value)\n",
    "\n",
    "if best_p_value < 0.1:\n",
    "    print(\n",
    "        \"\\nReject the null hypothesis. Coefficients are significantly different in the two sub-samples.\"\n",
    "    )\n",
    "else:\n",
    "    print(\n",
    "        \"\\nFail to reject the null hypothesis. Coefficients are not significantly different in the two sub-samples.\"\n",
    "    )"
   ]
  }
 ],
 "metadata": {
  "kernelspec": {
   "display_name": "Python 3",
   "language": "python",
   "name": "python3"
  },
  "language_info": {
   "codemirror_mode": {
    "name": "ipython",
    "version": 3
   },
   "file_extension": ".py",
   "mimetype": "text/x-python",
   "name": "python",
   "nbconvert_exporter": "python",
   "pygments_lexer": "ipython3",
   "version": "3.10.4"
  }
 },
 "nbformat": 4,
 "nbformat_minor": 2
}
