{
 "cells": [
  {
   "cell_type": "markdown",
   "metadata": {},
   "source": [
    "# Economotrics Project (BGD708)"
   ]
  },
  {
   "cell_type": "markdown",
   "metadata": {},
   "source": [
    "#### Author: \n",
    "Alban Pereira (alban.pereira@telecom-paris.fr)\n",
    "\n",
    "Laurent Gayraud (laurent.gayraud@telecom-paris.fr)"
   ]
  },
  {
   "cell_type": "markdown",
   "metadata": {},
   "source": [
    "## Imports"
   ]
  },
  {
   "cell_type": "code",
   "execution_count": 1,
   "metadata": {},
   "outputs": [],
   "source": [
    "import pandas as pd\n",
    "import numpy as np\n",
    "import seaborn as sns\n",
    "import matplotlib.pyplot as plt\n",
    "import statsmodels.api as sm"
   ]
  },
  {
   "cell_type": "markdown",
   "metadata": {},
   "source": [
    "## <span style=\"color:red\"> PARTIE 1 - CROSS-SECTION DATA</span>\n",
    "Cette partie utilise le jeu de données HPRICE2.RAW décrit dans HPRICE2.DES."
   ]
  },
  {
   "cell_type": "markdown",
   "metadata": {},
   "source": [
    "#### <span style=\"color:green\"> Introduction, imports.</span>"
   ]
  },
  {
   "cell_type": "code",
   "execution_count": 2,
   "metadata": {},
   "outputs": [
    {
     "data": {
      "text/html": [
       "<div>\n",
       "<style scoped>\n",
       "    .dataframe tbody tr th:only-of-type {\n",
       "        vertical-align: middle;\n",
       "    }\n",
       "\n",
       "    .dataframe tbody tr th {\n",
       "        vertical-align: top;\n",
       "    }\n",
       "\n",
       "    .dataframe thead th {\n",
       "        text-align: right;\n",
       "    }\n",
       "</style>\n",
       "<table border=\"1\" class=\"dataframe\">\n",
       "  <thead>\n",
       "    <tr style=\"text-align: right;\">\n",
       "      <th></th>\n",
       "      <th>price</th>\n",
       "      <th>crime</th>\n",
       "      <th>nox</th>\n",
       "      <th>rooms</th>\n",
       "      <th>dist</th>\n",
       "      <th>radial</th>\n",
       "      <th>proptax</th>\n",
       "      <th>stratio</th>\n",
       "      <th>lowstat</th>\n",
       "      <th>lprice</th>\n",
       "      <th>lnox</th>\n",
       "      <th>lproptax</th>\n",
       "    </tr>\n",
       "  </thead>\n",
       "  <tbody>\n",
       "    <tr>\n",
       "      <th>0</th>\n",
       "      <td>24000</td>\n",
       "      <td>0.006</td>\n",
       "      <td>5.38</td>\n",
       "      <td>6.57</td>\n",
       "      <td>4.09</td>\n",
       "      <td>1</td>\n",
       "      <td>29.6</td>\n",
       "      <td>15.3</td>\n",
       "      <td>4.98</td>\n",
       "      <td>10.085810</td>\n",
       "      <td>1.682688</td>\n",
       "      <td>5.690360</td>\n",
       "    </tr>\n",
       "    <tr>\n",
       "      <th>1</th>\n",
       "      <td>21599</td>\n",
       "      <td>0.027</td>\n",
       "      <td>4.69</td>\n",
       "      <td>6.42</td>\n",
       "      <td>4.97</td>\n",
       "      <td>2</td>\n",
       "      <td>24.2</td>\n",
       "      <td>17.8</td>\n",
       "      <td>9.14</td>\n",
       "      <td>9.980402</td>\n",
       "      <td>1.545433</td>\n",
       "      <td>5.488938</td>\n",
       "    </tr>\n",
       "    <tr>\n",
       "      <th>2</th>\n",
       "      <td>34700</td>\n",
       "      <td>0.027</td>\n",
       "      <td>4.69</td>\n",
       "      <td>7.18</td>\n",
       "      <td>4.97</td>\n",
       "      <td>2</td>\n",
       "      <td>24.2</td>\n",
       "      <td>17.8</td>\n",
       "      <td>4.03</td>\n",
       "      <td>10.454500</td>\n",
       "      <td>1.545433</td>\n",
       "      <td>5.488938</td>\n",
       "    </tr>\n",
       "    <tr>\n",
       "      <th>3</th>\n",
       "      <td>33400</td>\n",
       "      <td>0.032</td>\n",
       "      <td>4.58</td>\n",
       "      <td>7.00</td>\n",
       "      <td>6.06</td>\n",
       "      <td>3</td>\n",
       "      <td>22.2</td>\n",
       "      <td>18.7</td>\n",
       "      <td>2.94</td>\n",
       "      <td>10.416310</td>\n",
       "      <td>1.521699</td>\n",
       "      <td>5.402678</td>\n",
       "    </tr>\n",
       "    <tr>\n",
       "      <th>4</th>\n",
       "      <td>36199</td>\n",
       "      <td>0.069</td>\n",
       "      <td>4.58</td>\n",
       "      <td>7.15</td>\n",
       "      <td>6.06</td>\n",
       "      <td>3</td>\n",
       "      <td>22.2</td>\n",
       "      <td>18.7</td>\n",
       "      <td>5.33</td>\n",
       "      <td>10.496790</td>\n",
       "      <td>1.521699</td>\n",
       "      <td>5.402678</td>\n",
       "    </tr>\n",
       "  </tbody>\n",
       "</table>\n",
       "</div>"
      ],
      "text/plain": [
       "   price  crime   nox  rooms  dist  radial  proptax  stratio  lowstat  \\\n",
       "0  24000  0.006  5.38   6.57  4.09       1     29.6     15.3     4.98   \n",
       "1  21599  0.027  4.69   6.42  4.97       2     24.2     17.8     9.14   \n",
       "2  34700  0.027  4.69   7.18  4.97       2     24.2     17.8     4.03   \n",
       "3  33400  0.032  4.58   7.00  6.06       3     22.2     18.7     2.94   \n",
       "4  36199  0.069  4.58   7.15  6.06       3     22.2     18.7     5.33   \n",
       "\n",
       "      lprice      lnox  lproptax  \n",
       "0  10.085810  1.682688  5.690360  \n",
       "1   9.980402  1.545433  5.488938  \n",
       "2  10.454500  1.545433  5.488938  \n",
       "3  10.416310  1.521699  5.402678  \n",
       "4  10.496790  1.521699  5.402678  "
      ]
     },
     "execution_count": 2,
     "metadata": {},
     "output_type": "execute_result"
    }
   ],
   "source": [
    "# Importation des données\n",
    "df = pd.read_csv('data/HPRICE2.raw', delim_whitespace=True, header=None)\n",
    "\n",
    "# Insertion des noms de colonnes\n",
    "columns = [\n",
    "    \"price\", \"crime\", \"nox\", \"rooms\", \"dist\", \"radial\", \"proptax\", \"stratio\",\n",
    "    \"lowstat\", \"lprice\", \"lnox\", \"lproptax\"\n",
    "]\n",
    "df.columns = columns\n",
    "\n",
    "df.head()"
   ]
  },
  {
   "cell_type": "code",
   "execution_count": 3,
   "metadata": {},
   "outputs": [
    {
     "data": {
      "text/plain": [
       "(506, 12)"
      ]
     },
     "execution_count": 3,
     "metadata": {},
     "output_type": "execute_result"
    }
   ],
   "source": [
    "df.shape"
   ]
  },
  {
   "cell_type": "markdown",
   "metadata": {},
   "source": [
    "Le fichier HPRICE2.DES décrit un ensemble de données contenant 506 observations avec les variables suivantes :\n",
    "1. price : prix médian des logements, en dollars\n",
    "2. crime : crimes commis par habitant\n",
    "3. nox : oxyde nitreux, parties pour 100 millions\n",
    "4. rooms : nombre moyen de chambres par maison\n",
    "5. dist : distance pondérée jusqu'à 5 centres d'emploi\n",
    "6. radial : indice d'accessibilité aux autoroutes radiales\n",
    "7. proptax : taxe foncière par 1000 dollars\n",
    "8. stratio : ratio moyen élève-enseignant\n",
    "9. lowstat : % de personnes de 'statut inférieur'\n",
    "10. lprice : logarithme du prix\n",
    "11. lnox : logarithme de nox\n",
    "12. lproptax : logarithme de la taxe foncière"
   ]
  },
  {
   "cell_type": "markdown",
   "metadata": {},
   "source": [
    "#### <span style=\"color:green\"> Q1. State the fundamental hypothesis under which the Ordinary Least Squares (OLS) estimators are unbiased.</span>"
   ]
  },
  {
   "cell_type": "markdown",
   "metadata": {},
   "source": [
    "L'hypothèse fondamentale sous laquelle les estimateurs des moindres carrés ordinaires (OLS) sont non biaisés est que **la variable non observée a une moyenne nulle** , **la moyenne conditionnelle est égale à la moyenne inconditionnelle**, et qu'**il n'y a pas de corrélation entre les variables explicatives X et le terme d'erreur u**.  \n",
    "  \n",
    "Nous avons donc $E(u∣X) = E(u)= 0$.  \n",
    "  \n",
    "En d'autres termes, ce que l'on observe est indépendant de ce que l'on n'observe pas."
   ]
  },
  {
   "cell_type": "markdown",
   "metadata": {},
   "source": [
    "#### <span style=\"color:green\"> Q2. Show that under this assumption the OLS estimators are indeed unbiased.</span>"
   ]
  },
  {
   "cell_type": "markdown",
   "metadata": {},
   "source": [
    "Sous l'hypothèse que $E(u|X) = 0$, où $u$ est le terme d'erreur et $X$ représente les variables indépendantes, les estimateurs des moindres carrés ordinaires (OLS) $\\hat{\\beta}$ sont non biaisés. Cela est montré comme suit :\n",
    "\n",
    "Étant donné un modèle linéaire $Y = X\\beta + u$,\n",
    "\n",
    "1. L'estimateur OLS $\\hat{\\beta}$ est donné par $\\hat{\\beta} = (X'X)^{-1}X'Y$  \n",
    "Sous réserve que le produit $(X'X)$ soit inversible ce qui ce traduit par une absence de colinéarité parfaite entre X' et X ce qui est une hypothèse de notre modèle.   \n",
    "L'inversibilité implique également que le nombre d'observations doit être suffisant pour fournir une variation suffisante dans les données, ce qui aide à éviter une situation où X pourrait être singulière. Etant donnée la forme des données (12 colonnes pour plus de 500 lignes), cette hypothèse est aussi vérifiée.\n",
    "  \n",
    "2. En substituant $Y = X\\beta + u$ dans l'équation de l'estimateur, on obtient $\\hat{\\beta} = (X'X)^{-1}X'(X\\beta + u)$.\n",
    "3. En simplifiant $( (X'X)^{-1}(X'X) = I )$, on obtient : $\\hat{\\beta} = \\beta + (X'X)^{-1}X'u$.\n",
    "\n",
    "En prenant l'espérance :\n",
    "\n",
    "4. $E(\\hat{\\beta}) = E(\\beta + (X'X)^{-1}X'u) = \\beta + (X'X)^{-1}X'E(u)$.\n",
    "\n",
    "D'après l'hypothèse fondamentale $E(u|X) = E(u) = 0$, donc :\n",
    "\n",
    "5. $E(\\hat{\\beta}) = \\beta$.\n",
    "\n",
    "Par conséquent, sous l'hypothèse fondamentale, les estimateurs OLS $\\hat{\\beta}$ sont non biaisés, ce qui signifie que $E(\\hat{\\beta}) = \\beta$.\n"
   ]
  },
  {
   "cell_type": "markdown",
   "metadata": {},
   "source": [
    "#### <span style=\"color:green\"> Q3. Explain the sample selection bias with an example from the course.</span>"
   ]
  },
  {
   "cell_type": "markdown",
   "metadata": {},
   "source": [
    "Le biais de sélection d'échantillon se produit lorsque **l'échantillon ne représente pas précisément la population, conduisant à des estimations biaisées**.\n",
    "\n",
    "Un exemple tiré du cours est l'étude de l'effet de l'engrais sur le rendement des cultures. Si davantage d'engrais est systématiquement appliqué à des terres intrinsèquement plus fertiles, l'analyse peut attribuer à tort le rendement supérieur à l'engrais, en négligeant la fertilité intrinsèque de la terre. Cela se produit parce que la sélection des parcelles pour la fertilisation est influencée par un facteur non observé (la fertilité de la terre) qui affecte également le résultat (le rendement), provoquant une surestimation de l'effet de l'engrais.  \n",
    "  \n",
    "Corriger ce biais nécessite des techniques pour tenir compte de telles variables non observées."
   ]
  },
  {
   "cell_type": "markdown",
   "metadata": {},
   "source": [
    "#### <span style=\"color:green\"> Q4. Explain the omitted variable bias with an example from the course.</span>"
   ]
  },
  {
   "cell_type": "markdown",
   "metadata": {},
   "source": [
    "Le biais de variable omise se produit lorsqu'**une variable pertinente est exclue d'un modèle, causant des estimations biaisées des effets d'autres variables**.\n",
    "  \n",
    "Un exemple du cours relatif à l'effet de l'éducation sur les salaires pourrait bien illustrer ce concept. Si nous examinons comment l'éducation affecte les salaires sans tenir compte de l'expérience professionnelle, nous pourrions surestimer l'impact de l'éducation. Cela est dû au fait que l'éducation et l'expérience professionnelle influencent toutes deux les salaires, mais omettre l'expérience professionnelle signifie qu'une partie de l'effet observé de l'éducation sur les salaires peut en réalité être due à l'expérience professionnelle, qui est corrélée avec l'éducation."
   ]
  },
  {
   "cell_type": "markdown",
   "metadata": {},
   "source": [
    "#### <span style=\"color:green\"> Q5. Explain the problem of multicollinearity. Is it a problem in this dataset?</span>"
   ]
  },
  {
   "cell_type": "markdown",
   "metadata": {},
   "source": [
    "La multicollinéarité dans un modèle de régression survient lorsque plusieurs variables explicatives sont linéairement dépendantes, ou presque.  \n",
    "Cette interdépendance peut entraîner une matrice  singulière ou presque singulière, dont le déterminant est proche de zéro. Or l'inversibilité de $(X'X)$ est cruciale car l'estimateur des moindres carrés est défini en dépend. Sans inverse, nous ne pouvons pas calculer cet estimateur avec précision.\n",
    "\n",
    "Pour pallier la multicollinéarité, on peut augmenter le nombre d'observations pour renforcer la robustesse de la matrice ou diminuer le nombre de variables explicatives en les retirant."
   ]
  },
  {
   "cell_type": "code",
   "execution_count": 4,
   "metadata": {},
   "outputs": [
    {
     "data": {
      "text/html": [
       "<div>\n",
       "<style scoped>\n",
       "    .dataframe tbody tr th:only-of-type {\n",
       "        vertical-align: middle;\n",
       "    }\n",
       "\n",
       "    .dataframe tbody tr th {\n",
       "        vertical-align: top;\n",
       "    }\n",
       "\n",
       "    .dataframe thead th {\n",
       "        text-align: right;\n",
       "    }\n",
       "</style>\n",
       "<table border=\"1\" class=\"dataframe\">\n",
       "  <thead>\n",
       "    <tr style=\"text-align: right;\">\n",
       "      <th></th>\n",
       "      <th>crime</th>\n",
       "      <th>nox</th>\n",
       "      <th>rooms</th>\n",
       "      <th>dist</th>\n",
       "      <th>radial</th>\n",
       "      <th>proptax</th>\n",
       "      <th>stratio</th>\n",
       "      <th>lowstat</th>\n",
       "      <th>lnox</th>\n",
       "      <th>lproptax</th>\n",
       "    </tr>\n",
       "  </thead>\n",
       "  <tbody>\n",
       "    <tr>\n",
       "      <th>crime</th>\n",
       "      <td>1.000000</td>\n",
       "      <td>0.421152</td>\n",
       "      <td>-0.218816</td>\n",
       "      <td>-0.379909</td>\n",
       "      <td>0.625442</td>\n",
       "      <td>0.582819</td>\n",
       "      <td>0.288691</td>\n",
       "      <td>0.447033</td>\n",
       "      <td>0.429639</td>\n",
       "      <td>0.551393</td>\n",
       "    </tr>\n",
       "    <tr>\n",
       "      <th>nox</th>\n",
       "      <td>0.421152</td>\n",
       "      <td>1.000000</td>\n",
       "      <td>-0.302828</td>\n",
       "      <td>-0.770222</td>\n",
       "      <td>0.610328</td>\n",
       "      <td>0.666981</td>\n",
       "      <td>0.186863</td>\n",
       "      <td>0.585613</td>\n",
       "      <td>0.993943</td>\n",
       "      <td>0.659206</td>\n",
       "    </tr>\n",
       "    <tr>\n",
       "      <th>rooms</th>\n",
       "      <td>-0.218816</td>\n",
       "      <td>-0.302828</td>\n",
       "      <td>1.000000</td>\n",
       "      <td>0.205410</td>\n",
       "      <td>-0.209773</td>\n",
       "      <td>-0.292120</td>\n",
       "      <td>-0.354008</td>\n",
       "      <td>-0.609605</td>\n",
       "      <td>-0.304988</td>\n",
       "      <td>-0.299269</td>\n",
       "    </tr>\n",
       "    <tr>\n",
       "      <th>dist</th>\n",
       "      <td>-0.379909</td>\n",
       "      <td>-0.770222</td>\n",
       "      <td>0.205410</td>\n",
       "      <td>1.000000</td>\n",
       "      <td>-0.495065</td>\n",
       "      <td>-0.534379</td>\n",
       "      <td>-0.229269</td>\n",
       "      <td>-0.495602</td>\n",
       "      <td>-0.808795</td>\n",
       "      <td>-0.513897</td>\n",
       "    </tr>\n",
       "    <tr>\n",
       "      <th>radial</th>\n",
       "      <td>0.625442</td>\n",
       "      <td>0.610328</td>\n",
       "      <td>-0.209773</td>\n",
       "      <td>-0.495065</td>\n",
       "      <td>1.000000</td>\n",
       "      <td>0.910228</td>\n",
       "      <td>0.464244</td>\n",
       "      <td>0.476038</td>\n",
       "      <td>0.624171</td>\n",
       "      <td>0.863531</td>\n",
       "    </tr>\n",
       "    <tr>\n",
       "      <th>proptax</th>\n",
       "      <td>0.582819</td>\n",
       "      <td>0.666981</td>\n",
       "      <td>-0.292120</td>\n",
       "      <td>-0.534379</td>\n",
       "      <td>0.910228</td>\n",
       "      <td>1.000000</td>\n",
       "      <td>0.454238</td>\n",
       "      <td>0.527624</td>\n",
       "      <td>0.677314</td>\n",
       "      <td>0.988586</td>\n",
       "    </tr>\n",
       "    <tr>\n",
       "      <th>stratio</th>\n",
       "      <td>0.288691</td>\n",
       "      <td>0.186863</td>\n",
       "      <td>-0.354008</td>\n",
       "      <td>-0.229269</td>\n",
       "      <td>0.464244</td>\n",
       "      <td>0.454238</td>\n",
       "      <td>1.000000</td>\n",
       "      <td>0.365402</td>\n",
       "      <td>0.227910</td>\n",
       "      <td>0.422231</td>\n",
       "    </tr>\n",
       "    <tr>\n",
       "      <th>lowstat</th>\n",
       "      <td>0.447033</td>\n",
       "      <td>0.585613</td>\n",
       "      <td>-0.609605</td>\n",
       "      <td>-0.495602</td>\n",
       "      <td>0.476038</td>\n",
       "      <td>0.527624</td>\n",
       "      <td>0.365402</td>\n",
       "      <td>1.000000</td>\n",
       "      <td>0.596220</td>\n",
       "      <td>0.510948</td>\n",
       "    </tr>\n",
       "    <tr>\n",
       "      <th>lnox</th>\n",
       "      <td>0.429639</td>\n",
       "      <td>0.993943</td>\n",
       "      <td>-0.304988</td>\n",
       "      <td>-0.808795</td>\n",
       "      <td>0.624171</td>\n",
       "      <td>0.677314</td>\n",
       "      <td>0.227910</td>\n",
       "      <td>0.596220</td>\n",
       "      <td>1.000000</td>\n",
       "      <td>0.667252</td>\n",
       "    </tr>\n",
       "    <tr>\n",
       "      <th>lproptax</th>\n",
       "      <td>0.551393</td>\n",
       "      <td>0.659206</td>\n",
       "      <td>-0.299269</td>\n",
       "      <td>-0.513897</td>\n",
       "      <td>0.863531</td>\n",
       "      <td>0.988586</td>\n",
       "      <td>0.422231</td>\n",
       "      <td>0.510948</td>\n",
       "      <td>0.667252</td>\n",
       "      <td>1.000000</td>\n",
       "    </tr>\n",
       "  </tbody>\n",
       "</table>\n",
       "</div>"
      ],
      "text/plain": [
       "             crime       nox     rooms      dist    radial   proptax  \\\n",
       "crime     1.000000  0.421152 -0.218816 -0.379909  0.625442  0.582819   \n",
       "nox       0.421152  1.000000 -0.302828 -0.770222  0.610328  0.666981   \n",
       "rooms    -0.218816 -0.302828  1.000000  0.205410 -0.209773 -0.292120   \n",
       "dist     -0.379909 -0.770222  0.205410  1.000000 -0.495065 -0.534379   \n",
       "radial    0.625442  0.610328 -0.209773 -0.495065  1.000000  0.910228   \n",
       "proptax   0.582819  0.666981 -0.292120 -0.534379  0.910228  1.000000   \n",
       "stratio   0.288691  0.186863 -0.354008 -0.229269  0.464244  0.454238   \n",
       "lowstat   0.447033  0.585613 -0.609605 -0.495602  0.476038  0.527624   \n",
       "lnox      0.429639  0.993943 -0.304988 -0.808795  0.624171  0.677314   \n",
       "lproptax  0.551393  0.659206 -0.299269 -0.513897  0.863531  0.988586   \n",
       "\n",
       "           stratio   lowstat      lnox  lproptax  \n",
       "crime     0.288691  0.447033  0.429639  0.551393  \n",
       "nox       0.186863  0.585613  0.993943  0.659206  \n",
       "rooms    -0.354008 -0.609605 -0.304988 -0.299269  \n",
       "dist     -0.229269 -0.495602 -0.808795 -0.513897  \n",
       "radial    0.464244  0.476038  0.624171  0.863531  \n",
       "proptax   0.454238  0.527624  0.677314  0.988586  \n",
       "stratio   1.000000  0.365402  0.227910  0.422231  \n",
       "lowstat   0.365402  1.000000  0.596220  0.510948  \n",
       "lnox      0.227910  0.596220  1.000000  0.667252  \n",
       "lproptax  0.422231  0.510948  0.667252  1.000000  "
      ]
     },
     "execution_count": 4,
     "metadata": {},
     "output_type": "execute_result"
    }
   ],
   "source": [
    "# Calcul de la matrice de corrélation\n",
    "correlation_matrix = df.drop(['price', 'lprice'], axis=1).corr()\n",
    "correlation_matrix"
   ]
  },
  {
   "cell_type": "code",
   "execution_count": 5,
   "metadata": {},
   "outputs": [
    {
     "data": {
      "image/png": "[encoded data removed]",
      "text/plain": [
       "<Figure size 1000x800 with 2 Axes>"
      ]
     },
     "metadata": {},
     "output_type": "display_data"
    }
   ],
   "source": [
    "# Plot heatmap of the correlation matrix\n",
    "plt.figure(figsize=(10, 8))\n",
    "sns.heatmap(correlation_matrix, annot=True, cmap='coolwarm', center=0)\n",
    "plt.title('Matrice de corrélation des variables explicatives')\n",
    "plt.show()"
   ]
  },
  {
   "cell_type": "markdown",
   "metadata": {},
   "source": [
    "La matrice de corrélation et la carte thermique révèlent plusieurs paires de variables explicatives avec des coefficients de corrélation élevés, indiquant des problèmes potentiels de multicollinéarité dans l'ensemble de données. Par exemple :\n",
    "\n",
    "- _nox_ et _lnox_ présentent une corrélation très élevée proche de 1, ce qui est attendu puisque _lnox_ est le logarithme de _nox_.\n",
    "- _proptax_ et _lproptax_ affichent également une corrélation très élevée pour la même raison.\n",
    "- _radial_ et _proptax_ ont un coefficient de corrélation de 0,91, suggérant une forte relation linéaire.\n",
    "- _dist_ et _nox_ ont une corrélation négative de -0,77, indiquant qu'à mesure que la distance par rapport aux centres d'emploi augmente, la concentration d'oxydes d'azote diminue.\n",
    "  \n",
    "En résumé, nous sommes ici bien affectés par le problème de colinéarité."
   ]
  },
  {
   "cell_type": "markdown",
   "metadata": {},
   "source": [
    "#### <span style=\"color:green\"> Q6. Create three categories of nox levels (low, medium, high), corresponding to the following percentiles: 0-25%, 26%-74%, 75%-100%</span>"
   ]
  },
  {
   "cell_type": "code",
   "execution_count": 6,
   "metadata": {},
   "outputs": [
    {
     "data": {
      "text/plain": [
       "nox_category\n",
       "medium    254\n",
       "low       128\n",
       "high      124\n",
       "Name: count, dtype: int64"
      ]
     },
     "execution_count": 6,
     "metadata": {},
     "output_type": "execute_result"
    }
   ],
   "source": [
    "# Calcul des percentiles 25 et 75 (calcul manuel pour éviter les approximations de pandas)\n",
    "nox_sorted = df['nox'].sort_values()\n",
    "n = len(nox_sorted)\n",
    "index_25th = int(n * 0.25)\n",
    "index_75th = int(n * 0.75)\n",
    "\n",
    "# Obtention des valeurs correspondantes\n",
    "value_25th = nox_sorted.iloc[index_25th]\n",
    "value_75th = nox_sorted.iloc[index_75th]\n",
    "\n",
    "# Création des catégories et comptage\n",
    "df['nox_category'] = pd.cut(df['nox'], bins=[nox_sorted.min(), value_25th, value_75th, nox_sorted.max()], labels=['low', 'medium', 'high'], include_lowest=True)\n",
    "df['nox_category'].value_counts()"
   ]
  },
  {
   "cell_type": "markdown",
   "metadata": {},
   "source": [
    "#### <span style=\"color:green\"> Q7. Compute for each category of <i>nox</i> level the average median price and comment on your results.</span>"
   ]
  },
  {
   "cell_type": "code",
   "execution_count": 7,
   "metadata": {},
   "outputs": [
    {
     "data": {
      "text/plain": [
       "nox_category\n",
       "low       24349.0\n",
       "medium    21150.0\n",
       "high      14250.0\n",
       "Name: price, dtype: float64"
      ]
     },
     "execution_count": 7,
     "metadata": {},
     "output_type": "execute_result"
    }
   ],
   "source": [
    "# Compute for each category of nox level the average median price and comment on your results\n",
    "df.groupby('nox_category')['price'].median()"
   ]
  },
  {
   "cell_type": "markdown",
   "metadata": {},
   "source": [
    " $\\underline{Commentaire}$ :  \n",
    " Ces résultats indiquent une relation négative claire entre les niveaux d'oxyde d'azote (_nox_) et le prix médian moyen des logements (_price_). Lorsque le niveau de _nox_ passe de bas à élevé, le prix médian moyen diminue de manière significative. Cela suggère que des niveaux plus élevés de pollution (comme indiqué par des niveaux plus élevés de _nox_) sont associés à des prix de logement plus bas (_prices_), ce qui pourrait être dû à une moindre attractivité des zones plus polluées."
   ]
  },
  {
   "cell_type": "markdown",
   "metadata": {},
   "source": [
    "#### <span style=\"color:green\"> Q8. Produce a scatter plot with the variable <i>price</i> on the y-axis and the variable <i>nox</i> on the x-axis. Is this a ceteris paribus effect?</span>"
   ]
  },
  {
   "cell_type": "code",
   "execution_count": 8,
   "metadata": {},
   "outputs": [
    {
     "data": {
      "image/png": "[encoded data removed]",
      "text/plain": [
       "<Figure size 1000x600 with 1 Axes>"
      ]
     },
     "metadata": {},
     "output_type": "display_data"
    }
   ],
   "source": [
    "# Plotting the scatter plot of 'nox' vs 'price'\n",
    "plt.figure(figsize=(10, 6))\n",
    "plt.scatter(df['nox'], df['price'])\n",
    "plt.title('Scatter plot du prix des maisons en fonction du niveau de NOx')\n",
    "plt.xlabel('Niveau de NOx (ppm)')\n",
    "plt.ylabel('Prix des maisons ($)')\n",
    "plt.grid(True)\n",
    "plt.show()"
   ]
  },
  {
   "cell_type": "markdown",
   "metadata": {},
   "source": [
    "$\\underline{Commentaire}$ :  \n",
    "Non, ce nuage de points ne représente pas un effet ceteris paribus.\n",
    "\n",
    "Dans une analyse ceteris paribus, nous examinons l'effet de la modification d'une variable tout en gardant toutes les autres constantes. Cependant, dans un nuage de points comme celui créé ici, chaque point de données représente une observation unique où plusieurs variables, y compris _nox_ et _price_, peuvent varier simultanément.\n",
    "\n",
    "Par conséquent, sans contrôler les autres variables, nous ne pouvons pas isoler l'effet de _nox_ sur _price_ tout en maintenant toutes les autres variables constantes.\n",
    "\n",
    "Pour effectuer une analyse ceteris paribus, nous utiliserions généralement des techniques telles que l'analyse de régression, où nous pouvons contrôler les effets d'autres variables tout en examinant la relation entre _nox_ et _price_.\n"
   ]
  },
  {
   "cell_type": "markdown",
   "metadata": {},
   "source": [
    "#### <span style=\"color:green\"> Q9. Run a regression of <i>price</i> on a <i>constant</i>, <i>crime</i>, <i>nox</i>, <i>rooms</i>, <i>proptax</i>. Comment on the histogram of the residuals. Interpret all coefficients.</span>"
   ]
  },
  {
   "cell_type": "code",
   "execution_count": 9,
   "metadata": {},
   "outputs": [
    {
     "name": "stdout",
     "output_type": "stream",
     "text": [
      "                            OLS Regression Results                            \n",
      "==============================================================================\n",
      "Dep. Variable:                  price   R-squared:                       0.575\n",
      "Model:                            OLS   Adj. R-squared:                  0.572\n",
      "Method:                 Least Squares   F-statistic:                     169.6\n",
      "Date:                Mon, 08 Apr 2024   Prob (F-statistic):           1.06e-91\n",
      "Time:                        09:40:01   Log-Likelihood:                -5119.6\n",
      "No. Observations:                 506   AIC:                         1.025e+04\n",
      "Df Residuals:                     501   BIC:                         1.027e+04\n",
      "Df Model:                           4                                         \n",
      "Covariance Type:            nonrobust                                         \n",
      "==============================================================================\n",
      "                 coef    std err          t      P>|t|      [0.025      0.975]\n",
      "------------------------------------------------------------------------------\n",
      "const      -1.868e+04   3215.205     -5.811      0.000    -2.5e+04   -1.24e+04\n",
      "crime       -136.5438     38.529     -3.544      0.000    -212.241     -60.846\n",
      "nox         -660.4672    314.634     -2.099      0.036   -1278.632     -42.303\n",
      "rooms       7797.9286    404.345     19.285      0.000    7003.507    8592.350\n",
      "proptax      -89.4144     23.966     -3.731      0.000    -136.500     -42.329\n",
      "==============================================================================\n",
      "Omnibus:                      264.796   Durbin-Watson:                   0.752\n",
      "Prob(Omnibus):                  0.000   Jarque-Bera (JB):             2348.397\n",
      "Skew:                           2.111   Prob(JB):                         0.00\n",
      "Kurtosis:                      12.673   Cond. No.                         546.\n",
      "==============================================================================\n",
      "\n",
      "Notes:\n",
      "[1] Standard Errors assume that the covariance matrix of the errors is correctly specified.\n"
     ]
    },
    {
     "data": {
      "image/png": "[encoded data removed]",
      "text/plain": [
       "<Figure size 1000x600 with 1 Axes>"
      ]
     },
     "metadata": {},
     "output_type": "display_data"
    },
    {
     "name": "stdout",
     "output_type": "stream",
     "text": [
      "Kurtosis des résidus: 9.781215764345696\n"
     ]
    }
   ],
   "source": [
    "# Régression linéaire du prix en fonction d'une constante, de crime, nox, rooms et proptax\n",
    "\n",
    "# Définition des variables explicatives et de la variable à expliquer\n",
    "X = df[['crime', 'nox', 'rooms', 'proptax']]\n",
    "X = sm.add_constant(X)\n",
    "y = df['price']\n",
    "\n",
    "# Régression linéaire\n",
    "model_Q9 = sm.OLS(y, X).fit()\n",
    "\n",
    "# Affichage des résultats\n",
    "print(model_Q9.summary())\n",
    "\n",
    "# Histogramme des résidus\n",
    "plt.figure(figsize=(10, 6))\n",
    "plt.hist(model_Q9.resid, bins=30, edgecolor='black')\n",
    "plt.title('Histogramme des résidus de la régression linéaire')\n",
    "plt.xlabel('Résidus')\n",
    "plt.ylabel('Fréquence')\n",
    "plt.grid(True)\n",
    "\n",
    "# Ajout de la moyenne\n",
    "mean_residual = np.mean(model_Q9.resid)\n",
    "plt.axvline(mean_residual, color='red', linestyle='dashed', linewidth=1)\n",
    "\n",
    "plt.show()\n",
    "\n",
    "# Calcul du kurtosis des résidus\n",
    "kurtosis = model_Q9.resid.kurtosis()\n",
    "print(f'Kurtosis des résidus: {kurtosis}')"
   ]
  },
  {
   "cell_type": "markdown",
   "metadata": {},
   "source": [
    " $\\underline{Commentaire-histogramme}$ : La distribution n'est clairement pas normale avec énormément de valeurs élevées (queue vers la droite du graphique appelée aussi \"Right-skewed\") ce qui est bien mis en valeur par la valeur moyenne (pointillés rouge) n'étant pas centrée et de manière plus rigoureuse par le kurtosis positif des résidus (égal à 0 pour une loi normale).  \n",
    "   \n",
    " $\\underline{Commentaire-coefficients}$ :\n",
    "- Le coefficient de _crime_ est négatif, ce qui suggère qu'une augmentation du taux de criminalité est associée à une baisse du prix des logements.\n",
    "- Le coefficient de _nox_ est négatif, indiquant qu'une concentration plus élevée d'oxyde d'azote est liée à des prix plus bas.\n",
    "- **Le coefficient de _rooms_ est positif et est le plus élevé en valeur absolue, indiquant que le nombre de chambres a une influence majeure sur le prix des logements.**\n",
    "- Le coefficient de _proptax_ est négatif, montrant qu'une taxe foncière plus élevée est associée à des prix de logement inférieurs.\n",
    "- La constante négative suggère que des prédictions de prix négatifs sont possibles si le modèle est appliqué hors de la portée des données observées, par exemple dans un quartier étudiant (avec une moyenne de chambre proche de 1.  \n",
    "\n",
    " $\\underline{Commentaire-modèle}$ : **Modèle linéaire \\(y = ax + b\\)** : \n",
    "  Dans ce modèle, augmenter \\(x\\) d'une unité entraîne une augmentation de \\(y\\) de \\(a\\) unités. L'effet est constant, signifiant que pour chaque augmentation unitaire de \\(x\\), \\(y\\) augmentera toujours de \\(a\\).\n"
   ]
  },
  {
   "cell_type": "markdown",
   "metadata": {},
   "source": [
    "#### <span style=\"color:green\"> Q10. Run a regression of <i>lprice</i> on a <i>constant</i>, <i>crime</i>, <i>nox</i>, <i>rooms</i>, <i>proptax</i>. Interpret all coefficients.</span>"
   ]
  },
  {
   "cell_type": "code",
   "execution_count": 10,
   "metadata": {},
   "outputs": [
    {
     "name": "stdout",
     "output_type": "stream",
     "text": [
      "                            OLS Regression Results                            \n",
      "==============================================================================\n",
      "Dep. Variable:                 lprice   R-squared:                       0.611\n",
      "Model:                            OLS   Adj. R-squared:                  0.608\n",
      "Method:                 Least Squares   F-statistic:                     196.9\n",
      "Date:                Mon, 08 Apr 2024   Prob (F-statistic):          2.50e-101\n",
      "Time:                        09:40:01   Log-Likelihood:                -26.367\n",
      "No. Observations:                 506   AIC:                             62.73\n",
      "Df Residuals:                     501   BIC:                             83.87\n",
      "Df Model:                           4                                         \n",
      "Covariance Type:            nonrobust                                         \n",
      "==============================================================================\n",
      "                 coef    std err          t      P>|t|      [0.025      0.975]\n",
      "------------------------------------------------------------------------------\n",
      "const          8.6550      0.137     63.320      0.000       8.386       8.924\n",
      "crime         -0.0125      0.002     -7.641      0.000      -0.016      -0.009\n",
      "nox           -0.0476      0.013     -3.557      0.000      -0.074      -0.021\n",
      "rooms          0.2816      0.017     16.379      0.000       0.248       0.315\n",
      "proptax       -0.0043      0.001     -4.184      0.000      -0.006      -0.002\n",
      "==============================================================================\n",
      "Omnibus:                      118.409   Durbin-Watson:                   0.764\n",
      "Prob(Omnibus):                  0.000   Jarque-Bera (JB):              730.140\n",
      "Skew:                           0.859   Prob(JB):                    2.83e-159\n",
      "Kurtosis:                       8.629   Cond. No.                         546.\n",
      "==============================================================================\n",
      "\n",
      "Notes:\n",
      "[1] Standard Errors assume that the covariance matrix of the errors is correctly specified.\n"
     ]
    },
    {
     "data": {
      "image/png": "[encoded data removed]",
      "text/plain": [
       "<Figure size 1000x600 with 1 Axes>"
      ]
     },
     "metadata": {},
     "output_type": "display_data"
    },
    {
     "name": "stdout",
     "output_type": "stream",
     "text": [
      "Kurtosis des résidus: 5.696676773957\n"
     ]
    }
   ],
   "source": [
    "# Régression linéaire de lprice en fonction d'une constante, de crime, nox, rooms et proptax\n",
    "\n",
    "# Définition des variables explicatives et de la variable à expliquer\n",
    "X = df[['crime', 'nox', 'rooms', 'proptax']]\n",
    "X = sm.add_constant(X)\n",
    "y = df['lprice']\n",
    "\n",
    "# Régression linéaire\n",
    "model_Q10= sm.OLS(y, X).fit()\n",
    "\n",
    "# Affichage des résultats\n",
    "print(model_Q10.summary())\n",
    "\n",
    "# Histogramme des résidus\n",
    "plt.figure(figsize=(10, 6))\n",
    "plt.hist(model_Q10.resid, bins=30, edgecolor='black')\n",
    "plt.title('Histogramme des résidus de la régression linéaire')\n",
    "plt.xlabel('Résidus')\n",
    "plt.ylabel('Fréquence')\n",
    "plt.grid(True)\n",
    "\n",
    "# Ajout de la moyenne\n",
    "mean_residual = np.mean(model_Q10.resid)\n",
    "plt.axvline(mean_residual, color='red', linestyle='dashed', linewidth=1)\n",
    "\n",
    "plt.show()\n",
    "\n",
    "# Calcul du kurtosis des résidus\n",
    "kurtosis = model_Q10.resid.kurtosis()\n",
    "print(f'Kurtosis des résidus: {kurtosis}')"
   ]
  },
  {
   "cell_type": "markdown",
   "metadata": {},
   "source": [
    " $\\underline{Commentaire-histogramme}$ : La distribution n'est pas normale avec de nombreuses valeurs élevées (queue vers la droite du graphique appelée aussi \"Right-skewed\"). Cependant, il y a malgré tout une amélioration avec une diminution du kurtosis avec l'application du logarithme sur le prix.  \n",
    "   \n",
    "$\\underline{Commentaire-coefficients}$ :\n",
    "- L'interprétation des coefficients reste semblable, mais la constante positive suggère que l'adoption d'une échelle logarithmique pour le prix assure que les prédictions restent positives.\n",
    "- L'impact du nombre de chambres, bien qu'il reste le plus important, est moins dominant dans ce modèle.  \n",
    "  \n",
    " $\\underline{Commentaire-modèle}$ : **Modèle logarithmique linéaire $log(y) = ax + b$**  \n",
    "Ici, augmenter \\(x\\) d'une unité multiplie \\(y\\) par \\(e^a\\). L'effet est multiplicative sur \\(y\\), impliquant que la réaction de \\(y\\) dépend de sa propre taille : plus \\(y\\) est grand, plus l'impact absolu d'une augmentation de \\(x\\) sur \\(y\\) sera significatif.\n"
   ]
  },
  {
   "cell_type": "markdown",
   "metadata": {},
   "source": [
    "#### <span style=\"color:green\"> Q11. Run a regression of <i>lprice</i> on a <i>constant</i>, <i>crime</i>, <i>lnox</i>, <i>rooms</i>, <i>lproptax</i>. Interpret all coefficients.</span>"
   ]
  },
  {
   "cell_type": "code",
   "execution_count": 11,
   "metadata": {},
   "outputs": [
    {
     "name": "stdout",
     "output_type": "stream",
     "text": [
      "                            OLS Regression Results                            \n",
      "==============================================================================\n",
      "Dep. Variable:                 lprice   R-squared:                       0.612\n",
      "Model:                            OLS   Adj. R-squared:                  0.609\n",
      "Method:                 Least Squares   F-statistic:                     197.4\n",
      "Date:                Mon, 08 Apr 2024   Prob (F-statistic):          1.77e-101\n",
      "Time:                        09:40:01   Log-Likelihood:                -26.021\n",
      "No. Observations:                 506   AIC:                             62.04\n",
      "Df Residuals:                     501   BIC:                             83.18\n",
      "Df Model:                           4                                         \n",
      "Covariance Type:            nonrobust                                         \n",
      "==============================================================================\n",
      "                 coef    std err          t      P>|t|      [0.025      0.975]\n",
      "------------------------------------------------------------------------------\n",
      "const          9.7505      0.253     38.476      0.000       9.253      10.248\n",
      "crime         -0.0128      0.002     -8.002      0.000      -0.016      -0.010\n",
      "lnox          -0.2769      0.077     -3.591      0.000      -0.428      -0.125\n",
      "rooms          0.2802      0.017     16.282      0.000       0.246       0.314\n",
      "lproptax      -0.1779      0.042     -4.215      0.000      -0.261      -0.095\n",
      "==============================================================================\n",
      "Omnibus:                      116.110   Durbin-Watson:                   0.768\n",
      "Prob(Omnibus):                  0.000   Jarque-Bera (JB):              716.737\n",
      "Skew:                           0.838   Prob(JB):                    2.30e-156\n",
      "Kurtosis:                       8.585   Cond. No.                         241.\n",
      "==============================================================================\n",
      "\n",
      "Notes:\n",
      "[1] Standard Errors assume that the covariance matrix of the errors is correctly specified.\n"
     ]
    },
    {
     "data": {
      "image/png": "[encoded data removed]",
      "text/plain": [
       "<Figure size 1000x600 with 1 Axes>"
      ]
     },
     "metadata": {},
     "output_type": "display_data"
    },
    {
     "name": "stdout",
     "output_type": "stream",
     "text": [
      "Kurtosis des résidus: 5.652217721881058\n"
     ]
    }
   ],
   "source": [
    "# Régression linéaire de lprice en fonction d'une constante, de crime, lnox, rooms et lproptax\n",
    "\n",
    "# Définition des variables explicatives et de la variable à expliquer\n",
    "X = df[['crime', 'lnox', 'rooms', 'lproptax']]\n",
    "X = sm.add_constant(X)\n",
    "y = df['lprice']\n",
    "\n",
    "# Régression linéaire\n",
    "model_Q11 = sm.OLS(y, X).fit()\n",
    "\n",
    "# Affichage des résultats\n",
    "print(model_Q11.summary())\n",
    "\n",
    "# Histogramme des résidus\n",
    "plt.figure(figsize=(10, 6))\n",
    "plt.hist(model_Q11.resid, bins=30, edgecolor='black')\n",
    "plt.title('Histogramme des résidus de la régression linéaire')\n",
    "plt.xlabel('Résidus')\n",
    "plt.ylabel('Fréquence')\n",
    "plt.grid(True)\n",
    "\n",
    "# Ajout de la moyenne\n",
    "mean_residual = np.mean(model_Q11.resid)\n",
    "plt.axvline(mean_residual, color='red', linestyle='dashed', linewidth=1)\n",
    "\n",
    "plt.show()\n",
    "\n",
    "# Calcul du kurtosis des résidus\n",
    "kurtosis = model_Q11.resid.kurtosis()\n",
    "print(f'Kurtosis des résidus: {kurtosis}')"
   ]
  },
  {
   "cell_type": "markdown",
   "metadata": {},
   "source": [
    " $\\underline{Commentaire-histogramme}$ : La distribution n'a pas que très peu changé par rapport au graphique précédent. La distribution n'est pas tout à fait normale, le kurtosis en atteste.\n",
    "   \n",
    " $\\underline{Commentaire-coefficients}$ :\n",
    "Les interprétations sont globalement identiques, cependant, les valeurs absolues des coefficients sont beaucoup plus équilibrées.   \n",
    "Cette remarque est à modérer car lorsque l'on applique une transformation logarithmique à une variable, l'interprétation du coefficient directeur correspondant change également.\n",
    "\n",
    "- Le coefficient de _lnox_ (a = -0.2769) montre que, toutes choses étant égales par ailleurs, un changement de 1% dans la concentration de _nox_ entraîne une diminution de \\(0.2769\\)% dans le prix des logements, reflétant l'effet de la pollution de l'air sur les prix.\n",
    "- Le coefficient de _rooms_ (b = 0.2802) suggère qu'une augmentation d'une unité dans le nombre de chambres est associée à une multiplication du prix des logements par \\(e^{0.2802}\\), soulignant l'importance de la taille du logement sur son prix.\n",
    "- Le coefficient de _lproptax_ (-0.1779) indique qu'un changement de 1% dans la taxe foncière est associé à une diminution de \\(0.1779\\)% dans le prix des logements, mettant en évidence l'impact négatif des taxes plus élevées sur les valeurs immobilières.\n",
    "- Le coefficient de _crime_ (-0.0128) révèle que l'augmentation du taux de criminalité est liée à une baisse du prix des logements, mais l'effet est moins prononcé que pour les autres variables.\n",
    "\n",
    "Cette structure du modèle permet de capturer à la fois les effets proportionnels de variables comme _nox_ et _proptax_ (après transformation en logarithme) sur le prix des logements en termes de pourcentage, et les effets linéaires de variables comme _rooms_, permettant une analyse nuancée de la manière dont différents facteurs influencent les prix immobiliers.\n",
    "\n",
    "\n",
    " $\\underline{Commentaire-Modèle}$ : **Modèle log-log à savoir $log(y) = a \\log(x) + b$**  \n",
    "Dans ce cadre, un changement de 1% dans \\(x\\) produit un changement de \\(a\\)% dans \\(y\\). Cette relation montre que l'effet de \\(x\\) sur \\(y\\) est proportionnel : une hausse de \\(x\\) par un certain pourcentage entraîne une hausse de \\(y\\) par un pourcentage qui est \\(a\\) fois celui de \\(x\\). Ce modèle est précieux pour étudier les relations proportionnelles et les élasticités.  \n",
    "Certaines variables n'ont pas eu de transformation logarithmique, on retombe sur le cas précédemment vu dans ce cas.\n",
    "\n"
   ]
  },
  {
   "cell_type": "markdown",
   "metadata": {},
   "source": [
    "<span style=\"color:green\">\n",
    "\n",
    "#### Q12. In the specification of question 9, test the hypothesis H0: $\\beta_{nox}$ = 0 vs. H1: $\\beta_{nox}$ > 0 at the 1% level.\n",
    "\n",
    "</span>"
   ]
  },
  {
   "cell_type": "code",
   "execution_count": 12,
   "metadata": {},
   "outputs": [
    {
     "name": "stdout",
     "output_type": "stream",
     "text": [
      "T-statistique pour nox: -2.0991616888227345\n",
      "P-valeur unilatérale pour nox: 0.018151217341554424\n",
      "On ne peut pas rejeter l'hypothèse nulle H0: beta_nox = 0 au niveau de 1%.\n"
     ]
    }
   ],
   "source": [
    "# Test unilatéral pour beta_nox\n",
    "t_statistic = model_Q9.tvalues['nox']\n",
    "p_value_one_sided = model_Q9.pvalues['nox'] / 2  # Diviser par 2 pour le test unilatéral\n",
    "\n",
    "print(f\"T-statistique pour nox: {t_statistic}\")\n",
    "print(f\"P-valeur unilatérale pour nox: {p_value_one_sided}\")\n",
    "\n",
    "# Vérification si la p-valeur est inférieure au seuil de signification de 1%\n",
    "alpha = 0.01\n",
    "if p_value_one_sided < alpha and t_statistic > 0:\n",
    "    print(\"On rejette l'hypothèse nulle H0: beta_nox = 0 au niveau de 1%.\")\n",
    "else:\n",
    "    print(\"On ne peut pas rejeter l'hypothèse nulle H0: beta_nox = 0 au niveau de 1%.\")"
   ]
  },
  {
   "cell_type": "markdown",
   "metadata": {},
   "source": [
    " $\\underline{Commentaire}$ : Par conséquent, avec un niveau de confiance de 99%, nous ne trouvons pas de preuves suffisantes pour soutenir que l'augmentation de nox entraîne une augmentation du prix des logements.  \n",
    " En fait, le coefficient négatif indique plutôt le contraire."
   ]
  },
  {
   "cell_type": "markdown",
   "metadata": {},
   "source": [
    "<span style=\"color:green\">\n",
    "\n",
    "#### Q13. In the specification of question 9, test the hypothesis H0: $\\beta_{nox}$ = 0 vs. H1: $\\beta_{nox}$ ≠ 0 at the 1% level using the p-value of the test.\n",
    "\n",
    "</span>"
   ]
  },
  {
   "cell_type": "code",
   "execution_count": 13,
   "metadata": {},
   "outputs": [
    {
     "name": "stdout",
     "output_type": "stream",
     "text": [
      "P-valeur pour nox: 0.03630243468310885\n",
      "On ne peut pas rejeter l'hypothèse nulle H0: beta_nox = 0 au niveau de 1%.\n"
     ]
    }
   ],
   "source": [
    "# p_value_nox est la p-value pour le test de la variable 'nox'\n",
    "p_value_nox = model_Q9.pvalues['nox']\n",
    "print(f\"P-valeur pour nox: {p_value_nox}\")\n",
    "\n",
    "# Seuil de signification pour un test bilatéral au niveau de 1%\n",
    "alpha = 0.01\n",
    "\n",
    "# Test de l'hypothèse H0 contre H1 au niveau de 1%\n",
    "if p_value_nox < alpha:\n",
    "    print(\"On rejette l'hypothèse nulle H0: beta_nox = 0 au niveau de 1%.\")\n",
    "else:\n",
    "    print(\"On ne peut pas rejeter l'hypothèse nulle H0: beta_nox = 0 au niveau de 1%.\")"
   ]
  },
  {
   "cell_type": "markdown",
   "metadata": {},
   "source": [
    " $\\underline{Commentaire}$ : Cela signifie que nous n'avons pas suffisamment de preuves pour affirmer que le coefficient de nox est différent de zéro avec un niveau de confiance de 99%. Cela indique que la variable nox n'a pas un effet statistiquement significatif sur le prix des logements à ce niveau de confiance."
   ]
  },
  {
   "cell_type": "markdown",
   "metadata": {},
   "source": [
    "<span style=\"color:green\">\n",
    "\n",
    "#### Q14. In the specification of question 9, test the hypothesis H0: $\\beta_{crime}$ = $\\beta_{proptax}$ at the 10% level.\n",
    "\n",
    "</span>"
   ]
  },
  {
   "cell_type": "markdown",
   "metadata": {},
   "source": [
    "On applique l'idée définie dans le cours n°3 en définissant un paramètre $\\theta$ =  $\\beta_{crime}$ - $\\beta_{proptax}$  \n",
    "  \n",
    "Cela donne une équation de la forme :  \n",
    "$y = const$ + $\\theta$ * $crime$ + $\\beta_{proptax}$  * ($crime + proptax)$ + $\\beta_{nox}$ * $nox + \\beta_{rooms} * rooms + u$"
   ]
  },
  {
   "cell_type": "code",
   "execution_count": 14,
   "metadata": {},
   "outputs": [
    {
     "name": "stdout",
     "output_type": "stream",
     "text": [
      "                            OLS Regression Results                            \n",
      "==============================================================================\n",
      "Dep. Variable:                  price   R-squared:                       0.575\n",
      "Model:                            OLS   Adj. R-squared:                  0.572\n",
      "Method:                 Least Squares   F-statistic:                     169.6\n",
      "Date:                Mon, 08 Apr 2024   Prob (F-statistic):           1.06e-91\n",
      "Time:                        09:40:01   Log-Likelihood:                -5119.6\n",
      "No. Observations:                 506   AIC:                         1.025e+04\n",
      "Df Residuals:                     501   BIC:                         1.027e+04\n",
      "Df Model:                           4                                         \n",
      "Covariance Type:            nonrobust                                         \n",
      "=================================================================================\n",
      "                    coef    std err          t      P>|t|      [0.025      0.975]\n",
      "---------------------------------------------------------------------------------\n",
      "const         -1.868e+04   3215.205     -5.811      0.000    -2.5e+04   -1.24e+04\n",
      "crime           -47.1294     53.574     -0.880      0.379    -152.387      58.128\n",
      "crime_proptax   -89.4144     23.966     -3.731      0.000    -136.500     -42.329\n",
      "nox            -660.4672    314.634     -2.099      0.036   -1278.632     -42.303\n",
      "rooms          7797.9286    404.345     19.285      0.000    7003.507    8592.350\n",
      "==============================================================================\n",
      "Omnibus:                      264.796   Durbin-Watson:                   0.752\n",
      "Prob(Omnibus):                  0.000   Jarque-Bera (JB):             2348.397\n",
      "Skew:                           2.111   Prob(JB):                         0.00\n",
      "Kurtosis:                      12.673   Cond. No.                         617.\n",
      "==============================================================================\n",
      "\n",
      "Notes:\n",
      "[1] Standard Errors assume that the covariance matrix of the errors is correctly specified.\n"
     ]
    }
   ],
   "source": [
    "# Création d'une colonne avec crime + proptax\n",
    "df['crime_proptax'] = df['crime'] + df['proptax']\n",
    "\n",
    "# Définition des variables explicatives et de la variable à expliquer\n",
    "X = df[['crime', 'crime_proptax', 'nox', 'rooms']]\n",
    "X = sm.add_constant(X)\n",
    "y = df['price']\n",
    "\n",
    "# Régression linéaire\n",
    "model_Q14 = sm.OLS(y, X).fit()\n",
    "\n",
    "# Affichage des résultats\n",
    "print(model_Q14.summary())"
   ]
  },
  {
   "cell_type": "code",
   "execution_count": 15,
   "metadata": {},
   "outputs": [
    {
     "name": "stdout",
     "output_type": "stream",
     "text": [
      "P-valeur pour crime_proptax: 0.00021258433933771186\n",
      "On rejette l'hypothèse nulle H0: beta_crime_proptax = 0 au niveau de 10%.\n"
     ]
    }
   ],
   "source": [
    "# Test de l'hypothèse H0: beta_crime_proptax = 0 contre H1: beta_crime_proptax != 0\n",
    "p_value = model_Q14.pvalues['crime_proptax']\n",
    "\n",
    "print(f\"P-valeur pour crime_proptax: {p_value}\")\n",
    "\n",
    "# Seuil de signification pour un test bilatéral au niveau de 10%\n",
    "alpha = 0.10\n",
    "\n",
    "# Test de l'hypothèse H0 contre H1 au niveau de 10%\n",
    "if p_value < alpha:\n",
    "    print(\"On rejette l'hypothèse nulle H0: beta_crime_proptax = 0 au niveau de 10%.\")\n",
    "else:\n",
    "    print(\"On ne peut pas rejeter l'hypothèse nulle H0: beta_crime_proptax = 0 au niveau de 10%.\")"
   ]
  },
  {
   "cell_type": "markdown",
   "metadata": {},
   "source": [
    " $\\underline{Commentaire}$ : Cela signifie que nous avons suffisamment de preuves pour affirmer que le coefficient $\\theta$ est différent de zéro avec un niveau de confiance de 90%.  \n",
    " Par extension, nous avons suffisamment de preuves pour affirmer que le coefficient $\\beta_{crime}$ est différent de $\\beta_{proptax}$ avec un niveau de confiance de 90%."
   ]
  },
  {
   "cell_type": "markdown",
   "metadata": {},
   "source": [
    "<span style=\"color:green\">\n",
    "\n",
    "#### Q15. In the specification of question 9, test the hypothesis H0: $\\beta_{nox}$ = 0, $\\beta_{proptax}$ = 0 at the 10% level.\n",
    "\n",
    "</span>"
   ]
  },
  {
   "cell_type": "markdown",
   "metadata": {},
   "source": [
    "##### **Calcul de la somme des carrées des erreurs du modèle non contraint SSR0**"
   ]
  },
  {
   "cell_type": "code",
   "execution_count": 16,
   "metadata": {},
   "outputs": [
    {
     "name": "stdout",
     "output_type": "stream",
     "text": [
      "SSR0: 18192596571.936546\n",
      "Degrés de liberté des résidus du modèle non contraint: 501.0\n"
     ]
    }
   ],
   "source": [
    "# Définition des variables explicatives et de la variable à expliquer\n",
    "X = df[['crime', 'nox', 'rooms', 'proptax']]\n",
    "X = sm.add_constant(X)\n",
    "y = df['price']\n",
    "\n",
    "# Régression linéaire\n",
    "model_Q9 = sm.OLS(y, X).fit()\n",
    "\n",
    "# Calcul du résidu u\n",
    "u = model_Q9.resid\n",
    "\n",
    "# Calcul de la somme des carrées des erreurs du modèle non contraint SSR0\n",
    "SSR0 = model_Q9.ssr\n",
    "print(f\"SSR0: {SSR0}\")\n",
    "\n",
    "# Calcul des degrés de liberté des résidus du modèle non contraint\n",
    "df_resid_nc = model_Q9.df_resid\n",
    "print(f\"Degrés de liberté des résidus du modèle non contraint: {df_resid_nc}\")"
   ]
  },
  {
   "cell_type": "markdown",
   "metadata": {},
   "source": [
    "##### **Calcul de la somme des carrées des erreurs du modèle contraint SSR1**"
   ]
  },
  {
   "cell_type": "code",
   "execution_count": 17,
   "metadata": {},
   "outputs": [
    {
     "name": "stdout",
     "output_type": "stream",
     "text": [
      "SSR1: 19595081660.211784\n",
      "Degrés de liberté des résidus du modèle contraint: 503.0\n"
     ]
    }
   ],
   "source": [
    "# Calcul de la somme des carrées des erreurs du modèle contraint SSR1\n",
    "X = df[['crime', 'rooms']]\n",
    "X = sm.add_constant(X)\n",
    "y = df['price']\n",
    "\n",
    "# Régression linéaire\n",
    "model = sm.OLS(y, X).fit()\n",
    "\n",
    "# Calcul du résidu u\n",
    "u = model.resid\n",
    "\n",
    "# Calcul de la somme des carrées des erreurs du modèle contraint SSR1\n",
    "SSR1 = model.ssr\n",
    "print(f\"SSR1: {SSR1}\")\n",
    "\n",
    "# Calcul des degrés de liberté des résidus du modèle contraint\n",
    "df_resid_c = model.df_resid\n",
    "print(f\"Degrés de liberté des résidus du modèle contraint: {df_resid_c}\")"
   ]
  },
  {
   "cell_type": "markdown",
   "metadata": {},
   "source": [
    "##### **Calcul de la statistique de Fisher F**"
   ]
  },
  {
   "cell_type": "code",
   "execution_count": 18,
   "metadata": {},
   "outputs": [
    {
     "name": "stdout",
     "output_type": "stream",
     "text": [
      "q: 2.0\n",
      "Statistique de Fisher: 19.311290349552888\n",
      "P-valeur: 8.332525004918138e-09\n",
      "On rejette l'hypothèse nulle H0 au niveau de 10%.\n"
     ]
    }
   ],
   "source": [
    "from scipy.stats import f\n",
    "\n",
    "# Calcul de q pour le test de Fisher\n",
    "q = df_resid_c - df_resid_nc\n",
    "print(f\"q: {q}\")\n",
    "\n",
    "# Calcul de la statistique de Fisher\n",
    "F = ((SSR1 - SSR0) / q) / (SSR0 / df_resid_nc)\n",
    "print(f\"Statistique de Fisher: {F}\")\n",
    "\n",
    "# Calcul de la p-valeur\n",
    "p_value = f.sf(F, q, df_resid_nc)\n",
    "print(f\"P-valeur: {p_value}\")\n",
    "\n",
    "# Seuil de signification pour un test bilatéral au niveau de 10%\n",
    "alpha = 0.10\n",
    "\n",
    "# Test de l'hypothèse H0 contre H1 au niveau de 10%\n",
    "if p_value < alpha:\n",
    "    print(\"On rejette l'hypothèse nulle H0 au niveau de 10%.\")\n",
    "else:\n",
    "    print(\"On ne peut pas rejeter l'hypothèse nulle H0 au niveau de 10%.\")"
   ]
  },
  {
   "cell_type": "markdown",
   "metadata": {},
   "source": [
    "$\\underline{Commentaire}$ : Nous rejetons l'hypothèse nulle que les coefficients $\\beta_{\\text{nox}}$ et $\\beta_{\\text{proptax}}$ sont tous deux égaux à zéro.\n",
    "Cela signifie que nous avons suffisamment de preuves pour affirmer que les variables nox et proptax ont chacune un effet significatif sur le prix des logements avec un niveau de confiance de 90%."
   ]
  },
  {
   "cell_type": "markdown",
   "metadata": {},
   "source": [
    "<span style=\"color:green\">\n",
    "\n",
    "#### Q16. In the specification of question 9, test the hypothesis H0: $\\beta_{nox}$ = -500, $\\beta_{proptax}$ = -100 at the 10% level using the p-value of the test.\n",
    "\n",
    "</span>\n",
    "  \n",
    "Le modèle non contraint ne change pas, il nous reste cependant à calculer SSR1 avec les contraintes imposées dans les questions."
   ]
  },
  {
   "cell_type": "markdown",
   "metadata": {},
   "source": [
    "##### **Calcul de la somme des carrées des erreurs du modèle contraint SSR1**"
   ]
  },
  {
   "cell_type": "code",
   "execution_count": 19,
   "metadata": {},
   "outputs": [
    {
     "name": "stdout",
     "output_type": "stream",
     "text": [
      "SSR1: 18203394906.78485\n",
      "Degrés de liberté des résidus du modèle contraint: 503.0\n"
     ]
    }
   ],
   "source": [
    "# Calcul de la somme des carrées des erreurs du modèle contraint SSR1\n",
    "X = df[['crime', 'rooms']]\n",
    "X = sm.add_constant(X)\n",
    "\n",
    "# Calcul de la variable à expliquer avec les coefficients Beta_nox = -500 et Beta_proptax = -100\n",
    "y = df['price'] - ( -500 * df['nox'] - 100 * df['proptax'] )\n",
    "\n",
    "# Régression linéaire\n",
    "model = sm.OLS(y, X).fit()\n",
    "\n",
    "# Calcul du résidu u\n",
    "u = model.resid\n",
    "\n",
    "# Calcul de la somme des carrées des erreurs du modèle contraint SSR1\n",
    "SSR1 = model.ssr\n",
    "print(f\"SSR1: {SSR1}\")\n",
    "\n",
    "# Calcul des degrés de liberté des résidus du modèle contraint\n",
    "df_resid_c = model.df_resid\n",
    "print(f\"Degrés de liberté des résidus du modèle contraint: {df_resid_c}\")"
   ]
  },
  {
   "cell_type": "markdown",
   "metadata": {},
   "source": [
    "##### **Calcul de la statistique de Fisher F**"
   ]
  },
  {
   "cell_type": "code",
   "execution_count": 20,
   "metadata": {},
   "outputs": [
    {
     "name": "stdout",
     "output_type": "stream",
     "text": [
      "q: 2.0\n",
      "Statistique de Fisher: 0.14868591565829475\n",
      "P-valeur: 0.8618777787518976\n",
      "On ne peut pas rejeter l'hypothèse nulle H0 au niveau de 10%.\n"
     ]
    }
   ],
   "source": [
    "# Calcul de q pour le test de Fisher\n",
    "q = df_resid_c - df_resid_nc\n",
    "print(f\"q: {q}\")\n",
    "\n",
    "# Calcul de la statistique de Fisher\n",
    "F = ((SSR1 - SSR0) / q) / (SSR0 / df_resid_nc)\n",
    "print(f\"Statistique de Fisher: {F}\")\n",
    "\n",
    "# Calcul de la p-valeur\n",
    "p_value = f.sf(F, q, df_resid_nc)\n",
    "print(f\"P-valeur: {p_value}\")\n",
    "\n",
    "# Seuil de signification pour un test bilatéral au niveau de 10%\n",
    "alpha = 0.10\n",
    "\n",
    "# Test de l'hypothèse H0 contre H1 au niveau de 10%\n",
    "if p_value < alpha:\n",
    "    print(\"On rejette l'hypothèse nulle H0 au niveau de 10%.\")\n",
    "else:\n",
    "    print(\"On ne peut pas rejeter l'hypothèse nulle H0 au niveau de 10%.\")"
   ]
  },
  {
   "cell_type": "markdown",
   "metadata": {},
   "source": [
    "$\\underline{Commentaire}$ : Par conséquent, nous ne disposons pas de preuves suffisantes pour rejeter l'hypothèse nulle ($\\beta_{\\text{nox}}$ = -500, $\\beta_{\\text{proptax}}$ = -100\\) à ce niveau de signification. Cela suggère que, d'après les données et le modèle de régression utilisé dans la question 9, les coefficients pour `nox` et `proptax` ne diffèrent pas de manière significative des valeurs de -500 et -100 respectivement, avec un niveau de confiance de 90%.\n",
    "  \n",
    "Cette conclusion parait cohérente puisque les coefficients dans le modèle non contraint sont de -660 pour `nox` et de -89 pour`proptax`, les valeurs sont donc relativement proches du modèle donné par l'OLS.\n"
   ]
  },
  {
   "cell_type": "markdown",
   "metadata": {},
   "source": [
    "<span style=\"color:green\">\n",
    "\n",
    "#### Q17. In the specification of question 9, test the hypothesis that all coefficients are the same for observations with low levels of <i>nox</i> vs. medium and high levels of <i>nox</i>. \n",
    "</span>"
   ]
  },
  {
   "cell_type": "markdown",
   "metadata": {},
   "source": [
    "Le sujet ne semble pas définir de valeur de référence pour alpha.  \n",
    "Nous prendrons la même hypothèse que précedemment à savoir $\\alpha = 10 $%.  \n",
    "  \n",
    "**L'astuce pour ce type de question est de bien choisir une catégorie de référence.** Nous choisirons ici la première catégorie à savoir 'low'."
   ]
  },
  {
   "cell_type": "markdown",
   "metadata": {},
   "source": [
    "##### **Méthode vue en TP (FAUX MAIS JE PIGE PAS COMMENT CORRIGER)**"
   ]
  },
  {
   "cell_type": "code",
   "execution_count": 21,
   "metadata": {},
   "outputs": [],
   "source": [
    "# Estimation des coefficients de la régression linéaire pour la catégorie 'low'\n",
    "X_low_nc = df[df['nox_category'] == 'low'][['crime', 'nox', 'rooms', 'proptax']]\n",
    "X_low_nc = sm.add_constant(X_low_nc)\n",
    "\n",
    "y_low_nc = df[df['nox_category'] == 'low']['price']\n",
    "\n",
    "# Ajustement du modèle OLS pour les faibles niveaux de NOx\n",
    "model_low_nc = sm.OLS(y_low_nc, X_low_nc).fit()"
   ]
  },
  {
   "cell_type": "code",
   "execution_count": 22,
   "metadata": {},
   "outputs": [
    {
     "name": "stdout",
     "output_type": "stream",
     "text": [
      "q: 4\n",
      "ddf: 501\n",
      "Statistique de Fisher: 21.189712007314352\n",
      "P-valeur: 0.005909761823016975\n",
      "On rejette l'hypothèse nulle H0 au niveau de 5%.\n"
     ]
    }
   ],
   "source": [
    "# Estimation des coefficients de la régression linéaire pour la catégorie 'medium' et 'high'\n",
    "x_medium_high = df[df['nox_category'] != 'low'][['crime', 'nox', 'rooms', 'proptax']]\n",
    "x_medium_high_c = sm.add_constant(x_medium_high)[[\"const\"]]\n",
    "\n",
    "y_medium_high = df[df['nox_category'] != 'low']['price']\n",
    "\n",
    "y_medium_high_c = (\n",
    "    y_medium_high\n",
    "    - model_low_nc.params[\"crime\"] * x_medium_high[\"crime\"]\n",
    "    - model_low_nc.params[\"nox\"] * x_medium_high[\"nox\"]\n",
    "    - model_low_nc.params[\"rooms\"] * x_medium_high[\"rooms\"]\n",
    "    - model_low_nc.params[\"proptax\"] * x_medium_high[\"proptax\"]\n",
    ")\n",
    "\n",
    "# Ajustement du modèle OLS pour les niveaux de NOx moyens et élevés\n",
    "model_contraint = sm.OLS(y_medium_high_c, x_medium_high_c)\n",
    "model_medium_high_c = model_contraint.fit()\n",
    "\n",
    "# Test de Fisher\n",
    "SSR_low_nc = model_low_nc.ssr\n",
    "SSR_medium_high_c = model_medium_high_c.ssr\n",
    "\n",
    "df_nc = X_low_nc.shape[1] - 1\n",
    "df_c = x_medium_high_c.shape[1] - 1\n",
    "\n",
    "# Calcul de q pour le test de Fisher\n",
    "q = df_nc - df_c\n",
    "print(f\"q: {q}\")\n",
    "\n",
    "ddf = n - df_nc - 1\n",
    "print(f\"ddf: {ddf}\")\n",
    "\n",
    "# Calcul de la statistique de Fisher\n",
    "F = ((SSR_medium_high_c - SSR_low_nc) / q) / (SSR_low_nc / df_nc)\n",
    "print(f\"Statistique de Fisher: {F}\")\n",
    "\n",
    "# Calcul de la p-valeur\n",
    "p_value = f.sf(F, q, df_nc)\n",
    "print(f\"P-valeur: {p_value}\")\n",
    "\n",
    "# Seuil de signification pour un test bilatéral au niveau de 5%\n",
    "alpha = 0.10\n",
    "\n",
    "# Test de l'hypothèse H0 contre H1 au niveau de 5%\n",
    "if p_value < alpha:\n",
    "    print(\"On rejette l'hypothèse nulle H0 au niveau de 5%.\")\n",
    "else:\n",
    "    print(\"On ne peut pas rejeter l'hypothèse nulle H0 au niveau de 5%.\")\n",
    "    "
   ]
  },
  {
   "cell_type": "markdown",
   "metadata": {},
   "source": [
    "##### **Méthode alternative à celle vue en cours**\n",
    "\n",
    "L'objectif est ici plutôt de tester l'hétérogénéité des effets des variables explicatives à travers les niveaux de NOx dans un cadre global avec des termes d'interaction.  \n",
    "Cela teste indirectement si les relations dans le sous-groupe à faible NOx diffèrent de celles dans les sous-groupes à moyen et haut NOx.\n",
    "  \n",
    "Cette démarche que nous avons pu trouvé dans la littérature nous a semblé plus rigoureuse que la méthode initiale abordée en TP."
   ]
  },
  {
   "cell_type": "code",
   "execution_count": 23,
   "metadata": {},
   "outputs": [
    {
     "name": "stdout",
     "output_type": "stream",
     "text": [
      "Statistique F: 48.108197618301595\n",
      "P-value: 3.863325517276756e-75\n",
      "On rejette l'hypothèse nulle au niveau de 10% : les effets ne sont pas les mêmes pour toutes les catégories de NOx.\n"
     ]
    }
   ],
   "source": [
    "# Création de variables d'interaction pour les catégories 'medium' et 'high'\n",
    "df['medium'] = (df['nox_category'] == 'medium').astype(int)\n",
    "df['high'] = (df['nox_category'] == 'high').astype(int)\n",
    "\n",
    "# Création des interactions\n",
    "for var in ['crime', 'nox', 'rooms', 'proptax']:\n",
    "    df[f'{var}_medium'] = df[var] * df['medium']\n",
    "    df[f'{var}_high'] = df[var] * df['high']\n",
    "\n",
    "# Préparation du modèle avec les interactions\n",
    "X_interactions = df[['crime', 'nox', 'rooms', 'proptax', \n",
    "                     'crime_medium', 'nox_medium', 'rooms_medium', 'proptax_medium',\n",
    "                     'crime_high', 'nox_high', 'rooms_high', 'proptax_high']]\n",
    "X_interactions = sm.add_constant(X_interactions)\n",
    "\n",
    "# Régression linéaire avec interactions\n",
    "model_interactions = sm.OLS(y, X_interactions).fit()\n",
    "\n",
    "# Test global pour voir si les coefficients pour 'medium' et 'high' diffèrent de 'low'\n",
    "# Cela se fait par un test F de la restriction que tous les coefficients d'interaction sont zéro\n",
    "results_F_test = model_interactions.f_test(np.identity(len(model_interactions.params))[1:])\n",
    "\n",
    "print(f\"Statistique F: {results_F_test.fvalue}\")\n",
    "print(f\"P-value: {results_F_test.pvalue}\")\n",
    "\n",
    "# Seuil de signification pour un test bilatéral au niveau de 10%\n",
    "alpha = 0.1 \n",
    "\n",
    "# Conclusion du test d'hypothèse\n",
    "if results_F_test.pvalue < alpha:\n",
    "    print(\"On rejette l'hypothèse nulle au niveau de 10% : les effets ne sont pas les mêmes pour toutes les catégories de NOx.\")\n",
    "else:\n",
    "    print(\"On ne peut pas rejeter l'hypothèse nulle au niveau de 10% : pas de preuve que les effets diffèrent entre les catégories de NOx.\")\n"
   ]
  },
  {
   "cell_type": "markdown",
   "metadata": {},
   "source": [
    "$\\underline{Commentaire}$ : Par conséquent, nous disposons de preuves suffisantes pour rejeter l'hypothèse nulle (tous les coefficients sont les mêmes indépendemment du groupe pour les `nox` à savoir 'low', 'medium' et 'high') avec un niveau de confiance de 90 %.  \n",
    "Cette différence suggère que l'impact des variables considérées dans notre modèle sur le prix des logements n'est pas constant à travers les différentes catégories de concentration de NOx. En conséquence, cela indique que les variations dans le niveau de NOx interagissent avec ces variables pour influencer le prix des logements de manière différente selon que l'on se trouve dans une zone à faible, moyenne ou haute concentration de NOx. \n"
   ]
  },
  {
   "cell_type": "markdown",
   "metadata": {},
   "source": [
    "<span style=\"color:green\">\n",
    "\n",
    "#### Q18. Repeat the test of question 17 but now assuming that only the coefficients of <i>nox</i> and <i>proptax</i> can change between the two groups of observations. State and test $H_{0}$.\n",
    "\n",
    "</span>"
   ]
  },
  {
   "cell_type": "code",
   "execution_count": 24,
   "metadata": {},
   "outputs": [
    {
     "name": "stdout",
     "output_type": "stream",
     "text": [
      "Statistique F spécifique: 2.209818059831535\n",
      "P-valeur spécifique: 0.06686244546473936\n",
      "On rejette l'hypothèse nulle au niveau de 10% : les effets de 'nox' et 'proptax' ne sont pas les mêmes pour toutes les catégories de NOx.\n"
     ]
    }
   ],
   "source": [
    "# Création de variables d'interaction uniquement pour 'nox' et 'proptax' entre les niveaux de NOx\n",
    "df['nox_medium'] = df['nox'] * df['medium']\n",
    "df['nox_high'] = df['nox'] * df['high']\n",
    "df['proptax_medium'] = df['proptax'] * df['medium']\n",
    "df['proptax_high'] = df['proptax'] * df['high']\n",
    "\n",
    "# Préparation du modèle avec les interactions pour 'nox' et 'proptax' uniquement\n",
    "X_interactions_specific = df[['crime', 'nox', 'rooms', 'proptax', \n",
    "                              'nox_medium', 'proptax_medium', \n",
    "                              'nox_high', 'proptax_high']]\n",
    "X_interactions_specific = sm.add_constant(X_interactions_specific)\n",
    "\n",
    "# Régression linéaire avec interactions spécifiques\n",
    "model_interactions_specific = sm.OLS(y, X_interactions_specific).fit()\n",
    "\n",
    "# Test F pour les interactions spécifiques de 'nox' et 'proptax'\n",
    "# Construire une matrice d'identité ajustée pour tester uniquement les interactions spécifiques\n",
    "num_params = len(model_interactions_specific.params)\n",
    "identity_matrix_specific = np.identity(num_params)[[5, 6, 7, 8], :]  # Ajuster les indices pour les interactions\n",
    "\n",
    "results_F_test_specific = model_interactions_specific.f_test(identity_matrix_specific)\n",
    "\n",
    "print(f\"Statistique F spécifique: {results_F_test_specific.fvalue}\")\n",
    "print(f\"P-valeur spécifique: {results_F_test_specific.pvalue}\")\n",
    "\n",
    "# Conclusion du test d'hypothèse spécifique\n",
    "if results_F_test_specific.pvalue < alpha:\n",
    "    print(\"On rejette l'hypothèse nulle au niveau de 10% : les effets de 'nox' et 'proptax' ne sont pas les mêmes pour toutes les catégories de NOx.\")\n",
    "else:\n",
    "    print(\"On ne peut pas rejeter l'hypothèse nulle au niveau de 10% : pas de preuve que les effets de 'nox' et 'proptax' diffèrent entre les catégories de NOx.\")\n"
   ]
  },
  {
   "cell_type": "markdown",
   "metadata": {},
   "source": [
    "$\\underline{Commentaire}$ : Nous rejetons l'hypothèse nulle au niveau de signification de 10%. Cela indique que les effets de nox et proptax sur le prix des logements varient significativement entre les catégories de faibles et de moyens/élevés niveaux de NOx avec un niveau de confiance de 90%.  \n",
    "Ce résultat suggère que les interactions entre les niveaux de NOx et ces deux variables explicatives sont statistiquement significatives, impliquant que l'impact de la pollution par le NOx et du taux de la taxe foncière sur le prix des logements n'est pas uniforme à travers tous les niveaux de NOx. Ainsi, les politiques et les analyses qui ne tiennent pas compte de ces variations pourraient ne pas refléter fidèlement la réalité des effets sur le marché immobilier."
   ]
  },
  {
   "cell_type": "markdown",
   "metadata": {},
   "source": [
    "## PART 2 - HETEROSKEDASTICITY"
   ]
  },
  {
   "cell_type": "markdown",
   "metadata": {},
   "source": [
    "#### Q19. Explain the problem of heteroskedasticity with an example of the course."
   ]
  },
  {
   "cell_type": "markdown",
   "metadata": {},
   "source": [
    "L'hétéroscédasticité survient quand la variance des erreurs dans un modèle de régression n'est pas constante parmi toutes les observations. Cela pose problème car l'une des hypothèses clés de la régression linéaire classique est que ces variances sont identiques, permettant des estimations fiables et des tests statistiques valides.\n",
    "\n",
    "Prenons l'exemple des dépenses de consommation en fonction du revenu des ménages. Si, à mesure que le revenu augmente, la variabilité des dépenses augmente aussi (les ménages riches dépensent de manière plus variable que les ménages pauvres), cela indique une hétéroscédasticité. Cela peut se manifester par une dispersion des résidus qui s'élargit avec l'augmentation du revenu.\n",
    "\n",
    "Cette situation rend les estimations des écarts-types des coefficients biaisées, affectant la fiabilité des tests de significativité et des intervalles de confiance. Bien que les coefficients restent non biaisés, ils ne sont plus les estimations les plus efficaces. Pour corriger l'hétéroscédasticité, on peut transformer les variables ou utiliser des méthodes de pondération. Des tests comme ceux de White ou Breusch-Pagan permettent de détecter formellement cette condition."
   ]
  },
  {
   "cell_type": "markdown",
   "metadata": {},
   "source": [
    "#### Q20. In the specification of question 9, test the hypothesis of no heteroskedasticity of linear form, i.e. in the regression of $u^{2}$ on constant, crime, nox, rooms, proptax, test $H_{0}$: $\\delta_{crime}$, $\\delta_{nox}$, $\\delta_{room}$, $\\delta_{proptax}$ = 0, where the coefficients $\\delta_{k}$ (k = crime, nox, rooms, proptax) are associated with the corresponding explanatory variables."
   ]
  },
  {
   "cell_type": "code",
   "execution_count": null,
   "metadata": {},
   "outputs": [],
   "source": []
  },
  {
   "cell_type": "markdown",
   "metadata": {},
   "source": [
    "#### Q21. In the specification of question 10, test the hypothesis of no heteroskedasticity of linear form."
   ]
  },
  {
   "cell_type": "code",
   "execution_count": null,
   "metadata": {},
   "outputs": [],
   "source": []
  },
  {
   "cell_type": "markdown",
   "metadata": {},
   "source": [
    "#### Q22. In the specification of question 11, test the hypothesis of no heteroskedasticity of linear form."
   ]
  },
  {
   "cell_type": "code",
   "execution_count": null,
   "metadata": {},
   "outputs": [],
   "source": []
  },
  {
   "cell_type": "markdown",
   "metadata": {},
   "source": [
    "#### Q23. Comment on the differences between your results of questions 20,21,22."
   ]
  },
  {
   "cell_type": "code",
   "execution_count": null,
   "metadata": {},
   "outputs": [],
   "source": []
  },
  {
   "cell_type": "markdown",
   "metadata": {},
   "source": [
    "#### Q24. Regardless of the results of the test of question 22, identify the most significant variable causing heteroskedasticity using the student statistics and run a WLS regression with the identified variable as weight. "
   ]
  },
  {
   "cell_type": "code",
   "execution_count": null,
   "metadata": {},
   "outputs": [],
   "source": []
  },
  {
   "cell_type": "markdown",
   "metadata": {},
   "source": [
    "## PART 3 - TIME SERIES DATA\n",
    "\n",
    "This part uses the threecenturies_v2.3 datasets. Import Real GDP at market prices, unemployment rate and consumer price inflation for the period 1900-2000 in Python from the A1 worksheet."
   ]
  },
  {
   "cell_type": "code",
   "execution_count": 26,
   "metadata": {},
   "outputs": [
    {
     "data": {
      "text/html": [
       "<div>\n",
       "<style scoped>\n",
       "    .dataframe tbody tr th:only-of-type {\n",
       "        vertical-align: middle;\n",
       "    }\n",
       "\n",
       "    .dataframe tbody tr th {\n",
       "        vertical-align: top;\n",
       "    }\n",
       "\n",
       "    .dataframe thead th {\n",
       "        text-align: right;\n",
       "    }\n",
       "</style>\n",
       "<table border=\"1\" class=\"dataframe\">\n",
       "  <thead>\n",
       "    <tr style=\"text-align: right;\">\n",
       "      <th></th>\n",
       "      <th>realGDP</th>\n",
       "      <th>unemployment</th>\n",
       "      <th>inflation</th>\n",
       "    </tr>\n",
       "  </thead>\n",
       "  <tbody>\n",
       "    <tr>\n",
       "      <th>0</th>\n",
       "      <td>181160.264436</td>\n",
       "      <td>3.679865</td>\n",
       "      <td>4.058273</td>\n",
       "    </tr>\n",
       "    <tr>\n",
       "      <th>1</th>\n",
       "      <td>184974.529384</td>\n",
       "      <td>4.877351</td>\n",
       "      <td>-0.3</td>\n",
       "    </tr>\n",
       "    <tr>\n",
       "      <th>2</th>\n",
       "      <td>187756.550527</td>\n",
       "      <td>5.145694</td>\n",
       "      <td>0</td>\n",
       "    </tr>\n",
       "    <tr>\n",
       "      <th>3</th>\n",
       "      <td>186015.76815</td>\n",
       "      <td>5.603507</td>\n",
       "      <td>1.10331</td>\n",
       "    </tr>\n",
       "    <tr>\n",
       "      <th>4</th>\n",
       "      <td>188155.559259</td>\n",
       "      <td>6.914821</td>\n",
       "      <td>-0.396825</td>\n",
       "    </tr>\n",
       "  </tbody>\n",
       "</table>\n",
       "</div>"
      ],
      "text/plain": [
       "         realGDP unemployment inflation\n",
       "0  181160.264436     3.679865  4.058273\n",
       "1  184974.529384     4.877351      -0.3\n",
       "2  187756.550527     5.145694         0\n",
       "3   186015.76815     5.603507   1.10331\n",
       "4  188155.559259     6.914821 -0.396825"
      ]
     },
     "execution_count": 26,
     "metadata": {},
     "output_type": "execute_result"
    }
   ],
   "source": [
    "df = pd.read_excel(\n",
    "    \"./data/threecenturies_v2.3.xlsx\",\n",
    "    sheet_name=\"A1. Headline series\",\n",
    "    usecols=[1, 15, 28],\n",
    ")\n",
    "\n",
    "realGDP = df.iloc[246:347, 0].reset_index(drop=True)\n",
    "unemployment = df.iloc[246:347, 1].reset_index(drop=True)\n",
    "inflation = df.iloc[246:347, 2].reset_index(drop=True)\n",
    "\n",
    "df = pd.DataFrame(\n",
    "    {\"realGDP\": realGDP, \"unemployment\": unemployment, \"inflation\": inflation}\n",
    ")\n",
    "\n",
    "df.head()"
   ]
  },
  {
   "cell_type": "markdown",
   "metadata": {},
   "source": [
    "#### Q25. Define strict and weak stationarity."
   ]
  },
  {
   "cell_type": "code",
   "execution_count": null,
   "metadata": {},
   "outputs": [],
   "source": []
  },
  {
   "cell_type": "markdown",
   "metadata": {},
   "source": [
    "#### Q26. Explain ergodicity and state the ergodic theorem. Illustrate with an example."
   ]
  },
  {
   "cell_type": "code",
   "execution_count": null,
   "metadata": {},
   "outputs": [],
   "source": []
  },
  {
   "cell_type": "markdown",
   "metadata": {},
   "source": [
    "#### Q27. Why do we need both stationarity and ergodicity? "
   ]
  },
  {
   "cell_type": "code",
   "execution_count": null,
   "metadata": {},
   "outputs": [],
   "source": []
  },
  {
   "cell_type": "markdown",
   "metadata": {},
   "source": [
    "#### Q28. Explain “spurious regression”."
   ]
  },
  {
   "cell_type": "code",
   "execution_count": null,
   "metadata": {},
   "outputs": [],
   "source": []
  },
  {
   "cell_type": "markdown",
   "metadata": {},
   "source": [
    "#### Q29. Make all time series stationary by computing the difference between the original variable and a moving average of order 10. "
   ]
  },
  {
   "cell_type": "code",
   "execution_count": null,
   "metadata": {},
   "outputs": [],
   "source": []
  },
  {
   "cell_type": "markdown",
   "metadata": {},
   "source": [
    "#### Q30. Using the original dataset, test the unit root hypothesis for all variables."
   ]
  },
  {
   "cell_type": "code",
   "execution_count": null,
   "metadata": {},
   "outputs": [],
   "source": []
  },
  {
   "cell_type": "markdown",
   "metadata": {},
   "source": [
    "#### Q31. Transform all variables so that they are stationary using either your answers to questions 29 or to question 30."
   ]
  },
  {
   "cell_type": "code",
   "execution_count": null,
   "metadata": {},
   "outputs": [],
   "source": []
  },
  {
   "cell_type": "markdown",
   "metadata": {},
   "source": [
    "#### Q32. Explain the difference between ACF and PACF. "
   ]
  },
  {
   "cell_type": "code",
   "execution_count": null,
   "metadata": {},
   "outputs": [],
   "source": []
  },
  {
   "cell_type": "markdown",
   "metadata": {},
   "source": [
    "#### Q33. Plot and comment on the ACF and PACF of all variables. "
   ]
  },
  {
   "cell_type": "code",
   "execution_count": null,
   "metadata": {},
   "outputs": [],
   "source": []
  },
  {
   "cell_type": "markdown",
   "metadata": {},
   "source": [
    "#### Q34. Explain the principle of parsimony and its relationship with Ockham’s razor using the theory of information criterion."
   ]
  },
  {
   "cell_type": "code",
   "execution_count": null,
   "metadata": {},
   "outputs": [],
   "source": []
  },
  {
   "cell_type": "markdown",
   "metadata": {},
   "source": [
    "#### Q35. Explain the problem of auto-correlation of the errors."
   ]
  },
  {
   "cell_type": "code",
   "execution_count": null,
   "metadata": {},
   "outputs": [],
   "source": []
  },
  {
   "cell_type": "markdown",
   "metadata": {},
   "source": [
    "#### Q36. Using only stationary variables, run a regression of GDP on constant, unemployment and inflation and test the hypothesis of no-autocorrelation of errors."
   ]
  },
  {
   "cell_type": "code",
   "execution_count": null,
   "metadata": {},
   "outputs": [],
   "source": []
  },
  {
   "cell_type": "markdown",
   "metadata": {},
   "source": [
    "#### Q37. Regardless of your answer to question 36, correct auto-correlation with GLS. Comment on your results."
   ]
  },
  {
   "cell_type": "code",
   "execution_count": null,
   "metadata": {},
   "outputs": [],
   "source": []
  },
  {
   "cell_type": "markdown",
   "metadata": {},
   "source": [
    "#### Q38. For all variables, construct their lag 1 and lag 2 variables."
   ]
  },
  {
   "cell_type": "code",
   "execution_count": null,
   "metadata": {},
   "outputs": [],
   "source": []
  },
  {
   "cell_type": "markdown",
   "metadata": {},
   "source": [
    "#### Q39. Run a regression of GDP on constant, lag 1 unemployment, lag 2 unemployment, lag 1 inflation, lag 2 inflation. What is the number of observations and why?"
   ]
  },
  {
   "cell_type": "code",
   "execution_count": null,
   "metadata": {},
   "outputs": [],
   "source": []
  },
  {
   "cell_type": "markdown",
   "metadata": {},
   "source": [
    "#### Q40. State and test the no-Granger causality hypothesis of unemployment on GDP at the 1% level."
   ]
  },
  {
   "cell_type": "code",
   "execution_count": null,
   "metadata": {},
   "outputs": [],
   "source": []
  },
  {
   "cell_type": "markdown",
   "metadata": {},
   "source": [
    "#### Q41. Divide the sample in two groups: 1900-1960 and 1961-2000. Test the stability of coefficients between the two periods."
   ]
  },
  {
   "cell_type": "code",
   "execution_count": null,
   "metadata": {},
   "outputs": [],
   "source": []
  },
  {
   "cell_type": "markdown",
   "metadata": {},
   "source": [
    "#### Q42. Test the structural breakpoint using a trim ratio of 30% at the 1% level."
   ]
  },
  {
   "cell_type": "code",
   "execution_count": null,
   "metadata": {},
   "outputs": [],
   "source": []
  }
 ],
 "metadata": {
  "kernelspec": {
   "display_name": "base",
   "language": "python",
   "name": "python3"
  },
  "language_info": {
   "codemirror_mode": {
    "name": "ipython",
    "version": 3
   },
   "file_extension": ".py",
   "mimetype": "text/x-python",
   "name": "python",
   "nbconvert_exporter": "python",
   "pygments_lexer": "ipython3",
   "version": "3.11.5"
  }
 },
 "nbformat": 4,
 "nbformat_minor": 2
}
