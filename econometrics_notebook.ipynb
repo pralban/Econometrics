{
 "cells": [
  {
   "cell_type": "markdown",
   "metadata": {},
   "source": [
    "# Economotrics Project (BGD708)"
   ]
  },
  {
   "cell_type": "markdown",
   "metadata": {},
   "source": [
    "#### Author: \n",
    "Alban Pereira (alban.pereira@telecom-paris.fr)\n",
    "\n",
    "Laurent Gayraud (laurent.gayraud@telecom-paris.fr)"
   ]
  },
  {
   "cell_type": "markdown",
   "metadata": {},
   "source": [
    "## Imports"
   ]
  },
  {
   "cell_type": "code",
   "execution_count": 7,
   "metadata": {},
   "outputs": [],
   "source": [
    "import pandas as pd\n",
    "import numpy as np\n",
    "import seaborn as sns\n",
    "import matplotlib.pyplot as plt"
   ]
  },
  {
   "cell_type": "markdown",
   "metadata": {},
   "source": [
    "## PART 1 - CROSS-SECTION DATA\n",
    "\n",
    "This part uses the dataset HPRICE2.RAW described in HPRICE2.DES."
   ]
  },
  {
   "cell_type": "code",
   "execution_count": 5,
   "metadata": {},
   "outputs": [
    {
     "data": {
      "text/html": [
       "<div>\n",
       "<style scoped>\n",
       "    .dataframe tbody tr th:only-of-type {\n",
       "        vertical-align: middle;\n",
       "    }\n",
       "\n",
       "    .dataframe tbody tr th {\n",
       "        vertical-align: top;\n",
       "    }\n",
       "\n",
       "    .dataframe thead th {\n",
       "        text-align: right;\n",
       "    }\n",
       "</style>\n",
       "<table border=\"1\" class=\"dataframe\">\n",
       "  <thead>\n",
       "    <tr style=\"text-align: right;\">\n",
       "      <th></th>\n",
       "      <th>price</th>\n",
       "      <th>crime</th>\n",
       "      <th>nox</th>\n",
       "      <th>rooms</th>\n",
       "      <th>dist</th>\n",
       "      <th>radial</th>\n",
       "      <th>proptax</th>\n",
       "      <th>stratio</th>\n",
       "      <th>lowstat</th>\n",
       "      <th>lprice</th>\n",
       "      <th>lnox</th>\n",
       "      <th>lproptax</th>\n",
       "    </tr>\n",
       "  </thead>\n",
       "  <tbody>\n",
       "    <tr>\n",
       "      <th>0</th>\n",
       "      <td>24000</td>\n",
       "      <td>0.006</td>\n",
       "      <td>5.38</td>\n",
       "      <td>6.57</td>\n",
       "      <td>4.09</td>\n",
       "      <td>1</td>\n",
       "      <td>29.6</td>\n",
       "      <td>15.3</td>\n",
       "      <td>4.98</td>\n",
       "      <td>10.085810</td>\n",
       "      <td>1.682688</td>\n",
       "      <td>5.690360</td>\n",
       "    </tr>\n",
       "    <tr>\n",
       "      <th>1</th>\n",
       "      <td>21599</td>\n",
       "      <td>0.027</td>\n",
       "      <td>4.69</td>\n",
       "      <td>6.42</td>\n",
       "      <td>4.97</td>\n",
       "      <td>2</td>\n",
       "      <td>24.2</td>\n",
       "      <td>17.8</td>\n",
       "      <td>9.14</td>\n",
       "      <td>9.980402</td>\n",
       "      <td>1.545433</td>\n",
       "      <td>5.488938</td>\n",
       "    </tr>\n",
       "    <tr>\n",
       "      <th>2</th>\n",
       "      <td>34700</td>\n",
       "      <td>0.027</td>\n",
       "      <td>4.69</td>\n",
       "      <td>7.18</td>\n",
       "      <td>4.97</td>\n",
       "      <td>2</td>\n",
       "      <td>24.2</td>\n",
       "      <td>17.8</td>\n",
       "      <td>4.03</td>\n",
       "      <td>10.454500</td>\n",
       "      <td>1.545433</td>\n",
       "      <td>5.488938</td>\n",
       "    </tr>\n",
       "    <tr>\n",
       "      <th>3</th>\n",
       "      <td>33400</td>\n",
       "      <td>0.032</td>\n",
       "      <td>4.58</td>\n",
       "      <td>7.00</td>\n",
       "      <td>6.06</td>\n",
       "      <td>3</td>\n",
       "      <td>22.2</td>\n",
       "      <td>18.7</td>\n",
       "      <td>2.94</td>\n",
       "      <td>10.416310</td>\n",
       "      <td>1.521699</td>\n",
       "      <td>5.402678</td>\n",
       "    </tr>\n",
       "    <tr>\n",
       "      <th>4</th>\n",
       "      <td>36199</td>\n",
       "      <td>0.069</td>\n",
       "      <td>4.58</td>\n",
       "      <td>7.15</td>\n",
       "      <td>6.06</td>\n",
       "      <td>3</td>\n",
       "      <td>22.2</td>\n",
       "      <td>18.7</td>\n",
       "      <td>5.33</td>\n",
       "      <td>10.496790</td>\n",
       "      <td>1.521699</td>\n",
       "      <td>5.402678</td>\n",
       "    </tr>\n",
       "  </tbody>\n",
       "</table>\n",
       "</div>"
      ],
      "text/plain": [
       "   price  crime   nox  rooms  dist  radial  proptax  stratio  lowstat  \\\n",
       "0  24000  0.006  5.38   6.57  4.09       1     29.6     15.3     4.98   \n",
       "1  21599  0.027  4.69   6.42  4.97       2     24.2     17.8     9.14   \n",
       "2  34700  0.027  4.69   7.18  4.97       2     24.2     17.8     4.03   \n",
       "3  33400  0.032  4.58   7.00  6.06       3     22.2     18.7     2.94   \n",
       "4  36199  0.069  4.58   7.15  6.06       3     22.2     18.7     5.33   \n",
       "\n",
       "      lprice      lnox  lproptax  \n",
       "0  10.085810  1.682688  5.690360  \n",
       "1   9.980402  1.545433  5.488938  \n",
       "2  10.454500  1.545433  5.488938  \n",
       "3  10.416310  1.521699  5.402678  \n",
       "4  10.496790  1.521699  5.402678  "
      ]
     },
     "execution_count": 5,
     "metadata": {},
     "output_type": "execute_result"
    }
   ],
   "source": [
    "df = pd.read_csv('data/HPRICE2.raw', delim_whitespace=True, header=None)\n",
    "\n",
    "# Assuming the first row is not a header based on the description file, let's set the column names\n",
    "columns = [\n",
    "    \"price\", \"crime\", \"nox\", \"rooms\", \"dist\", \"radial\", \"proptax\", \"stratio\",\n",
    "    \"lowstat\", \"lprice\", \"lnox\", \"lproptax\"\n",
    "]\n",
    "df.columns = columns\n",
    "\n",
    "df.head()"
   ]
  },
  {
   "cell_type": "code",
   "execution_count": 2,
   "metadata": {},
   "outputs": [
    {
     "data": {
      "text/plain": [
       "'HPRICE2.DES\\n\\nprice     crime     nox       rooms     dist      radial    proptax   stratio  \\nlowstat   lprice    lnox      lproptax  \\n\\n  Obs:   506\\n\\n  1. price                    median housing price, $\\n  2. crime                    crimes committed per capita\\n  3. nox                      nitrous oxide, parts per 100 mill.\\n  4. rooms                    avg number of rooms per house\\n  5. dist                     weighted dist. to 5 employ centers\\n  6. radial                   accessibiliy index '"
      ]
     },
     "execution_count": 2,
     "metadata": {},
     "output_type": "execute_result"
    }
   ],
   "source": [
    "# Load the content of the HPRICE2.DES file to understand its structure and information provided.\n",
    "description_file_path = 'data/HPRICE2.DES'\n",
    "\n",
    "with open(description_file_path, 'r') as file:\n",
    "    description_content = file.read()\n",
    "\n",
    "# Show the first 500 characters to get an idea of the content\n",
    "description_content[:500]"
   ]
  },
  {
   "cell_type": "markdown",
   "metadata": {},
   "source": [
    "The HPRICE2.DES file describes a dataset containing 506 observations with the following variables:\n",
    "1. price                    median housing price, $\n",
    "2. crime                    crimes committed per capita\n",
    "3. nox                      nitrous oxide, parts per 100 mill.\n",
    "4. rooms                    avg number of rooms per house\n",
    "5. dist                     weighted dist. to 5 employ centers\n",
    "6. radial                   accessibiliy index to radial hghwys\n",
    "7. proptax                  property tax per $1000\n",
    "8. stratio                  average student-teacher ratio\n",
    "9. lowstat                  % of people 'lower status'\n",
    "10. lprice                   log(price)\n",
    "11. lnox                     log(nox)\n",
    "12. lproptax                 log(proptax)"
   ]
  },
  {
   "cell_type": "markdown",
   "metadata": {},
   "source": [
    "#### Q1. State the fundamental hypothesis under which the Ordinary Least Squares (OLS) estimators are unbiased."
   ]
  },
  {
   "cell_type": "markdown",
   "metadata": {},
   "source": [
    "To ensure that the Ordinary Least Squares (OLS) estimators are unbiased, the fundamental hypothesis is the Linear Regression Model assumptions, specifically:\n",
    "\n",
    "1. Linearity in Parameters: The model in which we are estimating the parameters must be linear in parameters. This does not mean the model must be linear in variables; for example, a model can include squared terms or interaction terms and still be considered linear in parameters.\n",
    "\n",
    "2. Random Sampling: The data used to estimate the model is assumed to be a random sample of the population.\n",
    "\n",
    "3. No Perfect Multicollinearity: There must not be perfect multicollinearity in the model. In other words, no independent variable is a perfect linear combination of the others.\n",
    "\n",
    "4. Zero Conditional Mean: The expected value of the error term (u) given any value of the independent variables (X) is zero, $E(u∣X) = 0$. This assumption is crucial because it implies that the error term does not systematically vary with the independent variables. When this condition is violated, it often indicates omitted variable bias where the omitted variable is correlated with both the independent variable(s) and the dependent variable.\n",
    "\n",
    "5. Homoscedasticity (optional for unbiasedness but necessary for efficiency and for conducting valid hypothesis tests using standard errors): The variance of the error terms is constant across all levels of the independent variables. When this assumption is violated, it is referred to as heteroscedasticity.\n",
    "\n",
    "When these conditions are met, the OLS estimators provide unbiased estimates of the regression coefficients."
   ]
  },
  {
   "cell_type": "markdown",
   "metadata": {},
   "source": [
    "#### Q2. Show that under this assumption the OLS estimators are indeed unbiased."
   ]
  },
  {
   "cell_type": "markdown",
   "metadata": {},
   "source": [
    "Under the assumption that $E(u|X) = 0$, where $u$ is the error term and $X$ represents the independent variables, OLS estimators $\\hat{\\beta}$ are unbiased. This is shown as follows:\n",
    "\n",
    "Given a linear model $Y = X\\beta + u$,\n",
    "\n",
    "1. The OLS estimator $\\hat{\\beta}$ is given by $\\hat{\\beta} = (X'X)^{-1}X'Y$.\n",
    "2. Substituting $Y = X\\beta + u$ into the estimator equation gives $\\hat{\\beta} = (X'X)^{-1}X'(X\\beta + u)$.\n",
    "3. Simplifying, $\\hat{\\beta} = \\beta + (X'X)^{-1}X'u$.\n",
    "\n",
    "Taking the expectation:\n",
    "\n",
    "4. $E(\\hat{\\beta}) = E(\\beta + (X'X)^{-1}X'u) = \\beta + (X'X)^{-1}X'E(u)$.\n",
    "\n",
    "Given $E(u|X) = 0$, it follows that $E(u) = 0$, so:\n",
    "\n",
    "5. $E(\\hat{\\beta}) = \\beta$.\n",
    "\n",
    "Therefore, under the assumption $E(u|X) = 0$, the OLS estimators $\\hat{\\beta}$ are unbiased, meaning $E(\\hat{\\beta}) = \\beta$."
   ]
  },
  {
   "cell_type": "markdown",
   "metadata": {},
   "source": [
    "#### Q3. Explain the sample selection bias with an example from the course."
   ]
  },
  {
   "cell_type": "markdown",
   "metadata": {},
   "source": [
    "Sample selection bias occurs when the sample does not represent the population accurately, leading to biased estimates.\n",
    "\n",
    "An example from the course is the study of fertilizer's effect on crop yield. If more fertilizer is systematically applied to inherently more fertile land, the analysis may incorrectly attribute the higher yield to the fertilizer, overlooking the land's inherent fertility. This happens because the selection of plots for fertilization is influenced by an unobserved factor (land fertility) that also affects the outcome (yield), causing an overestimation of the fertilizer's effect. Correcting this bias requires techniques to account for such unobserved variables."
   ]
  },
  {
   "cell_type": "markdown",
   "metadata": {},
   "source": [
    "#### Q4. Explain the omitted variable bias with an example from the course."
   ]
  },
  {
   "cell_type": "markdown",
   "metadata": {},
   "source": [
    "Omitted variable bias happens when a relevant variable is left out of a model, causing biased estimates of other variables' effects.\n",
    "\n",
    "An example from the course related to the effect of education on wages might illustrate this concept well. If we examine how education affects wages without accounting for work experience, we might overstate education's impact. This is because both education and work experience influence wages, but omitting work experience means part of the observed effect of education on wages may actually be due to work experience, which is correlated with education."
   ]
  },
  {
   "cell_type": "markdown",
   "metadata": {},
   "source": [
    "#### Q5. Explain the problem of multicollinearity. Is it a problem in this dataset?"
   ]
  },
  {
   "cell_type": "markdown",
   "metadata": {},
   "source": [
    "Multicollinearity occurs when two or more independent variables in a regression model are highly correlated, making it difficult to isolate the individual effect of each variable on the dependent variable. This doesn't bias the estimates themselves, but it can make the estimates very sensitive to changes in the model or data, leading to large variances for the coefficient estimates, which undermines the statistical significance of the independent variables.\n",
    "\n",
    "To determine if multicollinearity is a problem in the provided dataset, we can examine the correlation matrix of the independent variables or calculate the Variance Inflation Factor (VIF) for each independent variable. A VIF value greater than 10 (or, more conservatively, greater than 5) is often considered indicative of multicollinearity."
   ]
  },
  {
   "cell_type": "code",
   "execution_count": 11,
   "metadata": {},
   "outputs": [
    {
     "data": {
      "text/html": [
       "<div>\n",
       "<style scoped>\n",
       "    .dataframe tbody tr th:only-of-type {\n",
       "        vertical-align: middle;\n",
       "    }\n",
       "\n",
       "    .dataframe tbody tr th {\n",
       "        vertical-align: top;\n",
       "    }\n",
       "\n",
       "    .dataframe thead th {\n",
       "        text-align: right;\n",
       "    }\n",
       "</style>\n",
       "<table border=\"1\" class=\"dataframe\">\n",
       "  <thead>\n",
       "    <tr style=\"text-align: right;\">\n",
       "      <th></th>\n",
       "      <th>crime</th>\n",
       "      <th>nox</th>\n",
       "      <th>rooms</th>\n",
       "      <th>dist</th>\n",
       "      <th>radial</th>\n",
       "      <th>proptax</th>\n",
       "      <th>stratio</th>\n",
       "      <th>lowstat</th>\n",
       "      <th>lnox</th>\n",
       "      <th>lproptax</th>\n",
       "    </tr>\n",
       "  </thead>\n",
       "  <tbody>\n",
       "    <tr>\n",
       "      <th>crime</th>\n",
       "      <td>1.000000</td>\n",
       "      <td>0.421152</td>\n",
       "      <td>-0.218816</td>\n",
       "      <td>-0.379909</td>\n",
       "      <td>0.625442</td>\n",
       "      <td>0.582819</td>\n",
       "      <td>0.288691</td>\n",
       "      <td>0.447033</td>\n",
       "      <td>0.429639</td>\n",
       "      <td>0.551393</td>\n",
       "    </tr>\n",
       "    <tr>\n",
       "      <th>nox</th>\n",
       "      <td>0.421152</td>\n",
       "      <td>1.000000</td>\n",
       "      <td>-0.302828</td>\n",
       "      <td>-0.770222</td>\n",
       "      <td>0.610328</td>\n",
       "      <td>0.666981</td>\n",
       "      <td>0.186863</td>\n",
       "      <td>0.585613</td>\n",
       "      <td>0.993943</td>\n",
       "      <td>0.659206</td>\n",
       "    </tr>\n",
       "    <tr>\n",
       "      <th>rooms</th>\n",
       "      <td>-0.218816</td>\n",
       "      <td>-0.302828</td>\n",
       "      <td>1.000000</td>\n",
       "      <td>0.205410</td>\n",
       "      <td>-0.209773</td>\n",
       "      <td>-0.292120</td>\n",
       "      <td>-0.354008</td>\n",
       "      <td>-0.609605</td>\n",
       "      <td>-0.304988</td>\n",
       "      <td>-0.299269</td>\n",
       "    </tr>\n",
       "    <tr>\n",
       "      <th>dist</th>\n",
       "      <td>-0.379909</td>\n",
       "      <td>-0.770222</td>\n",
       "      <td>0.205410</td>\n",
       "      <td>1.000000</td>\n",
       "      <td>-0.495065</td>\n",
       "      <td>-0.534379</td>\n",
       "      <td>-0.229269</td>\n",
       "      <td>-0.495602</td>\n",
       "      <td>-0.808795</td>\n",
       "      <td>-0.513897</td>\n",
       "    </tr>\n",
       "    <tr>\n",
       "      <th>radial</th>\n",
       "      <td>0.625442</td>\n",
       "      <td>0.610328</td>\n",
       "      <td>-0.209773</td>\n",
       "      <td>-0.495065</td>\n",
       "      <td>1.000000</td>\n",
       "      <td>0.910228</td>\n",
       "      <td>0.464244</td>\n",
       "      <td>0.476038</td>\n",
       "      <td>0.624171</td>\n",
       "      <td>0.863531</td>\n",
       "    </tr>\n",
       "    <tr>\n",
       "      <th>proptax</th>\n",
       "      <td>0.582819</td>\n",
       "      <td>0.666981</td>\n",
       "      <td>-0.292120</td>\n",
       "      <td>-0.534379</td>\n",
       "      <td>0.910228</td>\n",
       "      <td>1.000000</td>\n",
       "      <td>0.454238</td>\n",
       "      <td>0.527624</td>\n",
       "      <td>0.677314</td>\n",
       "      <td>0.988586</td>\n",
       "    </tr>\n",
       "    <tr>\n",
       "      <th>stratio</th>\n",
       "      <td>0.288691</td>\n",
       "      <td>0.186863</td>\n",
       "      <td>-0.354008</td>\n",
       "      <td>-0.229269</td>\n",
       "      <td>0.464244</td>\n",
       "      <td>0.454238</td>\n",
       "      <td>1.000000</td>\n",
       "      <td>0.365402</td>\n",
       "      <td>0.227910</td>\n",
       "      <td>0.422231</td>\n",
       "    </tr>\n",
       "    <tr>\n",
       "      <th>lowstat</th>\n",
       "      <td>0.447033</td>\n",
       "      <td>0.585613</td>\n",
       "      <td>-0.609605</td>\n",
       "      <td>-0.495602</td>\n",
       "      <td>0.476038</td>\n",
       "      <td>0.527624</td>\n",
       "      <td>0.365402</td>\n",
       "      <td>1.000000</td>\n",
       "      <td>0.596220</td>\n",
       "      <td>0.510948</td>\n",
       "    </tr>\n",
       "    <tr>\n",
       "      <th>lnox</th>\n",
       "      <td>0.429639</td>\n",
       "      <td>0.993943</td>\n",
       "      <td>-0.304988</td>\n",
       "      <td>-0.808795</td>\n",
       "      <td>0.624171</td>\n",
       "      <td>0.677314</td>\n",
       "      <td>0.227910</td>\n",
       "      <td>0.596220</td>\n",
       "      <td>1.000000</td>\n",
       "      <td>0.667252</td>\n",
       "    </tr>\n",
       "    <tr>\n",
       "      <th>lproptax</th>\n",
       "      <td>0.551393</td>\n",
       "      <td>0.659206</td>\n",
       "      <td>-0.299269</td>\n",
       "      <td>-0.513897</td>\n",
       "      <td>0.863531</td>\n",
       "      <td>0.988586</td>\n",
       "      <td>0.422231</td>\n",
       "      <td>0.510948</td>\n",
       "      <td>0.667252</td>\n",
       "      <td>1.000000</td>\n",
       "    </tr>\n",
       "  </tbody>\n",
       "</table>\n",
       "</div>"
      ],
      "text/plain": [
       "             crime       nox     rooms      dist    radial   proptax  \\\n",
       "crime     1.000000  0.421152 -0.218816 -0.379909  0.625442  0.582819   \n",
       "nox       0.421152  1.000000 -0.302828 -0.770222  0.610328  0.666981   \n",
       "rooms    -0.218816 -0.302828  1.000000  0.205410 -0.209773 -0.292120   \n",
       "dist     -0.379909 -0.770222  0.205410  1.000000 -0.495065 -0.534379   \n",
       "radial    0.625442  0.610328 -0.209773 -0.495065  1.000000  0.910228   \n",
       "proptax   0.582819  0.666981 -0.292120 -0.534379  0.910228  1.000000   \n",
       "stratio   0.288691  0.186863 -0.354008 -0.229269  0.464244  0.454238   \n",
       "lowstat   0.447033  0.585613 -0.609605 -0.495602  0.476038  0.527624   \n",
       "lnox      0.429639  0.993943 -0.304988 -0.808795  0.624171  0.677314   \n",
       "lproptax  0.551393  0.659206 -0.299269 -0.513897  0.863531  0.988586   \n",
       "\n",
       "           stratio   lowstat      lnox  lproptax  \n",
       "crime     0.288691  0.447033  0.429639  0.551393  \n",
       "nox       0.186863  0.585613  0.993943  0.659206  \n",
       "rooms    -0.354008 -0.609605 -0.304988 -0.299269  \n",
       "dist     -0.229269 -0.495602 -0.808795 -0.513897  \n",
       "radial    0.464244  0.476038  0.624171  0.863531  \n",
       "proptax   0.454238  0.527624  0.677314  0.988586  \n",
       "stratio   1.000000  0.365402  0.227910  0.422231  \n",
       "lowstat   0.365402  1.000000  0.596220  0.510948  \n",
       "lnox      0.227910  0.596220  1.000000  0.667252  \n",
       "lproptax  0.422231  0.510948  0.667252  1.000000  "
      ]
     },
     "execution_count": 11,
     "metadata": {},
     "output_type": "execute_result"
    }
   ],
   "source": [
    "# Calculate the correlation matrix for the independent variables in the dataset to assess multicollinearity\n",
    "correlation_matrix = df.drop(['price', 'lprice'], axis=1).corr()\n",
    "\n",
    "# Display the correlation matrix\n",
    "correlation_matrix"
   ]
  },
  {
   "cell_type": "code",
   "execution_count": 12,
   "metadata": {},
   "outputs": [
    {
     "data": {
      "image/png": "[encoded data removed]",
      "text/plain": [
       "<Figure size 1000x800 with 2 Axes>"
      ]
     },
     "metadata": {},
     "output_type": "display_data"
    }
   ],
   "source": [
    "# Plot heatmap of the correlation matrix\n",
    "plt.figure(figsize=(10, 8))\n",
    "sns.heatmap(correlation_matrix, annot=True, cmap='coolwarm', center=0)\n",
    "plt.title('Correlation Matrix of Independent Variables')\n",
    "plt.show()"
   ]
  },
  {
   "cell_type": "markdown",
   "metadata": {},
   "source": [
    "The correlation matrix and the heatmap reveal several pairs of independent variables with high correlation coefficients, indicating potential multicollinearity issues in the dataset. For example:\n",
    "\n",
    "- <i>nox</i> and <i>lnox</i> have a very high correlation near 1, which is expected since <i>lnox</i> is the logarithm of <i>nox</i>.\n",
    "- <i>proptax</i> and <i>lproptax</i> also show a very high correlation for the same reason.\n",
    "- <i>radial</i> and <i>proptax</i> have a correlation coefficient of 0.91, suggesting a strong linear relationship.\n",
    "- <i>dist</i> and <i>nox</i> have a negative correlation of -0.77, indicating that as the distance from employment centers increases, the concentration of nitrous oxides decreases."
   ]
  },
  {
   "cell_type": "markdown",
   "metadata": {},
   "source": [
    "#### Q6. Create three categories of nox levels (low, medium, high), corresponding to the following percentiles: 0-25%, 26%-74%, 75%-100%"
   ]
  },
  {
   "cell_type": "code",
   "execution_count": 14,
   "metadata": {},
   "outputs": [
    {
     "data": {
      "text/plain": [
       "nox_level\n",
       "Medium    254\n",
       "Low       128\n",
       "High      124\n",
       "Name: count, dtype: int64"
      ]
     },
     "execution_count": 14,
     "metadata": {},
     "output_type": "execute_result"
    }
   ],
   "source": [
    "# Calculate the percentiles for the 'nox' variable\n",
    "nox_sorted = df['nox'].sort_values()\n",
    "n = len(nox_sorted)\n",
    "index_25th = int(n * 0.25)\n",
    "index_75th = int(n * 0.75)\n",
    "\n",
    "# Get the values at the 25th and 75th percentiles\n",
    "value_25th = nox_sorted.iloc[index_25th]\n",
    "value_75th = nox_sorted.iloc[index_75th]\n",
    "\n",
    "# Create categories based on these percentiles\n",
    "df['nox_category'] = pd.cut(df['nox'], bins=[nox_sorted.min(), value_25th, value_75th, nox_sorted.max()], labels=['low', 'medium', 'high'], include_lowest=True)\n",
    "\n",
    "# Display the distribution of the new categories\n",
    "df['nox_level'].value_counts()"
   ]
  },
  {
   "cell_type": "markdown",
   "metadata": {},
   "source": [
    "#### Q7. Compute for each category of <i>nox</i> level the average median price and comment on your results."
   ]
  },
  {
   "cell_type": "code",
   "execution_count": 16,
   "metadata": {},
   "outputs": [
    {
     "data": {
      "text/plain": [
       "nox_category\n",
       "low       24349.0\n",
       "medium    21150.0\n",
       "high      14250.0\n",
       "Name: price, dtype: float64"
      ]
     },
     "execution_count": 16,
     "metadata": {},
     "output_type": "execute_result"
    }
   ],
   "source": [
    "# Compute for each category of nox level the average median price and comment on your results\n",
    "df.groupby('nox_category')['price'].median()"
   ]
  },
  {
   "cell_type": "markdown",
   "metadata": {},
   "source": [
    "<b>Commentary :</b>\n",
    "\n",
    "These results indicate a clear negative relationship between the levels of nitrous oxide (<i>nox</i>) and the average median <i>price</i> of housing. As the <i>nox</i> level increases from low to high, the average median price decreases significantly. This suggests that higher levels of pollution (as indicated by higher <i>nox</i> levels) are associated with lower housing <i>prices</i>, which could be due to lower desirability of living in more polluted areas."
   ]
  },
  {
   "cell_type": "markdown",
   "metadata": {},
   "source": [
    "#### Q8. Produce a scatter plot with the variable <i>price</i> on the y-axis and the variable <i>nox</i> on the x-axis. Is this a ceteris paribus effect?"
   ]
  },
  {
   "cell_type": "code",
   "execution_count": 19,
   "metadata": {},
   "outputs": [
    {
     "data": {
      "image/png": "[encoded data removed]",
      "text/plain": [
       "<Figure size 1000x600 with 1 Axes>"
      ]
     },
     "metadata": {},
     "output_type": "display_data"
    }
   ],
   "source": [
    "# Plotting the scatter plot of 'nox' vs 'price'\n",
    "plt.figure(figsize=(10, 6))\n",
    "plt.scatter(df['nox'], df['price'])\n",
    "plt.title('Scatter Plot of NOx Levels vs. Median Housing Price')\n",
    "plt.xlabel('NOx Levels (parts per 100 mill.)')\n",
    "plt.ylabel('Median Housing Price ($)')\n",
    "plt.grid(True)\n",
    "plt.show()"
   ]
  },
  {
   "cell_type": "markdown",
   "metadata": {},
   "source": [
    "<b> Commentary : </b>\n",
    "\n",
    "The scatter plot of NOx levels versus median housing prices shows a general trend where housing prices tend to decrease as NOx levels increase. This visual trend supports the idea that areas with higher pollution levels (as measured by NOx) tend to have lower housing prices."
   ]
  },
  {
   "cell_type": "markdown",
   "metadata": {},
   "source": [
    "No, this scatter plot does not represent a ceteris paribus effect.\n",
    "\n",
    "In a ceteris paribus analysis, we examine the effect of changing one variable while keeping all other variables constant. However, in a scatter plot like the one created here, each data point represents a unique observation where multiple variables, including <i>nox</i> and <i>price</i>, can vary simultaneously.\n",
    "\n",
    "Therefore, without controlling for other variables, we cannot isolate the effect of <i>nox</i> on <i>price</i> while holding all other variables constant.\n",
    "\n",
    "To perform a ceteris paribus analysis, we would typically use techniques like regression analysis, where we can control for the effects of other variables while examining the relationship between <i>nox</i> and <i>price</i>."
   ]
  },
  {
   "cell_type": "markdown",
   "metadata": {},
   "source": [
    "#### Q9. Run a regression of <i>price</i> on a <i>constant</i>, <i>crime</i>, <i>nox</i>, <i>rooms</i>, <i>proptax</i>. Comment on the histogram of the residuals. Interpret all coefficients."
   ]
  },
  {
   "cell_type": "code",
   "execution_count": null,
   "metadata": {},
   "outputs": [],
   "source": []
  },
  {
   "cell_type": "markdown",
   "metadata": {},
   "source": [
    "#### Q10. Run a regression of <i>lprice</i> on a <i>constant</i>, <i>crime</i>, <i>nox</i>, <i>rooms</i>, <i>proptax</i>. Interpret all coefficients."
   ]
  },
  {
   "cell_type": "code",
   "execution_count": null,
   "metadata": {},
   "outputs": [],
   "source": []
  },
  {
   "cell_type": "markdown",
   "metadata": {},
   "source": [
    "#### Q11. Run a regression of <i>lprice</i> on a <i>constant</i>, <i>crime</i>, <i>lnox</i>, <i>rooms</i>, <i>lproptax</i>. Interpret all coefficients."
   ]
  },
  {
   "cell_type": "code",
   "execution_count": null,
   "metadata": {},
   "outputs": [],
   "source": []
  },
  {
   "cell_type": "markdown",
   "metadata": {},
   "source": [
    "#### Q12. In the specification of question 9, test the hypothesis H0: $\\beta_{nox}$ = 0 vs. H1: $\\beta_{nox}$ > 0 at the 1% level."
   ]
  },
  {
   "cell_type": "code",
   "execution_count": null,
   "metadata": {},
   "outputs": [],
   "source": []
  },
  {
   "cell_type": "markdown",
   "metadata": {},
   "source": [
    "#### Q13. In the specification of question 9, test the hypothesis H0: $\\beta_{nox}$ = 0 vs. H1: $\\beta_{nox}$ ≠ 0 at the 1% level using the p-value of the test."
   ]
  },
  {
   "cell_type": "code",
   "execution_count": null,
   "metadata": {},
   "outputs": [],
   "source": []
  },
  {
   "cell_type": "markdown",
   "metadata": {},
   "source": [
    "#### Q14. In the specification of question 9, test the hypothesis H0: $\\beta_{crime}$ = $\\beta_{proptax}$ at the 10% level."
   ]
  },
  {
   "cell_type": "code",
   "execution_count": null,
   "metadata": {},
   "outputs": [],
   "source": []
  },
  {
   "cell_type": "markdown",
   "metadata": {},
   "source": [
    "#### Q15. In the specification of question 9, test the hypothesis H0: $\\beta_{nox}$ = 0, $\\beta_{proptax}$ = 0 at the 10% level."
   ]
  },
  {
   "cell_type": "code",
   "execution_count": null,
   "metadata": {},
   "outputs": [],
   "source": []
  },
  {
   "cell_type": "markdown",
   "metadata": {},
   "source": [
    "#### Q16. In the specification of question 9, test the hypothesis H0: $\\beta_{nox}$ = -500, $\\beta_{proptax}$ = -100 at the 10% level using the p-value of the test."
   ]
  },
  {
   "cell_type": "code",
   "execution_count": null,
   "metadata": {},
   "outputs": [],
   "source": []
  },
  {
   "cell_type": "markdown",
   "metadata": {},
   "source": [
    "#### Q17. In the specification of question 9, test the hypothesis that all coefficients are the same for observations with low levels of <i>nox</i> vs. medium and high levels of <i>nox</i>. "
   ]
  },
  {
   "cell_type": "code",
   "execution_count": null,
   "metadata": {},
   "outputs": [],
   "source": []
  },
  {
   "cell_type": "markdown",
   "metadata": {},
   "source": [
    "#### Q18. Repeat the test of question 17 but now assuming that only the coefficients of <i>nox</i> and <i>proptax</i> can change between the two groups of observations. State and test $H_{0}$."
   ]
  },
  {
   "cell_type": "code",
   "execution_count": null,
   "metadata": {},
   "outputs": [],
   "source": []
  },
  {
   "cell_type": "markdown",
   "metadata": {},
   "source": [
    "## PART 2 - HETEROSKEDASTICITY"
   ]
  },
  {
   "cell_type": "markdown",
   "metadata": {},
   "source": [
    "#### Q19. Explain the problem of heteroskedasticity with an example of the course. "
   ]
  },
  {
   "cell_type": "code",
   "execution_count": null,
   "metadata": {},
   "outputs": [],
   "source": []
  },
  {
   "cell_type": "markdown",
   "metadata": {},
   "source": [
    "#### Q20. In the specification of question 9, test the hypothesis of no heteroskedasticity of linear form, i.e. in the regression of $u^{2}$ on constant, crime, nox, rooms, proptax, test $H_{0}$: $\\delta_{crime}$, $\\delta_{nox}$, $\\delta_{room}$, $\\delta_{proptax}$ = 0, where the coefficients $\\delta_{k}$ (k = crime, nox, rooms, proptax) are associated with the corresponding explanatory variables."
   ]
  },
  {
   "cell_type": "code",
   "execution_count": null,
   "metadata": {},
   "outputs": [],
   "source": []
  },
  {
   "cell_type": "markdown",
   "metadata": {},
   "source": [
    "#### Q21. In the specification of question 10, test the hypothesis of no heteroskedasticity of linear form."
   ]
  },
  {
   "cell_type": "code",
   "execution_count": null,
   "metadata": {},
   "outputs": [],
   "source": []
  },
  {
   "cell_type": "markdown",
   "metadata": {},
   "source": [
    "#### Q22. In the specification of question 11, test the hypothesis of no heteroskedasticity of linear form."
   ]
  },
  {
   "cell_type": "code",
   "execution_count": null,
   "metadata": {},
   "outputs": [],
   "source": []
  },
  {
   "cell_type": "markdown",
   "metadata": {},
   "source": [
    "#### Q23. Comment on the differences between your results of questions 20,21,22."
   ]
  },
  {
   "cell_type": "code",
   "execution_count": null,
   "metadata": {},
   "outputs": [],
   "source": []
  },
  {
   "cell_type": "markdown",
   "metadata": {},
   "source": [
    "#### Q24. Regardless of the results of the test of question 22, identify the most significant variable causing heteroskedasticity using the student statistics and run a WLS regression with the identified variable as weight. "
   ]
  },
  {
   "cell_type": "code",
   "execution_count": null,
   "metadata": {},
   "outputs": [],
   "source": []
  },
  {
   "cell_type": "markdown",
   "metadata": {},
   "source": [
    "## PART 3 - TIME SERIES DATA\n",
    "\n",
    "This part uses the threecenturies_v2.3 datasets. Import Real GDP at market prices, unemployment rate and consumer price inflation for the period 1900-2000 in Python from the A1 worksheet."
   ]
  },
  {
   "cell_type": "markdown",
   "metadata": {},
   "source": [
    "#### Q25. Define strict and weak stationarity."
   ]
  },
  {
   "cell_type": "code",
   "execution_count": null,
   "metadata": {},
   "outputs": [],
   "source": []
  },
  {
   "cell_type": "markdown",
   "metadata": {},
   "source": [
    "#### Q26. Explain ergodicity and state the ergodic theorem. Illustrate with an example."
   ]
  },
  {
   "cell_type": "code",
   "execution_count": null,
   "metadata": {},
   "outputs": [],
   "source": []
  },
  {
   "cell_type": "markdown",
   "metadata": {},
   "source": [
    "#### Q27. Why do we need both stationarity and ergodicity? "
   ]
  },
  {
   "cell_type": "code",
   "execution_count": null,
   "metadata": {},
   "outputs": [],
   "source": []
  },
  {
   "cell_type": "markdown",
   "metadata": {},
   "source": [
    "#### Q28. Explain “spurious regression”."
   ]
  },
  {
   "cell_type": "code",
   "execution_count": null,
   "metadata": {},
   "outputs": [],
   "source": []
  },
  {
   "cell_type": "markdown",
   "metadata": {},
   "source": [
    "#### Q29. Make all time series stationary by computing the difference between the original variable and a moving average of order 10. "
   ]
  },
  {
   "cell_type": "code",
   "execution_count": null,
   "metadata": {},
   "outputs": [],
   "source": []
  },
  {
   "cell_type": "markdown",
   "metadata": {},
   "source": [
    "#### Q30. Using the original dataset, test the unit root hypothesis for all variables."
   ]
  },
  {
   "cell_type": "code",
   "execution_count": null,
   "metadata": {},
   "outputs": [],
   "source": []
  },
  {
   "cell_type": "markdown",
   "metadata": {},
   "source": [
    "#### Q31. Transform all variables so that they are stationary using either your answers to questions 29 or to question 30."
   ]
  },
  {
   "cell_type": "code",
   "execution_count": null,
   "metadata": {},
   "outputs": [],
   "source": []
  },
  {
   "cell_type": "markdown",
   "metadata": {},
   "source": [
    "#### Q32. Explain the difference between ACF and PACF. "
   ]
  },
  {
   "cell_type": "code",
   "execution_count": null,
   "metadata": {},
   "outputs": [],
   "source": []
  },
  {
   "cell_type": "markdown",
   "metadata": {},
   "source": [
    "#### Q33. Plot and comment on the ACF and PACF of all variables. "
   ]
  },
  {
   "cell_type": "code",
   "execution_count": null,
   "metadata": {},
   "outputs": [],
   "source": []
  },
  {
   "cell_type": "markdown",
   "metadata": {},
   "source": [
    "#### Q34. Explain the principle of parsimony and its relationship with Ockham’s razor using the theory of information criterion."
   ]
  },
  {
   "cell_type": "code",
   "execution_count": null,
   "metadata": {},
   "outputs": [],
   "source": []
  },
  {
   "cell_type": "markdown",
   "metadata": {},
   "source": [
    "#### Q35. Explain the problem of auto-correlation of the errors."
   ]
  },
  {
   "cell_type": "code",
   "execution_count": null,
   "metadata": {},
   "outputs": [],
   "source": []
  },
  {
   "cell_type": "markdown",
   "metadata": {},
   "source": [
    "#### Q36. Using only stationary variables, run a regression of GDP on constant, unemployment and inflation and test the hypothesis of no-autocorrelation of errors."
   ]
  },
  {
   "cell_type": "code",
   "execution_count": null,
   "metadata": {},
   "outputs": [],
   "source": []
  },
  {
   "cell_type": "markdown",
   "metadata": {},
   "source": [
    "#### Q37. Regardless of your answer to question 36, correct auto-correlation with GLS. Comment on your results."
   ]
  },
  {
   "cell_type": "code",
   "execution_count": null,
   "metadata": {},
   "outputs": [],
   "source": []
  },
  {
   "cell_type": "markdown",
   "metadata": {},
   "source": [
    "#### Q38. For all variables, construct their lag 1 and lag 2 variables."
   ]
  },
  {
   "cell_type": "code",
   "execution_count": null,
   "metadata": {},
   "outputs": [],
   "source": []
  },
  {
   "cell_type": "markdown",
   "metadata": {},
   "source": [
    "#### Q39. Run a regression of GDP on constant, lag 1 unemployment, lag 2 unemployment, lag 1 inflation, lag 2 inflation. What is the number of observations and why?"
   ]
  },
  {
   "cell_type": "code",
   "execution_count": null,
   "metadata": {},
   "outputs": [],
   "source": []
  },
  {
   "cell_type": "markdown",
   "metadata": {},
   "source": [
    "#### Q40. State and test the no-Granger causality hypothesis of unemployment on GDP at the 1% level."
   ]
  },
  {
   "cell_type": "code",
   "execution_count": null,
   "metadata": {},
   "outputs": [],
   "source": []
  },
  {
   "cell_type": "markdown",
   "metadata": {},
   "source": [
    "#### Q41. Divide the sample in two groups: 1900-1960 and 1961-2000. Test the stability of coefficients between the two periods."
   ]
  },
  {
   "cell_type": "code",
   "execution_count": null,
   "metadata": {},
   "outputs": [],
   "source": []
  },
  {
   "cell_type": "markdown",
   "metadata": {},
   "source": [
    "#### Q42. Test the structural breakpoint using a trim ratio of 30% at the 1% level."
   ]
  },
  {
   "cell_type": "code",
   "execution_count": null,
   "metadata": {},
   "outputs": [],
   "source": []
  }
 ],
 "metadata": {
  "kernelspec": {
   "display_name": "base",
   "language": "python",
   "name": "python3"
  },
  "language_info": {
   "codemirror_mode": {
    "name": "ipython",
    "version": 3
   },
   "file_extension": ".py",
   "mimetype": "text/x-python",
   "name": "python",
   "nbconvert_exporter": "python",
   "pygments_lexer": "ipython3",
   "version": "3.11.5"
  }
 },
 "nbformat": 4,
 "nbformat_minor": 2
}
