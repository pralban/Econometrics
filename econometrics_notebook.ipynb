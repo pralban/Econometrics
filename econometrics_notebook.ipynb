{
 "cells": [
  {
   "cell_type": "markdown",
   "metadata": {},
   "source": [
    "# Economotrics Project (BGD708)"
   ]
  },
  {
   "cell_type": "markdown",
   "metadata": {},
   "source": [
    "#### Author: \n",
    "Alban Pereira (alban.pereira@telecom-paris.fr)\n",
    "\n",
    "Laurent Gayraud (laurent.gayraud@telecom-paris.fr)"
   ]
  },
  {
   "cell_type": "markdown",
   "metadata": {},
   "source": [
    "## Imports"
   ]
  },
  {
   "cell_type": "code",
   "execution_count": 3,
   "metadata": {},
   "outputs": [
    {
     "name": "stderr",
     "output_type": "stream",
     "text": [
      "/Users/laurentgayraud/anaconda3/lib/python3.11/site-packages/pandas/core/arrays/masked.py:60: UserWarning: Pandas requires version '1.3.6' or newer of 'bottleneck' (version '1.3.5' currently installed).\n",
      "  from pandas.core import (\n"
     ]
    }
   ],
   "source": [
    "import pandas as pd\n",
    "import numpy as np\n",
    "import seaborn as sns\n",
    "import matplotlib.pyplot as plt"
   ]
  },
  {
   "cell_type": "markdown",
   "metadata": {},
   "source": [
    "## <span style=\"color:red\"> PARTIE 1 - CROSS-SECTION DATA</span>\n",
    "Cette partie utilise le jeu de données HPRICE2.RAW décrit dans HPRICE2.DES."
   ]
  },
  {
   "cell_type": "markdown",
   "metadata": {},
   "source": [
    "#### <span style=\"color:green\"> Introduction, imports.</span>"
   ]
  },
  {
   "cell_type": "code",
   "execution_count": 4,
   "metadata": {},
   "outputs": [
    {
     "name": "stderr",
     "output_type": "stream",
     "text": [
      "/var/folders/rq/863l2c_x3w118szjr021z_ym0000gn/T/ipykernel_36006/163014172.py:2: FutureWarning: The 'delim_whitespace' keyword in pd.read_csv is deprecated and will be removed in a future version. Use ``sep='\\s+'`` instead\n",
      "  df = pd.read_csv('data/HPRICE2.raw', delim_whitespace=True, header=None)\n"
     ]
    },
    {
     "data": {
      "text/html": [
       "<div>\n",
       "<style scoped>\n",
       "    .dataframe tbody tr th:only-of-type {\n",
       "        vertical-align: middle;\n",
       "    }\n",
       "\n",
       "    .dataframe tbody tr th {\n",
       "        vertical-align: top;\n",
       "    }\n",
       "\n",
       "    .dataframe thead th {\n",
       "        text-align: right;\n",
       "    }\n",
       "</style>\n",
       "<table border=\"1\" class=\"dataframe\">\n",
       "  <thead>\n",
       "    <tr style=\"text-align: right;\">\n",
       "      <th></th>\n",
       "      <th>price</th>\n",
       "      <th>crime</th>\n",
       "      <th>nox</th>\n",
       "      <th>rooms</th>\n",
       "      <th>dist</th>\n",
       "      <th>radial</th>\n",
       "      <th>proptax</th>\n",
       "      <th>stratio</th>\n",
       "      <th>lowstat</th>\n",
       "      <th>lprice</th>\n",
       "      <th>lnox</th>\n",
       "      <th>lproptax</th>\n",
       "    </tr>\n",
       "  </thead>\n",
       "  <tbody>\n",
       "    <tr>\n",
       "      <th>0</th>\n",
       "      <td>24000</td>\n",
       "      <td>0.006</td>\n",
       "      <td>5.38</td>\n",
       "      <td>6.57</td>\n",
       "      <td>4.09</td>\n",
       "      <td>1</td>\n",
       "      <td>29.6</td>\n",
       "      <td>15.3</td>\n",
       "      <td>4.98</td>\n",
       "      <td>10.085810</td>\n",
       "      <td>1.682688</td>\n",
       "      <td>5.690360</td>\n",
       "    </tr>\n",
       "    <tr>\n",
       "      <th>1</th>\n",
       "      <td>21599</td>\n",
       "      <td>0.027</td>\n",
       "      <td>4.69</td>\n",
       "      <td>6.42</td>\n",
       "      <td>4.97</td>\n",
       "      <td>2</td>\n",
       "      <td>24.2</td>\n",
       "      <td>17.8</td>\n",
       "      <td>9.14</td>\n",
       "      <td>9.980402</td>\n",
       "      <td>1.545433</td>\n",
       "      <td>5.488938</td>\n",
       "    </tr>\n",
       "    <tr>\n",
       "      <th>2</th>\n",
       "      <td>34700</td>\n",
       "      <td>0.027</td>\n",
       "      <td>4.69</td>\n",
       "      <td>7.18</td>\n",
       "      <td>4.97</td>\n",
       "      <td>2</td>\n",
       "      <td>24.2</td>\n",
       "      <td>17.8</td>\n",
       "      <td>4.03</td>\n",
       "      <td>10.454500</td>\n",
       "      <td>1.545433</td>\n",
       "      <td>5.488938</td>\n",
       "    </tr>\n",
       "    <tr>\n",
       "      <th>3</th>\n",
       "      <td>33400</td>\n",
       "      <td>0.032</td>\n",
       "      <td>4.58</td>\n",
       "      <td>7.00</td>\n",
       "      <td>6.06</td>\n",
       "      <td>3</td>\n",
       "      <td>22.2</td>\n",
       "      <td>18.7</td>\n",
       "      <td>2.94</td>\n",
       "      <td>10.416310</td>\n",
       "      <td>1.521699</td>\n",
       "      <td>5.402678</td>\n",
       "    </tr>\n",
       "    <tr>\n",
       "      <th>4</th>\n",
       "      <td>36199</td>\n",
       "      <td>0.069</td>\n",
       "      <td>4.58</td>\n",
       "      <td>7.15</td>\n",
       "      <td>6.06</td>\n",
       "      <td>3</td>\n",
       "      <td>22.2</td>\n",
       "      <td>18.7</td>\n",
       "      <td>5.33</td>\n",
       "      <td>10.496790</td>\n",
       "      <td>1.521699</td>\n",
       "      <td>5.402678</td>\n",
       "    </tr>\n",
       "  </tbody>\n",
       "</table>\n",
       "</div>"
      ],
      "text/plain": [
       "   price  crime   nox  rooms  dist  radial  proptax  stratio  lowstat  \\\n",
       "0  24000  0.006  5.38   6.57  4.09       1     29.6     15.3     4.98   \n",
       "1  21599  0.027  4.69   6.42  4.97       2     24.2     17.8     9.14   \n",
       "2  34700  0.027  4.69   7.18  4.97       2     24.2     17.8     4.03   \n",
       "3  33400  0.032  4.58   7.00  6.06       3     22.2     18.7     2.94   \n",
       "4  36199  0.069  4.58   7.15  6.06       3     22.2     18.7     5.33   \n",
       "\n",
       "      lprice      lnox  lproptax  \n",
       "0  10.085810  1.682688  5.690360  \n",
       "1   9.980402  1.545433  5.488938  \n",
       "2  10.454500  1.545433  5.488938  \n",
       "3  10.416310  1.521699  5.402678  \n",
       "4  10.496790  1.521699  5.402678  "
      ]
     },
     "execution_count": 4,
     "metadata": {},
     "output_type": "execute_result"
    }
   ],
   "source": [
    "# Importation des données\n",
    "df = pd.read_csv('data/HPRICE2.raw', delim_whitespace=True, header=None)\n",
    "\n",
    "# Insertion des noms de colonnes\n",
    "columns = [\n",
    "    \"price\", \"crime\", \"nox\", \"rooms\", \"dist\", \"radial\", \"proptax\", \"stratio\",\n",
    "    \"lowstat\", \"lprice\", \"lnox\", \"lproptax\"\n",
    "]\n",
    "df.columns = columns\n",
    "\n",
    "df.head()"
   ]
  },
  {
   "cell_type": "markdown",
   "metadata": {},
   "source": [
    "Le fichier HPRICE2.DES décrit un ensemble de données contenant 506 observations avec les variables suivantes :\n",
    "1. price : prix médian des logements, en dollars\n",
    "2. crime : crimes commis par habitant\n",
    "3. nox : oxyde nitreux, parties pour 100 millions\n",
    "4. rooms : nombre moyen de chambres par maison\n",
    "5. dist : distance pondérée jusqu'à 5 centres d'emploi\n",
    "6. radial : indice d'accessibilité aux autoroutes radiales\n",
    "7. proptax : taxe foncière par 1000 dollars\n",
    "8. stratio : ratio moyen élève-enseignant\n",
    "9. lowstat : % de personnes de 'statut inférieur'\n",
    "10. lprice : logarithme du prix\n",
    "11. lnox : logarithme de nox\n",
    "12. lproptax : logarithme de la taxe foncière"
   ]
  },
  {
   "cell_type": "markdown",
   "metadata": {},
   "source": [
    "#### <span style=\"color:green\"> Q1. State the fundamental hypothesis under which the Ordinary Least Squares (OLS) estimators are unbiased.</span>"
   ]
  },
  {
   "cell_type": "markdown",
   "metadata": {},
   "source": [
    "L'hypothèse fondamentale sous laquelle les estimateurs des moindres carrés ordinaires (OLS) sont non biaisés est que **la variable non observée a une moyenne nulle** , **la moyenne conditionnelle est égale à la moyenne inconditionnelle**, et qu'**il n'y a pas de corrélation entre les variables explicatives X et le terme d'erreur u**.  \n",
    "  \n",
    "Nous avons donc $E(u∣X) = E(u)= 0$.  \n",
    "  \n",
    "En d'autres termes, ce que l'on observe est indépendant de ce que l'on n'observe pas."
   ]
  },
  {
   "cell_type": "markdown",
   "metadata": {},
   "source": [
    "#### <span style=\"color:green\"> Q2. Show that under this assumption the OLS estimators are indeed unbiased.</span>"
   ]
  },
  {
   "cell_type": "markdown",
   "metadata": {},
   "source": [
    "Sous l'hypothèse que $E(u|X) = 0$, où $u$ est le terme d'erreur et $X$ représente les variables indépendantes, les estimateurs des moindres carrés ordinaires (OLS) $\\hat{\\beta}$ sont non biaisés. Cela est montré comme suit :\n",
    "\n",
    "Étant donné un modèle linéaire $Y = X\\beta + u$,\n",
    "\n",
    "1. L'estimateur OLS $\\hat{\\beta}$ est donné par $\\hat{\\beta} = (X'X)^{-1}X'Y$  \n",
    "Sous réserve que le produit $(X'X)$ soit inversible ce qui ce traduit par une absence de colinéarité parfaite entre X' et X ce qui est une hypothèse de notre modèle.   \n",
    "L'inversibilité implique également que le nombre d'observations doit être suffisant pour fournir une variation suffisante dans les données, ce qui aide à éviter une situation où X pourrait être singulière. Etant donnée la forme des données (12 colonnes pour plus de 500 lignes), cette hypothèse est aussi vérifiée.\n",
    "  \n",
    "2. En substituant $Y = X\\beta + u$ dans l'équation de l'estimateur, on obtient $\\hat{\\beta} = (X'X)^{-1}X'(X\\beta + u)$.\n",
    "3. En simplifiant $( (X'X)^{-1}(X'X) = I )$, on obtient : $\\hat{\\beta} = \\beta + (X'X)^{-1}X'u$.\n",
    "\n",
    "En prenant l'espérance :\n",
    "\n",
    "4. $E(\\hat{\\beta}) = E(\\beta + (X'X)^{-1}X'u) = \\beta + (X'X)^{-1}X'E(u)$.\n",
    "\n",
    "D'après l'hypothèse fondamentale $E(u|X) = E(u) = 0$, donc :\n",
    "\n",
    "5. $E(\\hat{\\beta}) = \\beta$.\n",
    "\n",
    "Par conséquent, sous l'hypothèse fondamentale, les estimateurs OLS $\\hat{\\beta}$ sont non biaisés, ce qui signifie que $E(\\hat{\\beta}) = \\beta$.\n"
   ]
  },
  {
   "cell_type": "markdown",
   "metadata": {},
   "source": [
    "#### <span style=\"color:green\"> Q3. Explain the sample selection bias with an example from the course.</span>"
   ]
  },
  {
   "cell_type": "markdown",
   "metadata": {},
   "source": [
    "Le biais de sélection d'échantillon se produit lorsque **l'échantillon ne représente pas précisément la population, conduisant à des estimations biaisées**.\n",
    "\n",
    "Un exemple tiré du cours est l'étude de l'effet de l'engrais sur le rendement des cultures. Si davantage d'engrais est systématiquement appliqué à des terres intrinsèquement plus fertiles, l'analyse peut attribuer à tort le rendement supérieur à l'engrais, en négligeant la fertilité intrinsèque de la terre. Cela se produit parce que la sélection des parcelles pour la fertilisation est influencée par un facteur non observé (la fertilité de la terre) qui affecte également le résultat (le rendement), provoquant une surestimation de l'effet de l'engrais.  \n",
    "  \n",
    "Corriger ce biais nécessite des techniques pour tenir compte de telles variables non observées."
   ]
  },
  {
   "cell_type": "markdown",
   "metadata": {},
   "source": [
    "#### <span style=\"color:green\"> Q4. Explain the omitted variable bias with an example from the course.</span>"
   ]
  },
  {
   "cell_type": "markdown",
   "metadata": {},
   "source": [
    "Le biais de variable omise se produit lorsqu'**une variable pertinente est exclue d'un modèle, causant des estimations biaisées des effets d'autres variables**.\n",
    "  \n",
    "Un exemple du cours relatif à l'effet de l'éducation sur les salaires pourrait bien illustrer ce concept. Si nous examinons comment l'éducation affecte les salaires sans tenir compte de l'expérience professionnelle, nous pourrions surestimer l'impact de l'éducation. Cela est dû au fait que l'éducation et l'expérience professionnelle influencent toutes deux les salaires, mais omettre l'expérience professionnelle signifie qu'une partie de l'effet observé de l'éducation sur les salaires peut en réalité être due à l'expérience professionnelle, qui est corrélée avec l'éducation."
   ]
  },
  {
   "cell_type": "markdown",
   "metadata": {},
   "source": [
    "#### <span style=\"color:green\"> Q5. Explain the problem of multicollinearity. Is it a problem in this dataset?</span>"
   ]
  },
  {
   "cell_type": "markdown",
   "metadata": {},
   "source": [
    "La multicollinéarité dans un modèle de régression survient lorsque plusieurs variables explicatives sont linéairement dépendantes, ou presque. Cette interdépendance peut entraîner une matrice  singulière ou presque singulière, dont le déterminant est proche de zéro. L'inversibilité de $(X'X)$ est cruciale car l'estimateur des moindres carrés est défini en dépend. Sans inverse, nous ne pouvons pas calculer cet estimateur.\n",
    "\n",
    "Pour pallier la multicollinéarité, on peut augmenter le nombre d'observations pour renforcer la robustesse de la matrice ou diminuer le nombre de variables explicatives en les retirant."
   ]
  },
  {
   "cell_type": "code",
   "execution_count": 8,
   "metadata": {},
   "outputs": [
    {
     "data": {
      "text/html": [
       "<div>\n",
       "<style scoped>\n",
       "    .dataframe tbody tr th:only-of-type {\n",
       "        vertical-align: middle;\n",
       "    }\n",
       "\n",
       "    .dataframe tbody tr th {\n",
       "        vertical-align: top;\n",
       "    }\n",
       "\n",
       "    .dataframe thead th {\n",
       "        text-align: right;\n",
       "    }\n",
       "</style>\n",
       "<table border=\"1\" class=\"dataframe\">\n",
       "  <thead>\n",
       "    <tr style=\"text-align: right;\">\n",
       "      <th></th>\n",
       "      <th>crime</th>\n",
       "      <th>nox</th>\n",
       "      <th>rooms</th>\n",
       "      <th>dist</th>\n",
       "      <th>radial</th>\n",
       "      <th>proptax</th>\n",
       "      <th>stratio</th>\n",
       "      <th>lowstat</th>\n",
       "      <th>lnox</th>\n",
       "      <th>lproptax</th>\n",
       "    </tr>\n",
       "  </thead>\n",
       "  <tbody>\n",
       "    <tr>\n",
       "      <th>crime</th>\n",
       "      <td>1.000000</td>\n",
       "      <td>0.421152</td>\n",
       "      <td>-0.218816</td>\n",
       "      <td>-0.379909</td>\n",
       "      <td>0.625442</td>\n",
       "      <td>0.582819</td>\n",
       "      <td>0.288691</td>\n",
       "      <td>0.447033</td>\n",
       "      <td>0.429639</td>\n",
       "      <td>0.551393</td>\n",
       "    </tr>\n",
       "    <tr>\n",
       "      <th>nox</th>\n",
       "      <td>0.421152</td>\n",
       "      <td>1.000000</td>\n",
       "      <td>-0.302828</td>\n",
       "      <td>-0.770222</td>\n",
       "      <td>0.610328</td>\n",
       "      <td>0.666981</td>\n",
       "      <td>0.186863</td>\n",
       "      <td>0.585613</td>\n",
       "      <td>0.993943</td>\n",
       "      <td>0.659206</td>\n",
       "    </tr>\n",
       "    <tr>\n",
       "      <th>rooms</th>\n",
       "      <td>-0.218816</td>\n",
       "      <td>-0.302828</td>\n",
       "      <td>1.000000</td>\n",
       "      <td>0.205410</td>\n",
       "      <td>-0.209773</td>\n",
       "      <td>-0.292120</td>\n",
       "      <td>-0.354008</td>\n",
       "      <td>-0.609605</td>\n",
       "      <td>-0.304988</td>\n",
       "      <td>-0.299269</td>\n",
       "    </tr>\n",
       "    <tr>\n",
       "      <th>dist</th>\n",
       "      <td>-0.379909</td>\n",
       "      <td>-0.770222</td>\n",
       "      <td>0.205410</td>\n",
       "      <td>1.000000</td>\n",
       "      <td>-0.495065</td>\n",
       "      <td>-0.534379</td>\n",
       "      <td>-0.229269</td>\n",
       "      <td>-0.495602</td>\n",
       "      <td>-0.808795</td>\n",
       "      <td>-0.513897</td>\n",
       "    </tr>\n",
       "    <tr>\n",
       "      <th>radial</th>\n",
       "      <td>0.625442</td>\n",
       "      <td>0.610328</td>\n",
       "      <td>-0.209773</td>\n",
       "      <td>-0.495065</td>\n",
       "      <td>1.000000</td>\n",
       "      <td>0.910228</td>\n",
       "      <td>0.464244</td>\n",
       "      <td>0.476038</td>\n",
       "      <td>0.624171</td>\n",
       "      <td>0.863531</td>\n",
       "    </tr>\n",
       "    <tr>\n",
       "      <th>proptax</th>\n",
       "      <td>0.582819</td>\n",
       "      <td>0.666981</td>\n",
       "      <td>-0.292120</td>\n",
       "      <td>-0.534379</td>\n",
       "      <td>0.910228</td>\n",
       "      <td>1.000000</td>\n",
       "      <td>0.454238</td>\n",
       "      <td>0.527624</td>\n",
       "      <td>0.677314</td>\n",
       "      <td>0.988586</td>\n",
       "    </tr>\n",
       "    <tr>\n",
       "      <th>stratio</th>\n",
       "      <td>0.288691</td>\n",
       "      <td>0.186863</td>\n",
       "      <td>-0.354008</td>\n",
       "      <td>-0.229269</td>\n",
       "      <td>0.464244</td>\n",
       "      <td>0.454238</td>\n",
       "      <td>1.000000</td>\n",
       "      <td>0.365402</td>\n",
       "      <td>0.227910</td>\n",
       "      <td>0.422231</td>\n",
       "    </tr>\n",
       "    <tr>\n",
       "      <th>lowstat</th>\n",
       "      <td>0.447033</td>\n",
       "      <td>0.585613</td>\n",
       "      <td>-0.609605</td>\n",
       "      <td>-0.495602</td>\n",
       "      <td>0.476038</td>\n",
       "      <td>0.527624</td>\n",
       "      <td>0.365402</td>\n",
       "      <td>1.000000</td>\n",
       "      <td>0.596220</td>\n",
       "      <td>0.510948</td>\n",
       "    </tr>\n",
       "    <tr>\n",
       "      <th>lnox</th>\n",
       "      <td>0.429639</td>\n",
       "      <td>0.993943</td>\n",
       "      <td>-0.304988</td>\n",
       "      <td>-0.808795</td>\n",
       "      <td>0.624171</td>\n",
       "      <td>0.677314</td>\n",
       "      <td>0.227910</td>\n",
       "      <td>0.596220</td>\n",
       "      <td>1.000000</td>\n",
       "      <td>0.667252</td>\n",
       "    </tr>\n",
       "    <tr>\n",
       "      <th>lproptax</th>\n",
       "      <td>0.551393</td>\n",
       "      <td>0.659206</td>\n",
       "      <td>-0.299269</td>\n",
       "      <td>-0.513897</td>\n",
       "      <td>0.863531</td>\n",
       "      <td>0.988586</td>\n",
       "      <td>0.422231</td>\n",
       "      <td>0.510948</td>\n",
       "      <td>0.667252</td>\n",
       "      <td>1.000000</td>\n",
       "    </tr>\n",
       "  </tbody>\n",
       "</table>\n",
       "</div>"
      ],
      "text/plain": [
       "             crime       nox     rooms      dist    radial   proptax  \\\n",
       "crime     1.000000  0.421152 -0.218816 -0.379909  0.625442  0.582819   \n",
       "nox       0.421152  1.000000 -0.302828 -0.770222  0.610328  0.666981   \n",
       "rooms    -0.218816 -0.302828  1.000000  0.205410 -0.209773 -0.292120   \n",
       "dist     -0.379909 -0.770222  0.205410  1.000000 -0.495065 -0.534379   \n",
       "radial    0.625442  0.610328 -0.209773 -0.495065  1.000000  0.910228   \n",
       "proptax   0.582819  0.666981 -0.292120 -0.534379  0.910228  1.000000   \n",
       "stratio   0.288691  0.186863 -0.354008 -0.229269  0.464244  0.454238   \n",
       "lowstat   0.447033  0.585613 -0.609605 -0.495602  0.476038  0.527624   \n",
       "lnox      0.429639  0.993943 -0.304988 -0.808795  0.624171  0.677314   \n",
       "lproptax  0.551393  0.659206 -0.299269 -0.513897  0.863531  0.988586   \n",
       "\n",
       "           stratio   lowstat      lnox  lproptax  \n",
       "crime     0.288691  0.447033  0.429639  0.551393  \n",
       "nox       0.186863  0.585613  0.993943  0.659206  \n",
       "rooms    -0.354008 -0.609605 -0.304988 -0.299269  \n",
       "dist     -0.229269 -0.495602 -0.808795 -0.513897  \n",
       "radial    0.464244  0.476038  0.624171  0.863531  \n",
       "proptax   0.454238  0.527624  0.677314  0.988586  \n",
       "stratio   1.000000  0.365402  0.227910  0.422231  \n",
       "lowstat   0.365402  1.000000  0.596220  0.510948  \n",
       "lnox      0.227910  0.596220  1.000000  0.667252  \n",
       "lproptax  0.422231  0.510948  0.667252  1.000000  "
      ]
     },
     "execution_count": 8,
     "metadata": {},
     "output_type": "execute_result"
    }
   ],
   "source": [
    "# Calcul de la matrice de corrélation\n",
    "correlation_matrix = df.drop(['price', 'lprice'], axis=1).corr()\n",
    "correlation_matrix"
   ]
  },
  {
   "cell_type": "code",
   "execution_count": 9,
   "metadata": {},
   "outputs": [
    {
     "data": {
      "image/png": "[encoded data removed]",
      "text/plain": [
       "<Figure size 1000x800 with 2 Axes>"
      ]
     },
     "metadata": {},
     "output_type": "display_data"
    }
   ],
   "source": [
    "# Plot heatmap of the correlation matrix\n",
    "plt.figure(figsize=(10, 8))\n",
    "sns.heatmap(correlation_matrix, annot=True, cmap='coolwarm', center=0)\n",
    "plt.title('Matrice de corrélation des variables explicatives')\n",
    "plt.show()"
   ]
  },
  {
   "cell_type": "markdown",
   "metadata": {},
   "source": [
    "La matrice de corrélation et la carte thermique révèlent plusieurs paires de variables explicatives avec des coefficients de corrélation élevés, indiquant des problèmes potentiels de multicollinéarité dans l'ensemble de données. Par exemple :\n",
    "\n",
    "- _nox_ et _lnox_ présentent une corrélation très élevée proche de 1, ce qui est attendu puisque _lnox_ est le logarithme de _nox_.\n",
    "- _proptax_ et _lproptax_ affichent également une corrélation très élevée pour la même raison.\n",
    "- _radial_ et _proptax_ ont un coefficient de corrélation de 0,91, suggérant une forte relation linéaire.\n",
    "- _dist_ et _nox_ ont une corrélation négative de -0,77, indiquant qu'à mesure que la distance par rapport aux centres d'emploi augmente, la concentration d'oxydes d'azote diminue.\n",
    "  \n",
    "En résumé, nous sommes ici bien affectés par le problème de colinéarité."
   ]
  },
  {
   "cell_type": "markdown",
   "metadata": {},
   "source": [
    "#### Q6. Create three categories of nox levels (low, medium, high), corresponding to the following percentiles: 0-25%, 26%-74%, 75%-100%"
   ]
  },
  {
   "cell_type": "code",
   "execution_count": 14,
   "metadata": {},
   "outputs": [
    {
     "data": {
      "text/plain": [
       "nox_level\n",
       "Medium    254\n",
       "Low       128\n",
       "High      124\n",
       "Name: count, dtype: int64"
      ]
     },
     "execution_count": 14,
     "metadata": {},
     "output_type": "execute_result"
    }
   ],
   "source": [
    "# Calculate the percentiles for the 'nox' variable\n",
    "nox_sorted = df['nox'].sort_values()\n",
    "n = len(nox_sorted)\n",
    "index_25th = int(n * 0.25)\n",
    "index_75th = int(n * 0.75)\n",
    "\n",
    "# Get the values at the 25th and 75th percentiles\n",
    "value_25th = nox_sorted.iloc[index_25th]\n",
    "value_75th = nox_sorted.iloc[index_75th]\n",
    "\n",
    "# Create categories based on these percentiles\n",
    "df['nox_category'] = pd.cut(df['nox'], bins=[nox_sorted.min(), value_25th, value_75th, nox_sorted.max()], labels=['low', 'medium', 'high'], include_lowest=True)\n",
    "\n",
    "# Display the distribution of the new categories\n",
    "df['nox_level'].value_counts()"
   ]
  },
  {
   "cell_type": "markdown",
   "metadata": {},
   "source": [
    "#### Q7. Compute for each category of <i>nox</i> level the average median price and comment on your results."
   ]
  },
  {
   "cell_type": "code",
   "execution_count": 16,
   "metadata": {},
   "outputs": [
    {
     "data": {
      "text/plain": [
       "nox_category\n",
       "low       24349.0\n",
       "medium    21150.0\n",
       "high      14250.0\n",
       "Name: price, dtype: float64"
      ]
     },
     "execution_count": 16,
     "metadata": {},
     "output_type": "execute_result"
    }
   ],
   "source": [
    "# Compute for each category of nox level the average median price and comment on your results\n",
    "df.groupby('nox_category')['price'].median()"
   ]
  },
  {
   "cell_type": "markdown",
   "metadata": {},
   "source": [
    "<b>Commentary :</b>\n",
    "\n",
    "These results indicate a clear negative relationship between the levels of nitrous oxide (<i>nox</i>) and the average median <i>price</i> of housing. As the <i>nox</i> level increases from low to high, the average median price decreases significantly. This suggests that higher levels of pollution (as indicated by higher <i>nox</i> levels) are associated with lower housing <i>prices</i>, which could be due to lower desirability of living in more polluted areas."
   ]
  },
  {
   "cell_type": "markdown",
   "metadata": {},
   "source": [
    "#### Q8. Produce a scatter plot with the variable <i>price</i> on the y-axis and the variable <i>nox</i> on the x-axis. Is this a ceteris paribus effect?"
   ]
  },
  {
   "cell_type": "code",
   "execution_count": 19,
   "metadata": {},
   "outputs": [
    {
     "data": {
      "image/png": "[encoded data removed]",
      "text/plain": [
       "<Figure size 1000x600 with 1 Axes>"
      ]
     },
     "metadata": {},
     "output_type": "display_data"
    }
   ],
   "source": [
    "# Plotting the scatter plot of 'nox' vs 'price'\n",
    "plt.figure(figsize=(10, 6))\n",
    "plt.scatter(df['nox'], df['price'])\n",
    "plt.title('Scatter Plot of NOx Levels vs. Median Housing Price')\n",
    "plt.xlabel('NOx Levels (parts per 100 mill.)')\n",
    "plt.ylabel('Median Housing Price ($)')\n",
    "plt.grid(True)\n",
    "plt.show()"
   ]
  },
  {
   "cell_type": "markdown",
   "metadata": {},
   "source": [
    "<b> Commentary : </b>\n",
    "\n",
    "The scatter plot of NOx levels versus median housing prices shows a general trend where housing prices tend to decrease as NOx levels increase. This visual trend supports the idea that areas with higher pollution levels (as measured by NOx) tend to have lower housing prices."
   ]
  },
  {
   "cell_type": "markdown",
   "metadata": {},
   "source": [
    "No, this scatter plot does not represent a ceteris paribus effect.\n",
    "\n",
    "In a ceteris paribus analysis, we examine the effect of changing one variable while keeping all other variables constant. However, in a scatter plot like the one created here, each data point represents a unique observation where multiple variables, including <i>nox</i> and <i>price</i>, can vary simultaneously.\n",
    "\n",
    "Therefore, without controlling for other variables, we cannot isolate the effect of <i>nox</i> on <i>price</i> while holding all other variables constant.\n",
    "\n",
    "To perform a ceteris paribus analysis, we would typically use techniques like regression analysis, where we can control for the effects of other variables while examining the relationship between <i>nox</i> and <i>price</i>."
   ]
  },
  {
   "cell_type": "markdown",
   "metadata": {},
   "source": [
    "#### Q9. Run a regression of <i>price</i> on a <i>constant</i>, <i>crime</i>, <i>nox</i>, <i>rooms</i>, <i>proptax</i>. Comment on the histogram of the residuals. Interpret all coefficients."
   ]
  },
  {
   "cell_type": "code",
   "execution_count": null,
   "metadata": {},
   "outputs": [],
   "source": []
  },
  {
   "cell_type": "markdown",
   "metadata": {},
   "source": [
    "#### Q10. Run a regression of <i>lprice</i> on a <i>constant</i>, <i>crime</i>, <i>nox</i>, <i>rooms</i>, <i>proptax</i>. Interpret all coefficients."
   ]
  },
  {
   "cell_type": "code",
   "execution_count": null,
   "metadata": {},
   "outputs": [],
   "source": []
  },
  {
   "cell_type": "markdown",
   "metadata": {},
   "source": [
    "#### Q11. Run a regression of <i>lprice</i> on a <i>constant</i>, <i>crime</i>, <i>lnox</i>, <i>rooms</i>, <i>lproptax</i>. Interpret all coefficients."
   ]
  },
  {
   "cell_type": "code",
   "execution_count": null,
   "metadata": {},
   "outputs": [],
   "source": []
  },
  {
   "cell_type": "markdown",
   "metadata": {},
   "source": [
    "#### Q12. In the specification of question 9, test the hypothesis H0: $\\beta_{nox}$ = 0 vs. H1: $\\beta_{nox}$ > 0 at the 1% level."
   ]
  },
  {
   "cell_type": "code",
   "execution_count": null,
   "metadata": {},
   "outputs": [],
   "source": []
  },
  {
   "cell_type": "markdown",
   "metadata": {},
   "source": [
    "#### Q13. In the specification of question 9, test the hypothesis H0: $\\beta_{nox}$ = 0 vs. H1: $\\beta_{nox}$ ≠ 0 at the 1% level using the p-value of the test."
   ]
  },
  {
   "cell_type": "code",
   "execution_count": null,
   "metadata": {},
   "outputs": [],
   "source": []
  },
  {
   "cell_type": "markdown",
   "metadata": {},
   "source": [
    "#### Q14. In the specification of question 9, test the hypothesis H0: $\\beta_{crime}$ = $\\beta_{proptax}$ at the 10% level."
   ]
  },
  {
   "cell_type": "code",
   "execution_count": null,
   "metadata": {},
   "outputs": [],
   "source": []
  },
  {
   "cell_type": "markdown",
   "metadata": {},
   "source": [
    "#### Q15. In the specification of question 9, test the hypothesis H0: $\\beta_{nox}$ = 0, $\\beta_{proptax}$ = 0 at the 10% level."
   ]
  },
  {
   "cell_type": "code",
   "execution_count": null,
   "metadata": {},
   "outputs": [],
   "source": []
  },
  {
   "cell_type": "markdown",
   "metadata": {},
   "source": [
    "#### Q16. In the specification of question 9, test the hypothesis H0: $\\beta_{nox}$ = -500, $\\beta_{proptax}$ = -100 at the 10% level using the p-value of the test."
   ]
  },
  {
   "cell_type": "code",
   "execution_count": null,
   "metadata": {},
   "outputs": [],
   "source": []
  },
  {
   "cell_type": "markdown",
   "metadata": {},
   "source": [
    "#### Q17. In the specification of question 9, test the hypothesis that all coefficients are the same for observations with low levels of <i>nox</i> vs. medium and high levels of <i>nox</i>. "
   ]
  },
  {
   "cell_type": "code",
   "execution_count": null,
   "metadata": {},
   "outputs": [],
   "source": []
  },
  {
   "cell_type": "markdown",
   "metadata": {},
   "source": [
    "#### Q18. Repeat the test of question 17 but now assuming that only the coefficients of <i>nox</i> and <i>proptax</i> can change between the two groups of observations. State and test $H_{0}$."
   ]
  },
  {
   "cell_type": "code",
   "execution_count": null,
   "metadata": {},
   "outputs": [],
   "source": []
  },
  {
   "cell_type": "markdown",
   "metadata": {},
   "source": [
    "## PART 2 - HETEROSKEDASTICITY"
   ]
  },
  {
   "cell_type": "markdown",
   "metadata": {},
   "source": [
    "#### Q19. Explain the problem of heteroskedasticity with an example of the course. "
   ]
  },
  {
   "cell_type": "code",
   "execution_count": null,
   "metadata": {},
   "outputs": [],
   "source": []
  },
  {
   "cell_type": "markdown",
   "metadata": {},
   "source": [
    "#### Q20. In the specification of question 9, test the hypothesis of no heteroskedasticity of linear form, i.e. in the regression of $u^{2}$ on constant, crime, nox, rooms, proptax, test $H_{0}$: $\\delta_{crime}$, $\\delta_{nox}$, $\\delta_{room}$, $\\delta_{proptax}$ = 0, where the coefficients $\\delta_{k}$ (k = crime, nox, rooms, proptax) are associated with the corresponding explanatory variables."
   ]
  },
  {
   "cell_type": "code",
   "execution_count": null,
   "metadata": {},
   "outputs": [],
   "source": []
  },
  {
   "cell_type": "markdown",
   "metadata": {},
   "source": [
    "#### Q21. In the specification of question 10, test the hypothesis of no heteroskedasticity of linear form."
   ]
  },
  {
   "cell_type": "code",
   "execution_count": null,
   "metadata": {},
   "outputs": [],
   "source": []
  },
  {
   "cell_type": "markdown",
   "metadata": {},
   "source": [
    "#### Q22. In the specification of question 11, test the hypothesis of no heteroskedasticity of linear form."
   ]
  },
  {
   "cell_type": "code",
   "execution_count": null,
   "metadata": {},
   "outputs": [],
   "source": []
  },
  {
   "cell_type": "markdown",
   "metadata": {},
   "source": [
    "#### Q23. Comment on the differences between your results of questions 20,21,22."
   ]
  },
  {
   "cell_type": "code",
   "execution_count": null,
   "metadata": {},
   "outputs": [],
   "source": []
  },
  {
   "cell_type": "markdown",
   "metadata": {},
   "source": [
    "#### Q24. Regardless of the results of the test of question 22, identify the most significant variable causing heteroskedasticity using the student statistics and run a WLS regression with the identified variable as weight. "
   ]
  },
  {
   "cell_type": "code",
   "execution_count": null,
   "metadata": {},
   "outputs": [],
   "source": []
  },
  {
   "cell_type": "markdown",
   "metadata": {},
   "source": [
    "## PART 3 - TIME SERIES DATA\n",
    "\n",
    "This part uses the threecenturies_v2.3 datasets. Import Real GDP at market prices, unemployment rate and consumer price inflation for the period 1900-2000 in Python from the A1 worksheet."
   ]
  },
  {
   "cell_type": "markdown",
   "metadata": {},
   "source": [
    "#### Q25. Define strict and weak stationarity."
   ]
  },
  {
   "cell_type": "code",
   "execution_count": null,
   "metadata": {},
   "outputs": [],
   "source": []
  },
  {
   "cell_type": "markdown",
   "metadata": {},
   "source": [
    "#### Q26. Explain ergodicity and state the ergodic theorem. Illustrate with an example."
   ]
  },
  {
   "cell_type": "code",
   "execution_count": null,
   "metadata": {},
   "outputs": [],
   "source": []
  },
  {
   "cell_type": "markdown",
   "metadata": {},
   "source": [
    "#### Q27. Why do we need both stationarity and ergodicity? "
   ]
  },
  {
   "cell_type": "code",
   "execution_count": null,
   "metadata": {},
   "outputs": [],
   "source": []
  },
  {
   "cell_type": "markdown",
   "metadata": {},
   "source": [
    "#### Q28. Explain “spurious regression”."
   ]
  },
  {
   "cell_type": "code",
   "execution_count": null,
   "metadata": {},
   "outputs": [],
   "source": []
  },
  {
   "cell_type": "markdown",
   "metadata": {},
   "source": [
    "#### Q29. Make all time series stationary by computing the difference between the original variable and a moving average of order 10. "
   ]
  },
  {
   "cell_type": "code",
   "execution_count": null,
   "metadata": {},
   "outputs": [],
   "source": []
  },
  {
   "cell_type": "markdown",
   "metadata": {},
   "source": [
    "#### Q30. Using the original dataset, test the unit root hypothesis for all variables."
   ]
  },
  {
   "cell_type": "code",
   "execution_count": null,
   "metadata": {},
   "outputs": [],
   "source": []
  },
  {
   "cell_type": "markdown",
   "metadata": {},
   "source": [
    "#### Q31. Transform all variables so that they are stationary using either your answers to questions 29 or to question 30."
   ]
  },
  {
   "cell_type": "code",
   "execution_count": null,
   "metadata": {},
   "outputs": [],
   "source": []
  },
  {
   "cell_type": "markdown",
   "metadata": {},
   "source": [
    "#### Q32. Explain the difference between ACF and PACF. "
   ]
  },
  {
   "cell_type": "code",
   "execution_count": null,
   "metadata": {},
   "outputs": [],
   "source": []
  },
  {
   "cell_type": "markdown",
   "metadata": {},
   "source": [
    "#### Q33. Plot and comment on the ACF and PACF of all variables. "
   ]
  },
  {
   "cell_type": "code",
   "execution_count": null,
   "metadata": {},
   "outputs": [],
   "source": []
  },
  {
   "cell_type": "markdown",
   "metadata": {},
   "source": [
    "#### Q34. Explain the principle of parsimony and its relationship with Ockham’s razor using the theory of information criterion."
   ]
  },
  {
   "cell_type": "code",
   "execution_count": null,
   "metadata": {},
   "outputs": [],
   "source": []
  },
  {
   "cell_type": "markdown",
   "metadata": {},
   "source": [
    "#### Q35. Explain the problem of auto-correlation of the errors."
   ]
  },
  {
   "cell_type": "code",
   "execution_count": null,
   "metadata": {},
   "outputs": [],
   "source": []
  },
  {
   "cell_type": "markdown",
   "metadata": {},
   "source": [
    "#### Q36. Using only stationary variables, run a regression of GDP on constant, unemployment and inflation and test the hypothesis of no-autocorrelation of errors."
   ]
  },
  {
   "cell_type": "code",
   "execution_count": null,
   "metadata": {},
   "outputs": [],
   "source": []
  },
  {
   "cell_type": "markdown",
   "metadata": {},
   "source": [
    "#### Q37. Regardless of your answer to question 36, correct auto-correlation with GLS. Comment on your results."
   ]
  },
  {
   "cell_type": "code",
   "execution_count": null,
   "metadata": {},
   "outputs": [],
   "source": []
  },
  {
   "cell_type": "markdown",
   "metadata": {},
   "source": [
    "#### Q38. For all variables, construct their lag 1 and lag 2 variables."
   ]
  },
  {
   "cell_type": "code",
   "execution_count": null,
   "metadata": {},
   "outputs": [],
   "source": []
  },
  {
   "cell_type": "markdown",
   "metadata": {},
   "source": [
    "#### Q39. Run a regression of GDP on constant, lag 1 unemployment, lag 2 unemployment, lag 1 inflation, lag 2 inflation. What is the number of observations and why?"
   ]
  },
  {
   "cell_type": "code",
   "execution_count": null,
   "metadata": {},
   "outputs": [],
   "source": []
  },
  {
   "cell_type": "markdown",
   "metadata": {},
   "source": [
    "#### Q40. State and test the no-Granger causality hypothesis of unemployment on GDP at the 1% level."
   ]
  },
  {
   "cell_type": "code",
   "execution_count": null,
   "metadata": {},
   "outputs": [],
   "source": []
  },
  {
   "cell_type": "markdown",
   "metadata": {},
   "source": [
    "#### Q41. Divide the sample in two groups: 1900-1960 and 1961-2000. Test the stability of coefficients between the two periods."
   ]
  },
  {
   "cell_type": "code",
   "execution_count": null,
   "metadata": {},
   "outputs": [],
   "source": []
  },
  {
   "cell_type": "markdown",
   "metadata": {},
   "source": [
    "#### Q42. Test the structural breakpoint using a trim ratio of 30% at the 1% level."
   ]
  },
  {
   "cell_type": "code",
   "execution_count": null,
   "metadata": {},
   "outputs": [],
   "source": []
  }
 ],
 "metadata": {
  "kernelspec": {
   "display_name": "base",
   "language": "python",
   "name": "python3"
  },
  "language_info": {
   "codemirror_mode": {
    "name": "ipython",
    "version": 3
   },
   "file_extension": ".py",
   "mimetype": "text/x-python",
   "name": "python",
   "nbconvert_exporter": "python",
   "pygments_lexer": "ipython3",
   "version": "3.11.4"
  }
 },
 "nbformat": 4,
 "nbformat_minor": 2
}
